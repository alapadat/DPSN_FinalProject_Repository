{
 "cells": [
  {
   "cell_type": "markdown",
   "id": "24d2098c",
   "metadata": {},
   "source": [
    "# Variables Considered\n",
    "\n",
    "## Description\n",
    "A list of every variable consulted during all stages of data analysis. \n",
    "\n",
    "## Purpose\n",
    "I included this list to maximize transparency and reproducibility.\n",
    "\n",
    "### Identifiers and Flags\n",
    "\n",
    "`H_SEQ` Household Identifier\n",
    "\n",
    "`PPPOS` Unique person identifier\n",
    "\n",
    "  When used together,`H_SEQ` and `PPPOS` can be combined to create an identifier that is unique to a person's household and family. These variables are kept for future model fitting and testing etc.\n",
    "\n",
    "`A_CIVLF` Civilian Labor Force \n",
    "\n",
    "  Select \"1\" to exclude all people in armed forces to reduce variance.\n",
    "\n",
    "  0 = NIU\n",
    "  1 = In universe\n",
    "\n",
    "`PRERELG` Earning eligibility flag\n",
    "\n",
    "  Defines a person as \"Earnings-Eligible.\" (whether the total household earns below a certain amount of money. This can be calculated by taking PRERELG == 1 for the whole population (out of an abundance of caution) and determining the maximum value.)\n",
    "  \n",
    "  0 = No\n",
    "  1 = Yes\n",
    "  \n",
    "### Employment\n",
    "\n",
    "`A_FTLF` Full time labor force\n",
    "\n",
    "  0 = NIU\n",
    "  1 = FTLF\n",
    "\n",
    "`PEMLR` Major Labor Force Category\n",
    "\n",
    "  * 0 = NIO\n",
    "  * 1 = Employed, at work\n",
    "  * 2 = Employed, absent\n",
    "  * 3 = Unemployed - on layoff\n",
    "  * 4 = Unemployed - looking\n",
    "  * 5 = Not in labor force - retired\n",
    "  * 6 = Not in labor force - disabled\n",
    "  * 7 = Not in labor force - other\n",
    "\n",
    "`A_EXPLF` Experienced labor force\n",
    "\n",
    "  Definition: has this person worked a job before? 0 = No, 1 = Yes\n",
    "\n",
    "  * 0 = Not in experienced labor force\n",
    "  * 1 = Employed\n",
    "  * 2 = Unemployed\n",
    "\n",
    "`A_PAYABS` Pay for time off\n",
    "\n",
    "  0 = Not in universe/children and Armed Forces\n",
    "  1 = Yes\n",
    "  2 = No\n",
    "  3 = Self-employed\n",
    "\n",
    "`PRDISC` Discouraged worker\n",
    "\n",
    "  0 = NIU\n",
    "  1 = Discouraged worker\n",
    "  2 = Conditionally interested\n",
    "  3 = Not available\n",
    "\n",
    "`A_HRS1` Hours worked last week at all jobs\n",
    "\n",
    "  -1 = Not in universe\n",
    "  00 = Children and Armed Forces\n",
    "  01-99 = Number of hr\n",
    "\n",
    "`PEHRUSLT` Hours worked last week\n",
    "\n",
    "  Note: Measure added after Hypothesis 2.\n",
    "\n",
    "  -4 = Hours vary\n",
    "  -1 = NIU - adult civilian\n",
    "  000 = NIU - children or Armed Forces or no hours\n",
    "  1-198 = # of hours\n",
    "\n",
    "`A_GRSWK` Gross Weekly pay\n",
    "\n",
    "  The amount an individual makes at one of their jobs (ASEC dictionary phrasing: \"this job\") prior to deductions.\n",
    "\n",
    "  Note: Measure added after Hypothesis 2.\n",
    "  \n",
    "  0000 = NIU/Children or armed forces\n",
    "  0001-2885 = Dollar amount\n",
    "  \n",
    "`PRUNTYPE` On the job, is X covered by a union association/contract?\n",
    "  0 = Not in universe or children and Armed Forces\n",
    "  1 = Yes\n",
    "  2 = No\n",
    "  \n",
    "'A_UNCOV' On the job, is X covered by a union association/contract?\n",
    "  0 = Not in universe or children and Armed Forces\n",
    "  1 = Yes\n",
    "  2 = No\n",
    "  \n",
    "### Poor Job Outcome\n",
    "\n",
    "`PRUNTYPE`\n",
    "\n",
    "  Reason for unemployment\n",
    "  \n",
    "  0 = NIU\n",
    "  1 = Job loser/on layoff\n",
    "  2 = Other job loser\n",
    "  3 = Temporary job ended\n",
    "  4 = Job leaver\n",
    "  5 = Re-entrant\n",
    "  6 = New-entran\n",
    "\n",
    "`PRDISC`\n",
    "  \n",
    "  Discouraged worker code\n",
    "  \n",
    "  0 = NIU\n",
    "  1 = Discouraged worker\n",
    "  2 = Conditionally interested\n",
    "  3 = Not available\n",
    "\n",
    "### Demographic characteristics\n",
    "\n",
    "`A_HGA`\n",
    "\n",
    "  Highest Level of Education Achieved\n",
    "  \n",
    "  0 = Children\n",
    "  31 = Less than 1st grade\n",
    "  32 = 1st,2nd,3rd,or 4th grade\n",
    "  33 = 5th or 6th grade\n",
    "  34 = 7th and 8th grade\n",
    "  35 = 9th grade\n",
    "  36 = 10th grade\n",
    "  37 = 11th grade\n",
    "  38 = 12th grade no diploma\n",
    "  39 = High school graduate - high school diploma or\n",
    "  equivalent\n",
    "  40 = Some college but no degree\n",
    "  41 = Associate degree in college - occupation/vocation\n",
    "  program\n",
    "  42 = Associate degree in college - academic program\n",
    "  43 = Bachelor's degree (for example: BA,AB,BS)\n",
    "  44 = Master's degree (for example:\n",
    "  MA,MS,MENG,MED,MSW, MBA)\n",
    "  45 = Professional school degree (for example:\n",
    "  MD,DDS,DVM,LLB,JD)\n",
    "  46 = Doctorate degree (for example: PHD,EDD)\n",
    "\n",
    "`PRDTRACE` Race\n",
    "\n",
    "  Kept for potential data visualization applications\n",
    "  \n",
    "  01 = White only\n",
    "  02 = Black only\n",
    "  03 = American Indian, Alaskan Native only (AI)\n",
    "  04 = Asian only\n",
    "  05 = Hawaiian/Pacific Islander only (HP)\n",
    "  06 = White-Black\n",
    "  07 = White-AI\n",
    "  08 = White-Asian\n",
    "  09 = White-HP\n",
    "  10 = Black-AI\n",
    "  11 = Black-Asian\n",
    "  12 = Black-HP\n",
    "  13 = AI-Asian\n",
    "  14 = AI-HP\n",
    "  15 = Asian-HP\n",
    "  16 = White-Black-AI\n",
    "  17 = White-Black-Asian\n",
    "  18 = White-Black-HP\n",
    "  19 = White-AI-Asian\n",
    "  20 = White-AI-HP\n",
    "  21 = White-Asian-HP\n",
    "  22 = Black-AI-Asian\n",
    "  23 = White-Black-AI-Asian\n",
    "  24 = White-AI-Asian-HP\n",
    "  25 = Other 3 race comb.\n",
    "  26 = Other 4 or 5 race comb."
   ]
  },
  {
   "cell_type": "markdown",
   "id": "6c9f4eaa",
   "metadata": {},
   "source": [
    "# Important numeric constants\n",
    "\n",
    "- Seed: 666"
   ]
  },
  {
   "cell_type": "code",
   "execution_count": 4,
   "id": "0fe0cd8a",
   "metadata": {},
   "outputs": [],
   "source": [
    "#LOAD DATA\n",
    "\n",
    "setwd(\"C:/Users/roman/OneDrive/Documents/Summer 2023/DSPN/LAPADAT_DSPN_S23_FinalProject/March 2022 CPS Data\")\n",
    "\n",
    "family  <- read.csv(\"ffpub22.csv\")\n",
    "person  <- read.csv(\"pppub22.csv\")"
   ]
  },
  {
   "cell_type": "code",
   "execution_count": 2,
   "id": "5e633b76",
   "metadata": {},
   "outputs": [
    {
     "name": "stderr",
     "output_type": "stream",
     "text": [
      "── \u001b[1mAttaching core tidyverse packages\u001b[22m ──────────────────────────────────────────────────────────────── tidyverse 2.0.0 ──\n",
      "\u001b[32m✔\u001b[39m \u001b[34mdplyr    \u001b[39m 1.1.2     \u001b[32m✔\u001b[39m \u001b[34mreadr    \u001b[39m 2.1.4\n",
      "\u001b[32m✔\u001b[39m \u001b[34mforcats  \u001b[39m 1.0.0     \u001b[32m✔\u001b[39m \u001b[34mstringr  \u001b[39m 1.5.0\n",
      "\u001b[32m✔\u001b[39m \u001b[34mggplot2  \u001b[39m 3.4.2     \u001b[32m✔\u001b[39m \u001b[34mtibble   \u001b[39m 3.2.1\n",
      "\u001b[32m✔\u001b[39m \u001b[34mlubridate\u001b[39m 1.9.2     \u001b[32m✔\u001b[39m \u001b[34mtidyr    \u001b[39m 1.3.0\n",
      "\u001b[32m✔\u001b[39m \u001b[34mpurrr    \u001b[39m 1.0.1     \n",
      "── \u001b[1mConflicts\u001b[22m ────────────────────────────────────────────────────────────────────────────────── tidyverse_conflicts() ──\n",
      "\u001b[31m✖\u001b[39m \u001b[34mdplyr\u001b[39m::\u001b[32mfilter()\u001b[39m masks \u001b[34mstats\u001b[39m::filter()\n",
      "\u001b[31m✖\u001b[39m \u001b[34mdplyr\u001b[39m::\u001b[32mlag()\u001b[39m    masks \u001b[34mstats\u001b[39m::lag()\n",
      "\u001b[36mℹ\u001b[39m Use the conflicted package (\u001b[3m\u001b[34m<http://conflicted.r-lib.org/>\u001b[39m\u001b[23m) to force all conflicts to become errors\n"
     ]
    }
   ],
   "source": [
    "#LOAD LIBRARIES\n",
    "\n",
    "#install.packages(\"tidyverse\")\n",
    "library(tidyverse)"
   ]
  },
  {
   "cell_type": "markdown",
   "id": "538c527a",
   "metadata": {},
   "source": [
    "# Data Cleaning\n",
    "\n",
    "The initial dataset has been optimized to store data in a wide table format. The initial dataset has a *p* of ~8,600: too many variables to reasonably model together, not that anyone should be interested in such a fool's errand to begin with.\n",
    "\n",
    "Many of the variables in this dataset have categorical values that denote exclusion from that variable's universe. It is important to consider this."
   ]
  },
  {
   "cell_type": "markdown",
   "id": "9ca416fe",
   "metadata": {},
   "source": [
    "## Filter out children, armed forces\n",
    "\n",
    "Children and armed forces add additional unwanted variance to an already highly complex dataset. The scope of these analyses is to consider the impact primarily on the labor force, so these variables were filtered out of the dataset."
   ]
  },
  {
   "cell_type": "code",
   "execution_count": 41,
   "id": "198dd509",
   "metadata": {},
   "outputs": [
    {
     "data": {
      "text/html": [
       "<style>\n",
       ".list-inline {list-style: none; margin:0; padding: 0}\n",
       ".list-inline>li {display: inline-block}\n",
       ".list-inline>li:not(:last-child)::after {content: \"\\00b7\"; padding: 0 .5ex}\n",
       "</style>\n",
       "<ol class=list-inline><li>15941</li><li>832</li></ol>\n"
      ],
      "text/latex": [
       "\\begin{enumerate*}\n",
       "\\item 15941\n",
       "\\item 832\n",
       "\\end{enumerate*}\n"
      ],
      "text/markdown": [
       "1. 15941\n",
       "2. 832\n",
       "\n",
       "\n"
      ],
      "text/plain": [
       "[1] 15941   832"
      ]
     },
     "metadata": {},
     "output_type": "display_data"
    },
    {
     "data": {
      "text/html": [
       "<style>\n",
       ".list-inline {list-style: none; margin:0; padding: 0}\n",
       ".list-inline>li {display: inline-block}\n",
       ".list-inline>li:not(:last-child)::after {content: \"\\00b7\"; padding: 0 .5ex}\n",
       "</style>\n",
       "<ol class=list-inline><li>66731</li><li>832</li></ol>\n"
      ],
      "text/latex": [
       "\\begin{enumerate*}\n",
       "\\item 66731\n",
       "\\item 832\n",
       "\\end{enumerate*}\n"
      ],
      "text/markdown": [
       "1. 66731\n",
       "2. 832\n",
       "\n",
       "\n"
      ],
      "text/plain": [
       "[1] 66731   832"
      ]
     },
     "metadata": {},
     "output_type": "display_data"
    }
   ],
   "source": [
    "#MAKE A NEW \"PERSON\" DATASET THAT EXCLUDES CHILDREN, ARMED FORCES\n",
    "\n",
    "# No longer needed once you write the data frame to .csv\n",
    "person_no_children_or_armed_forces  <- person %>%\n",
    "    filter(A_CIVLF != 0)\n",
    "\n",
    "person_primary_income_eligibility  <- person_no_children_or_armed_forces %>%\n",
    "    filter(PRERELG != 0000)\n",
    "\n",
    "dim(person_primary_income_eligibility)\n",
    "\n",
    "person_labor_hours  <- person_no_children_or_armed_forces %>%\n",
    "    filter(PEHRUSLT != -4,\n",
    "          PEHRUSLT != -1,\n",
    "          PEHRUSLT != 000)\n",
    "\n",
    "dim(person_labor_hours)\n",
    "\n",
    "#write.csv(person_no_children_or_armed_forces, \"C:/Users/roman/OneDrive/Documents/Summer 2023/DSPN/LAPADAT_DSPN_S23_FinalProject/Modified Data/no_children_or_armed_forces_pppub22.csv\", row.names=FALSE)\n",
    "\n",
    "# The new data.frame was written to a .csv file to reduce load times, as we will now be pulling directly from the file, \n",
    "# since there is no situation in which we would want or need this filter to be reversed.\n",
    "\n",
    "# The long-ass name was chosen in case we need to add other modifications later. The purpose of this is largely also\n",
    "# to reduce load time, since the inital .csv file, pppub22.csv, is a whopping 288,744 KB. By contrast,\n",
    "# the filtered version is 141,092 KB. \n",
    "\n",
    "# This filter decreases the load size (in KB) by a factor of 2.046. (see cell below) Not bad, huh?"
   ]
  },
  {
   "cell_type": "code",
   "execution_count": 38,
   "id": "95f193ae",
   "metadata": {},
   "outputs": [
    {
     "data": {
      "text/html": [
       "2.04649448586738"
      ],
      "text/latex": [
       "2.04649448586738"
      ],
      "text/markdown": [
       "2.04649448586738"
      ],
      "text/plain": [
       "[1] 2.046494"
      ]
     },
     "metadata": {},
     "output_type": "display_data"
    }
   ],
   "source": [
    "288744/141092 # Division"
   ]
  },
  {
   "cell_type": "code",
   "execution_count": 13,
   "id": "7022528c",
   "metadata": {},
   "outputs": [],
   "source": [
    "setwd(\"C:/Users/roman/OneDrive/Documents/Summer 2023/DSPN/LAPADAT_DSPN_S23_FinalProject/Modified Data\") # Redefine working directory\n",
    "\n",
    "person_no_children_or_armed_forces  <- read.csv(\"no_children_or_armed_forces_pppub22.csv\") # I don't need to tell you what read.csv does."
   ]
  },
  {
   "cell_type": "code",
   "execution_count": 14,
   "id": "9651edf6",
   "metadata": {},
   "outputs": [
    {
     "data": {
      "text/html": [
       "<table class=\"dataframe\">\n",
       "<caption>A data.frame: 6 × 832</caption>\n",
       "<thead>\n",
       "\t<tr><th></th><th scope=col>PERIDNUM</th><th scope=col>PH_SEQ</th><th scope=col>P_SEQ</th><th scope=col>A_LINENO</th><th scope=col>PF_SEQ</th><th scope=col>PHF_SEQ</th><th scope=col>OED_TYP1</th><th scope=col>OED_TYP2</th><th scope=col>OED_TYP3</th><th scope=col>PERRP</th><th scope=col>⋯</th><th scope=col>I_DISVL1</th><th scope=col>I_DISVL2</th><th scope=col>I_SURVL1</th><th scope=col>I_SURVL2</th><th scope=col>MIG_CBST</th><th scope=col>MIG_DSCP</th><th scope=col>DEP_STAT</th><th scope=col>FILEDATE</th><th scope=col>FILESTAT</th><th scope=col>YYYYMM</th></tr>\n",
       "\t<tr><th></th><th scope=col>&lt;dbl&gt;</th><th scope=col>&lt;int&gt;</th><th scope=col>&lt;int&gt;</th><th scope=col>&lt;int&gt;</th><th scope=col>&lt;int&gt;</th><th scope=col>&lt;int&gt;</th><th scope=col>&lt;int&gt;</th><th scope=col>&lt;int&gt;</th><th scope=col>&lt;int&gt;</th><th scope=col>&lt;int&gt;</th><th scope=col>⋯</th><th scope=col>&lt;int&gt;</th><th scope=col>&lt;int&gt;</th><th scope=col>&lt;int&gt;</th><th scope=col>&lt;int&gt;</th><th scope=col>&lt;int&gt;</th><th scope=col>&lt;int&gt;</th><th scope=col>&lt;int&gt;</th><th scope=col>&lt;int&gt;</th><th scope=col>&lt;int&gt;</th><th scope=col>&lt;int&gt;</th></tr>\n",
       "</thead>\n",
       "<tbody>\n",
       "\t<tr><th scope=row>1</th><td>2.022093e+21</td><td>1</td><td>1</td><td>1</td><td>1</td><td>1</td><td>0</td><td>0</td><td>0</td><td>41</td><td>⋯</td><td>0</td><td>0</td><td>0</td><td>0</td><td>0</td><td>0</td><td>0</td><td>72522</td><td>5</td><td>202203</td></tr>\n",
       "\t<tr><th scope=row>2</th><td>2.100059e+21</td><td>5</td><td>1</td><td>1</td><td>1</td><td>1</td><td>0</td><td>0</td><td>0</td><td>40</td><td>⋯</td><td>0</td><td>0</td><td>0</td><td>0</td><td>0</td><td>0</td><td>0</td><td>72522</td><td>1</td><td>202203</td></tr>\n",
       "\t<tr><th scope=row>3</th><td>2.100059e+21</td><td>5</td><td>2</td><td>2</td><td>1</td><td>1</td><td>0</td><td>0</td><td>0</td><td>42</td><td>⋯</td><td>0</td><td>0</td><td>0</td><td>0</td><td>0</td><td>0</td><td>0</td><td>72522</td><td>1</td><td>202203</td></tr>\n",
       "\t<tr><th scope=row>4</th><td>1.410320e+21</td><td>6</td><td>1</td><td>1</td><td>1</td><td>1</td><td>0</td><td>0</td><td>0</td><td>40</td><td>⋯</td><td>0</td><td>0</td><td>0</td><td>0</td><td>0</td><td>0</td><td>0</td><td>72522</td><td>1</td><td>202203</td></tr>\n",
       "\t<tr><th scope=row>5</th><td>1.410320e+21</td><td>6</td><td>2</td><td>2</td><td>1</td><td>1</td><td>0</td><td>0</td><td>0</td><td>42</td><td>⋯</td><td>0</td><td>0</td><td>0</td><td>0</td><td>0</td><td>0</td><td>0</td><td>72522</td><td>1</td><td>202203</td></tr>\n",
       "\t<tr><th scope=row>6</th><td>2.044902e+21</td><td>9</td><td>1</td><td>1</td><td>1</td><td>1</td><td>0</td><td>0</td><td>0</td><td>40</td><td>⋯</td><td>0</td><td>0</td><td>0</td><td>0</td><td>0</td><td>0</td><td>0</td><td>72522</td><td>1</td><td>202203</td></tr>\n",
       "</tbody>\n",
       "</table>\n"
      ],
      "text/latex": [
       "A data.frame: 6 × 832\n",
       "\\begin{tabular}{r|lllllllllllllllllllll}\n",
       "  & PERIDNUM & PH\\_SEQ & P\\_SEQ & A\\_LINENO & PF\\_SEQ & PHF\\_SEQ & OED\\_TYP1 & OED\\_TYP2 & OED\\_TYP3 & PERRP & ⋯ & I\\_DISVL1 & I\\_DISVL2 & I\\_SURVL1 & I\\_SURVL2 & MIG\\_CBST & MIG\\_DSCP & DEP\\_STAT & FILEDATE & FILESTAT & YYYYMM\\\\\n",
       "  & <dbl> & <int> & <int> & <int> & <int> & <int> & <int> & <int> & <int> & <int> & ⋯ & <int> & <int> & <int> & <int> & <int> & <int> & <int> & <int> & <int> & <int>\\\\\n",
       "\\hline\n",
       "\t1 & 2.022093e+21 & 1 & 1 & 1 & 1 & 1 & 0 & 0 & 0 & 41 & ⋯ & 0 & 0 & 0 & 0 & 0 & 0 & 0 & 72522 & 5 & 202203\\\\\n",
       "\t2 & 2.100059e+21 & 5 & 1 & 1 & 1 & 1 & 0 & 0 & 0 & 40 & ⋯ & 0 & 0 & 0 & 0 & 0 & 0 & 0 & 72522 & 1 & 202203\\\\\n",
       "\t3 & 2.100059e+21 & 5 & 2 & 2 & 1 & 1 & 0 & 0 & 0 & 42 & ⋯ & 0 & 0 & 0 & 0 & 0 & 0 & 0 & 72522 & 1 & 202203\\\\\n",
       "\t4 & 1.410320e+21 & 6 & 1 & 1 & 1 & 1 & 0 & 0 & 0 & 40 & ⋯ & 0 & 0 & 0 & 0 & 0 & 0 & 0 & 72522 & 1 & 202203\\\\\n",
       "\t5 & 1.410320e+21 & 6 & 2 & 2 & 1 & 1 & 0 & 0 & 0 & 42 & ⋯ & 0 & 0 & 0 & 0 & 0 & 0 & 0 & 72522 & 1 & 202203\\\\\n",
       "\t6 & 2.044902e+21 & 9 & 1 & 1 & 1 & 1 & 0 & 0 & 0 & 40 & ⋯ & 0 & 0 & 0 & 0 & 0 & 0 & 0 & 72522 & 1 & 202203\\\\\n",
       "\\end{tabular}\n"
      ],
      "text/markdown": [
       "\n",
       "A data.frame: 6 × 832\n",
       "\n",
       "| <!--/--> | PERIDNUM &lt;dbl&gt; | PH_SEQ &lt;int&gt; | P_SEQ &lt;int&gt; | A_LINENO &lt;int&gt; | PF_SEQ &lt;int&gt; | PHF_SEQ &lt;int&gt; | OED_TYP1 &lt;int&gt; | OED_TYP2 &lt;int&gt; | OED_TYP3 &lt;int&gt; | PERRP &lt;int&gt; | ⋯ ⋯ | I_DISVL1 &lt;int&gt; | I_DISVL2 &lt;int&gt; | I_SURVL1 &lt;int&gt; | I_SURVL2 &lt;int&gt; | MIG_CBST &lt;int&gt; | MIG_DSCP &lt;int&gt; | DEP_STAT &lt;int&gt; | FILEDATE &lt;int&gt; | FILESTAT &lt;int&gt; | YYYYMM &lt;int&gt; |\n",
       "|---|---|---|---|---|---|---|---|---|---|---|---|---|---|---|---|---|---|---|---|---|---|\n",
       "| 1 | 2.022093e+21 | 1 | 1 | 1 | 1 | 1 | 0 | 0 | 0 | 41 | ⋯ | 0 | 0 | 0 | 0 | 0 | 0 | 0 | 72522 | 5 | 202203 |\n",
       "| 2 | 2.100059e+21 | 5 | 1 | 1 | 1 | 1 | 0 | 0 | 0 | 40 | ⋯ | 0 | 0 | 0 | 0 | 0 | 0 | 0 | 72522 | 1 | 202203 |\n",
       "| 3 | 2.100059e+21 | 5 | 2 | 2 | 1 | 1 | 0 | 0 | 0 | 42 | ⋯ | 0 | 0 | 0 | 0 | 0 | 0 | 0 | 72522 | 1 | 202203 |\n",
       "| 4 | 1.410320e+21 | 6 | 1 | 1 | 1 | 1 | 0 | 0 | 0 | 40 | ⋯ | 0 | 0 | 0 | 0 | 0 | 0 | 0 | 72522 | 1 | 202203 |\n",
       "| 5 | 1.410320e+21 | 6 | 2 | 2 | 1 | 1 | 0 | 0 | 0 | 42 | ⋯ | 0 | 0 | 0 | 0 | 0 | 0 | 0 | 72522 | 1 | 202203 |\n",
       "| 6 | 2.044902e+21 | 9 | 1 | 1 | 1 | 1 | 0 | 0 | 0 | 40 | ⋯ | 0 | 0 | 0 | 0 | 0 | 0 | 0 | 72522 | 1 | 202203 |\n",
       "\n"
      ],
      "text/plain": [
       "  PERIDNUM     PH_SEQ P_SEQ A_LINENO PF_SEQ PHF_SEQ OED_TYP1 OED_TYP2 OED_TYP3\n",
       "1 2.022093e+21 1      1     1        1      1       0        0        0       \n",
       "2 2.100059e+21 5      1     1        1      1       0        0        0       \n",
       "3 2.100059e+21 5      2     2        1      1       0        0        0       \n",
       "4 1.410320e+21 6      1     1        1      1       0        0        0       \n",
       "5 1.410320e+21 6      2     2        1      1       0        0        0       \n",
       "6 2.044902e+21 9      1     1        1      1       0        0        0       \n",
       "  PERRP ⋯ I_DISVL1 I_DISVL2 I_SURVL1 I_SURVL2 MIG_CBST MIG_DSCP DEP_STAT\n",
       "1 41    ⋯ 0        0        0        0        0        0        0       \n",
       "2 40    ⋯ 0        0        0        0        0        0        0       \n",
       "3 42    ⋯ 0        0        0        0        0        0        0       \n",
       "4 40    ⋯ 0        0        0        0        0        0        0       \n",
       "5 42    ⋯ 0        0        0        0        0        0        0       \n",
       "6 40    ⋯ 0        0        0        0        0        0        0       \n",
       "  FILEDATE FILESTAT YYYYMM\n",
       "1 72522    5        202203\n",
       "2 72522    1        202203\n",
       "3 72522    1        202203\n",
       "4 72522    1        202203\n",
       "5 72522    1        202203\n",
       "6 72522    1        202203"
      ]
     },
     "metadata": {},
     "output_type": "display_data"
    }
   ],
   "source": [
    "#DISPLAY INITIAL TABLES\n",
    "#head(family)\n",
    "head(person_no_children_or_armed_forces)"
   ]
  },
  {
   "cell_type": "markdown",
   "id": "72373267",
   "metadata": {},
   "source": [
    "# Data Visualisations for Cleaning\n",
    "\n",
    "Gross job income by hours worked (per week)\n",
    "\n",
    "## Define Function"
   ]
  },
  {
   "cell_type": "code",
   "execution_count": 62,
   "id": "72d58c8e",
   "metadata": {},
   "outputs": [],
   "source": [
    "x_y_geom_point  <- function(df, x, y, xlab, ylab, title) {\n",
    "    \n",
    "    gg  <- ggplot(data = df, aes(x, y)) +\n",
    "        geom_point() +\n",
    "        labs(y = ylab, x = xlab, title = title)\n",
    "    \n",
    "    return(gg)\n",
    "} \n",
    "\n",
    "# FUNCTION INPUTS\n",
    "\n",
    "# x_y_geom_point: this function takes x and y and plots a geom_point with them.\n",
    "\n",
    "# df = a data.frame\n",
    "# y = a data.frame vector\n",
    "# x = a data.frame vector\n",
    "# ylab = a string, y-axis label\n",
    "# xlab = a string, x-axis label\n",
    "# title = a string, title label\n",
    "\n",
    "#same_damn_plot(person_primary_income_eligibility, person_primary_income_eligibility$A_GRSWK, person_primary_income_eligibility$PEHRUSLT, \n",
    "#               \"Pay\", \"Labor Hours\", \"Weekly Pay/Labor Hours\")"
   ]
  },
  {
   "cell_type": "code",
   "execution_count": 65,
   "id": "019afbab",
   "metadata": {},
   "outputs": [
    {
     "data": {
      "image/png": "[encoded data removed]",
      "text/plain": [
       "plot without title"
      ]
     },
     "metadata": {
      "image/png": {
       "height": 420,
       "width": 420
      }
     },
     "output_type": "display_data"
    }
   ],
   "source": [
    "# PRIOR FILTER: None\n",
    "# ADDED FILTER: children and military, {v != 0000}, let v = variable\n",
    "\n",
    "# PRIORS\n",
    "gross_weekly  <- person_no_children_or_armed_forces$A_GRSWK\n",
    "hours_weekly  <- person_no_children_or_armed_forces$PEHRUSLT\n",
    "\n",
    "# FUNCTION CALL\n",
    "x_y_geom_point(person_no_children_or_armed_forces, hours_weekly, gross_weekly,\n",
    "               \"Labor Hours\", \"Pay\", \"Weekly Pay/Labor Hours\")\n",
    "\n",
    "# Leftoff Note: Circle back to the data visualisation lecture to get a better idea of what to do.\n",
    "# Leftoff Note 2: Run tests to determine data skew (what distribution does the data have? Is it normal? Is it right-skewed? Is it something else?)\n",
    "\n",
    "# Easy prediction 1: part-timers differ systematically from full-time employees in regards to [what?].\n",
    "\n",
    "# Leftoff Note 5/24/23 12:28 PM: It looks like how much people work/week is systematically related to how many hours they work, and fits within predefined ranges (e.g. 30-hour work week, 40-hour work week, etc.)"
   ]
  },
  {
   "cell_type": "markdown",
   "id": "8a904de3",
   "metadata": {},
   "source": [
    "Based on these visualisations, it looks like we have more cleaning to do.\n",
    "\n",
    "- Labor hours: Remove negative value (NIU probably)\n",
    "- Gross pay: Remove 0 value. Uninformative, absurd values. (NIU probably)"
   ]
  },
  {
   "cell_type": "markdown",
   "id": "66dc1f5a",
   "metadata": {},
   "source": [
    "### "
   ]
  },
  {
   "cell_type": "code",
   "execution_count": 31,
   "id": "50d213ca",
   "metadata": {},
   "outputs": [
    {
     "data": {
      "image/png": "[encoded data removed]",
      "text/plain": [
       "plot without title"
      ]
     },
     "metadata": {
      "image/png": {
       "height": 420,
       "width": 420
      }
     },
     "output_type": "display_data"
    }
   ],
   "source": [
    "# PRIOR FILTER: children and armed forces \n",
    "# ADDED FILTER: primary income eligibility {v != 0}, let v = variable\n",
    "\n",
    "# PRIORS\n",
    "gross_weekly  <- person_primary_income_eligibility$A_GRSWK\n",
    "hours_weekly  <- person_primary_income_eligibility$PEHRUSLT\n",
    "\n",
    "# FUNCTION CALL\n",
    "x_y_geom_point(person_primary_income_eligibility, hours_weekly, gross_weekly,\n",
    "               \"Labor Hours\", \"Pay\", \"Weekly Pay/Labor Hours\")"
   ]
  },
  {
   "cell_type": "code",
   "execution_count": 67,
   "id": "ccfc6e20",
   "metadata": {},
   "outputs": [
    {
     "data": {
      "image/png": "[encoded data removed]",
      "text/plain": [
       "plot without title"
      ]
     },
     "metadata": {
      "image/png": {
       "height": 420,
       "width": 420
      }
     },
     "output_type": "display_data"
    }
   ],
   "source": [
    "# PRIOR FILTERS: NO children and armed forces, ONLY primary income eligibility \n",
    "# ADDED FILTER: labor hours {v != -4, -1, 000}\n",
    "\n",
    "# PRIORS\n",
    "gross_weekly  <- person_labor_hours$A_GRSWK\n",
    "hours_weekly  <- person_labor_hours$PEHRUSLT\n",
    "\n",
    "# FUNCTION CALL\n",
    "x_y_geom_point(person_labor_hours, hours_weekly, gross_weekly,\n",
    "               \"Labor Hours\", \"Pay\", \"Weekly Pay/Labor Hours\")"
   ]
  },
  {
   "cell_type": "code",
   "execution_count": 68,
   "id": "84585dda",
   "metadata": {},
   "outputs": [
    {
     "data": {
      "text/html": [
       "<style>\n",
       ".list-inline {list-style: none; margin:0; padding: 0}\n",
       ".list-inline>li {display: inline-block}\n",
       ".list-inline>li:not(:last-child)::after {content: \"\\00b7\"; padding: 0 .5ex}\n",
       "</style>\n",
       "<ol class=list-inline><li>65607</li><li>832</li></ol>\n"
      ],
      "text/latex": [
       "\\begin{enumerate*}\n",
       "\\item 65607\n",
       "\\item 832\n",
       "\\end{enumerate*}\n"
      ],
      "text/markdown": [
       "1. 65607\n",
       "2. 832\n",
       "\n",
       "\n"
      ],
      "text/plain": [
       "[1] 65607   832"
      ]
     },
     "metadata": {},
     "output_type": "display_data"
    },
    {
     "data": {
      "text/html": [
       "0"
      ],
      "text/latex": [
       "0"
      ],
      "text/markdown": [
       "0"
      ],
      "text/plain": [
       "[1] 0"
      ]
     },
     "metadata": {},
     "output_type": "display_data"
    },
    {
     "data": {
      "text/html": [
       "10"
      ],
      "text/latex": [
       "10"
      ],
      "text/markdown": [
       "10"
      ],
      "text/plain": [
       "[1] 10"
      ]
     },
     "metadata": {},
     "output_type": "display_data"
    }
   ],
   "source": [
    "dim(person_labor_hours)\n",
    "min(person_labor_hours$A_GRSWK)\n",
    "min(person_labor_hours$PEHRUSLT) # minimum labor hours for dataset = 10"
   ]
  },
  {
   "cell_type": "code",
   "execution_count": 82,
   "id": "869aa8a4",
   "metadata": {},
   "outputs": [
    {
     "data": {
      "image/png": "[encoded data removed]",
      "text/plain": [
       "plot without title"
      ]
     },
     "metadata": {
      "image/png": {
       "height": 420,
       "width": 420
      }
     },
     "output_type": "display_data"
    }
   ],
   "source": [
    "# PRIOR FILTERS: NO children and armed forces, ONLY primary income eligibility, NEITHER varied work hours nor NIU adult civilians \n",
    "# ADDED FILTER: ONLY income > 0\n",
    "\n",
    "pp_income_over_0  <- person_labor_hours %>% # pp = person dataset, income_over_0 = the last filter applied\n",
    "    filter(A_GRSWK > 0)\n",
    "\n",
    "# PRIORS\n",
    "gross_weekly  <- pp_income_over_0$A_GRSWK\n",
    "hours_weekly  <- pp_income_over_0$PEHRUSLT\n",
    "\n",
    "# FUNCTION CALL\n",
    "x_y_geom_point(pp_income_over_0, hours_weekly, gross_weekly,\n",
    "               \"Labor Hours\", \"Pay\", \"Weekly Pay/Labor Hours\")"
   ]
  },
  {
   "cell_type": "code",
   "execution_count": 72,
   "id": "34451fb5",
   "metadata": {},
   "outputs": [
    {
     "data": {
      "text/html": [
       "<style>\n",
       ".list-inline {list-style: none; margin:0; padding: 0}\n",
       ".list-inline>li {display: inline-block}\n",
       ".list-inline>li:not(:last-child)::after {content: \"\\00b7\"; padding: 0 .5ex}\n",
       "</style>\n",
       "<ol class=list-inline><li>10045</li><li>832</li></ol>\n"
      ],
      "text/latex": [
       "\\begin{enumerate*}\n",
       "\\item 10045\n",
       "\\item 832\n",
       "\\end{enumerate*}\n"
      ],
      "text/markdown": [
       "1. 10045\n",
       "2. 832\n",
       "\n",
       "\n"
      ],
      "text/plain": [
       "[1] 10045   832"
      ]
     },
     "metadata": {},
     "output_type": "display_data"
    },
    {
     "data": {
      "text/html": [
       "1"
      ],
      "text/latex": [
       "1"
      ],
      "text/markdown": [
       "1"
      ],
      "text/plain": [
       "[1] 1"
      ]
     },
     "metadata": {},
     "output_type": "display_data"
    }
   ],
   "source": [
    "dim(person_labor_hours)\n",
    "min(gross_weekly)"
   ]
  },
  {
   "cell_type": "code",
   "execution_count": 83,
   "id": "248bcb74",
   "metadata": {},
   "outputs": [],
   "source": [
    "# WRITE REDEFINED DATA FRAME TO .csv\n",
    "\n",
    "write.csv(pp_income_over_0, \"C:/Users/roman/OneDrive/Documents/Summer 2023/DSPN/LAPADAT_DSPN_S23_FinalProject/Modified Data/income_over_0_pppub22.csv\", row.names=FALSE)"
   ]
  },
  {
   "cell_type": "code",
   "execution_count": 84,
   "id": "37169434",
   "metadata": {},
   "outputs": [],
   "source": [
    "# LOAD REDEFINED DATA FRAME\n",
    "\n",
    "person  <- read.csv(\"income_over_0_pppub22.csv\")"
   ]
  },
  {
   "cell_type": "markdown",
   "id": "feb4192a",
   "metadata": {},
   "source": [
    "**Data Distribution Visualisation**\n",
    "\n",
    "Gross Weekly Income"
   ]
  },
  {
   "cell_type": "code",
   "execution_count": 85,
   "id": "24a09c81",
   "metadata": {
    "scrolled": false
   },
   "outputs": [
    {
     "data": {
      "image/png": "[encoded data removed]",
      "text/plain": [
       "plot without title"
      ]
     },
     "metadata": {
      "image/png": {
       "height": 420,
       "width": 420
      }
     },
     "output_type": "display_data"
    },
    {
     "data": {
      "image/png": "[encoded data removed]",
      "text/plain": [
       "plot without title"
      ]
     },
     "metadata": {
      "image/png": {
       "height": 420,
       "width": 420
      }
     },
     "output_type": "display_data"
    }
   ],
   "source": [
    "gg.distribution  <- ggplot (data = person, aes(A_GRSWK)) + labs(x = \"Gross Weekly Income\") \n",
    "gg.distribution + geom_histogram(bins = 20, fill = \"darkolivegreen4\")\n",
    "gg.distribution + geom_density(fill = \"darkolivegreen3\")"
   ]
  },
  {
   "cell_type": "markdown",
   "id": "0d082bff",
   "metadata": {},
   "source": [
    "**Data Distribution Visualisation**\n",
    "\n",
    "Hours worked weekly"
   ]
  },
  {
   "cell_type": "code",
   "execution_count": 86,
   "id": "3e32d09e",
   "metadata": {},
   "outputs": [
    {
     "data": {
      "image/png": "[encoded data removed]",
      "text/plain": [
       "plot without title"
      ]
     },
     "metadata": {
      "image/png": {
       "height": 420,
       "width": 420
      }
     },
     "output_type": "display_data"
    }
   ],
   "source": [
    "gg.distribution  <- ggplot (data = person, aes(PEHRUSLT)) + labs(x = \"Total Labor Hours per Week\") \n",
    "gg.distribution + geom_histogram(bins = 10, fill = \"burlywood\")"
   ]
  },
  {
   "cell_type": "code",
   "execution_count": 89,
   "id": "0a27d1d0",
   "metadata": {},
   "outputs": [
    {
     "data": {
      "text/html": [
       "<table class=\"dataframe\">\n",
       "<caption>A data.frame: 6 × 3</caption>\n",
       "<thead>\n",
       "\t<tr><th></th><th scope=col>PEHRUSLT</th><th scope=col>A_GRSWK</th><th scope=col>A_FTLF</th></tr>\n",
       "\t<tr><th></th><th scope=col>&lt;int&gt;</th><th scope=col>&lt;int&gt;</th><th scope=col>&lt;int&gt;</th></tr>\n",
       "</thead>\n",
       "<tbody>\n",
       "\t<tr><th scope=row>1</th><td>40</td><td> 923</td><td>1</td></tr>\n",
       "\t<tr><th scope=row>2</th><td>55</td><td>1538</td><td>1</td></tr>\n",
       "\t<tr><th scope=row>3</th><td>50</td><td>2885</td><td>1</td></tr>\n",
       "\t<tr><th scope=row>4</th><td>50</td><td>1000</td><td>1</td></tr>\n",
       "\t<tr><th scope=row>5</th><td>20</td><td> 330</td><td>0</td></tr>\n",
       "\t<tr><th scope=row>6</th><td>50</td><td> 606</td><td>1</td></tr>\n",
       "</tbody>\n",
       "</table>\n"
      ],
      "text/latex": [
       "A data.frame: 6 × 3\n",
       "\\begin{tabular}{r|lll}\n",
       "  & PEHRUSLT & A\\_GRSWK & A\\_FTLF\\\\\n",
       "  & <int> & <int> & <int>\\\\\n",
       "\\hline\n",
       "\t1 & 40 &  923 & 1\\\\\n",
       "\t2 & 55 & 1538 & 1\\\\\n",
       "\t3 & 50 & 2885 & 1\\\\\n",
       "\t4 & 50 & 1000 & 1\\\\\n",
       "\t5 & 20 &  330 & 0\\\\\n",
       "\t6 & 50 &  606 & 1\\\\\n",
       "\\end{tabular}\n"
      ],
      "text/markdown": [
       "\n",
       "A data.frame: 6 × 3\n",
       "\n",
       "| <!--/--> | PEHRUSLT &lt;int&gt; | A_GRSWK &lt;int&gt; | A_FTLF &lt;int&gt; |\n",
       "|---|---|---|---|\n",
       "| 1 | 40 |  923 | 1 |\n",
       "| 2 | 55 | 1538 | 1 |\n",
       "| 3 | 50 | 2885 | 1 |\n",
       "| 4 | 50 | 1000 | 1 |\n",
       "| 5 | 20 |  330 | 0 |\n",
       "| 6 | 50 |  606 | 1 |\n",
       "\n"
      ],
      "text/plain": [
       "  PEHRUSLT A_GRSWK A_FTLF\n",
       "1 40        923    1     \n",
       "2 55       1538    1     \n",
       "3 50       2885    1     \n",
       "4 50       1000    1     \n",
       "5 20        330    0     \n",
       "6 50        606    1     "
      ]
     },
     "metadata": {},
     "output_type": "display_data"
    },
    {
     "data": {
      "text/plain": [
       "\n",
       "Call:\n",
       "glm(formula = PEHRUSLT ~ A_GRSWK, family = Gamma(\"inverse\"), \n",
       "    data = person_select_3vars)\n",
       "\n",
       "Coefficients:\n",
       "              Estimate Std. Error t value Pr(>|t|)    \n",
       "(Intercept)  2.931e-02  1.122e-04  261.33   <2e-16 ***\n",
       "A_GRSWK     -3.337e-06  7.225e-08  -46.18   <2e-16 ***\n",
       "---\n",
       "Signif. codes:  0 '***' 0.001 '**' 0.01 '*' 0.05 '.' 0.1 ' ' 1\n",
       "\n",
       "(Dispersion parameter for Gamma family taken to be 0.0560886)\n",
       "\n",
       "    Null deviance: 776.27  on 10044  degrees of freedom\n",
       "Residual deviance: 664.53  on 10043  degrees of freedom\n",
       "AIC: 74507\n",
       "\n",
       "Number of Fisher Scoring iterations: 4\n"
      ]
     },
     "metadata": {},
     "output_type": "display_data"
    }
   ],
   "source": [
    "#Pre-DA mini-Hypothesis: I predict that part time workers differ systematically from full-time workers.\n",
    "#I suspect this difference is primarily due to part-time workers working fewer hours.\n",
    "\n",
    "\n",
    "pp_select_3vars  <- person %>%\n",
    "    select(PEHRUSLT, A_GRSWK, A_FTLF)\n",
    "    \n",
    "#person_f1  <- person_f1 %>% filter(A_FTLF == A_FTLF[which(person_f1$A_FTLF>0)])\n",
    "\n",
    "\n",
    "#person_f1$PEHRUSLT[which(person_f1$PEHRUSLT>0)]\n",
    "#person_f1$A_FTLF#[which(person_f1$A_FTLF>0)]\n",
    "\n",
    "head(pp_select_3vars)\n",
    "#person_f1\n",
    "\n",
    "glm_hrs_ftlf  <- glm(PEHRUSLT ~ A_GRSWK, data = person_select_3vars, family = Gamma(\"inverse\"))\n",
    "summary(glm_hrs_ftlf) "
   ]
  },
  {
   "cell_type": "code",
   "execution_count": 99,
   "id": "37dd7931",
   "metadata": {},
   "outputs": [],
   "source": [
    "set.seed(666)\n",
    "\n",
    "person_full_time  <- pp_select_3vars %>% \n",
    "    filter(A_FTLF != 0) # Exclude part time labor force\n",
    "\n",
    "person_full_time  <- person_full_time[sample(nrow(person_full_time), 1000), ]\n",
    "\n",
    "\n",
    "person_part_time  <- pp_select_3vars %>%\n",
    "    filter(A_FTLF != 1) # Exclude full time labor force\n",
    "\n",
    "person_part_time  <- person_part_time[sample(nrow(person_part_time), 1000), ]\n",
    "\n",
    "#Use statesticle tests to compare them"
   ]
  },
  {
   "cell_type": "code",
   "execution_count": 100,
   "id": "c201d7b6",
   "metadata": {},
   "outputs": [
    {
     "data": {
      "text/html": [
       "<style>\n",
       ".list-inline {list-style: none; margin:0; padding: 0}\n",
       ".list-inline>li {display: inline-block}\n",
       ".list-inline>li:not(:last-child)::after {content: \"\\00b7\"; padding: 0 .5ex}\n",
       "</style>\n",
       "<ol class=list-inline><li>1000</li><li>3</li></ol>\n"
      ],
      "text/latex": [
       "\\begin{enumerate*}\n",
       "\\item 1000\n",
       "\\item 3\n",
       "\\end{enumerate*}\n"
      ],
      "text/markdown": [
       "1. 1000\n",
       "2. 3\n",
       "\n",
       "\n"
      ],
      "text/plain": [
       "[1] 1000    3"
      ]
     },
     "metadata": {},
     "output_type": "display_data"
    },
    {
     "data": {
      "text/html": [
       "<style>\n",
       ".list-inline {list-style: none; margin:0; padding: 0}\n",
       ".list-inline>li {display: inline-block}\n",
       ".list-inline>li:not(:last-child)::after {content: \"\\00b7\"; padding: 0 .5ex}\n",
       "</style>\n",
       "<ol class=list-inline><li>1000</li><li>3</li></ol>\n"
      ],
      "text/latex": [
       "\\begin{enumerate*}\n",
       "\\item 1000\n",
       "\\item 3\n",
       "\\end{enumerate*}\n"
      ],
      "text/markdown": [
       "1. 1000\n",
       "2. 3\n",
       "\n",
       "\n"
      ],
      "text/plain": [
       "[1] 1000    3"
      ]
     },
     "metadata": {},
     "output_type": "display_data"
    }
   ],
   "source": [
    "# Check dims\n",
    "person_full_time %>%\n",
    "dim()\n",
    "\n",
    "person_part_time %>%\n",
    "dim()"
   ]
  },
  {
   "cell_type": "code",
   "execution_count": 101,
   "id": "7088d800",
   "metadata": {},
   "outputs": [
    {
     "data": {
      "image/png": "[encoded data removed]",
      "text/plain": [
       "plot without title"
      ]
     },
     "metadata": {
      "image/png": {
       "height": 420,
       "width": 420
      }
     },
     "output_type": "display_data"
    },
    {
     "data": {
      "image/png": "[encoded data removed]",
      "text/plain": [
       "plot without title"
      ]
     },
     "metadata": {
      "image/png": {
       "height": 420,
       "width": 420
      }
     },
     "output_type": "display_data"
    }
   ],
   "source": [
    "#Plotting train sets\n",
    "\n",
    "gg_ft  <- ggplot(data = person_full_time, aes(A_GRSWK)) +\n",
    "    geom_density() +\n",
    "    labs(x = \"Gross Weekly Pay\", title = \"Weekly Pay of Full Time Employees\")\n",
    "\n",
    "gg_ft\n",
    "\n",
    "\n",
    "gg_pt  <- ggplot(data = person_part_time, aes(A_GRSWK)) +\n",
    "    geom_density() +\n",
    "    labs(x = \"Gross Weekly Pay\", title = \"Weekly Pay of Part Time Employees\")\n",
    "\n",
    "gg_pt"
   ]
  },
  {
   "cell_type": "code",
   "execution_count": 102,
   "id": "061bfda5",
   "metadata": {},
   "outputs": [
    {
     "data": {
      "text/plain": [
       "\n",
       "\tWilcoxon rank sum test with continuity correction\n",
       "\n",
       "data:  full_time_gross_income and part_time_gross_income\n",
       "W = 903228, p-value < 2.2e-16\n",
       "alternative hypothesis: true location shift is greater than 0\n"
      ]
     },
     "metadata": {},
     "output_type": "display_data"
    }
   ],
   "source": [
    "full_time_gross_income = person_full_time$A_GRSWK\n",
    "part_time_gross_income = person_part_time$A_GRSWK\n",
    "\n",
    "#wilcox.test(full_time_gross_income, part_time_gross_income, alternative = \"two.sided\")\n",
    "wilcox.test(full_time_gross_income, part_time_gross_income, alternative = \"greater\") #x, full time gross income, is > y, part time gross income"
   ]
  },
  {
   "cell_type": "code",
   "execution_count": null,
   "id": "4276c1b2",
   "metadata": {},
   "outputs": [],
   "source": []
  },
  {
   "cell_type": "code",
   "execution_count": null,
   "id": "c63710e8",
   "metadata": {},
   "outputs": [],
   "source": []
  }
 ],
 "metadata": {
  "kernelspec": {
   "display_name": "R",
   "language": "R",
   "name": "ir"
  },
  "language_info": {
   "codemirror_mode": "r",
   "file_extension": ".r",
   "mimetype": "text/x-r-source",
   "name": "R",
   "pygments_lexer": "r",
   "version": "4.3.0"
  }
 },
 "nbformat": 4,
 "nbformat_minor": 5
}
