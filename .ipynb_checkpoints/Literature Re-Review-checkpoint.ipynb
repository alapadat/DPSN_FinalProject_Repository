{
 "cells": [
  {
   "cell_type": "markdown",
   "id": "a3fcae25",
   "metadata": {},
   "source": [
    "# Literature Re-Review\n",
    "\n",
    "* A New Model of Social Class? Findings from the BBC’s Great British Class Survey Experiment\n",
    "https://journals.sagepub.com/doi/full/10.1177/0038038513481128\n",
    "\n",
    "    * British Sociocultural Association\n",
    "    * 4/2/2013\n",
    "\n",
    "* COVID-19 Pandemic Pinches Finances of America’s Lower- and Middle-Income Families\n",
    "https://www.pewresearch.org/social-trends/wp-content/uploads/sites/3/2022/04/PSDT_04.19.22_covid.finances_report.pdf\n",
    "\n",
    "    * Pew Research Center\n",
    "    * 4/20/2022"
   ]
  },
  {
   "cell_type": "markdown",
   "id": "ddfc09dc",
   "metadata": {},
   "source": [
    "A recent report from the Brookings institute finds that, although some degree of economic mobility between wealth quintiles exists, individuals are more likely to stay in their respective qunitiles or move down than to move up. This relationship varies by age; younger people (in their 20s or 30s) are more likely to move up than older people (30s-40s, 40s-50s). This change is greatest from one's 30s to 50s, and nevertheless scant. For people in the 3rd quintile - the middle of the pack - 22% move up to the 4th qunitile, 33% stay in their quintile, while 28% move down to the 2nd or 1st quintiles. (Brookings Institute, 2022) \n",
    "\n",
    "For every 10% increase in starting wealth at age 30, the average American moved up in wealth by 5.6% by age 50 between 1999 and 2019. Therefore, one's current wealth is reasonably predictive of one's past wealth. (Brookings Institute, 2022)\n",
    "\n",
    "Regarding this study's choice to use total household income as an indicator of wealth, and therefore economic class: for the same data, the average person moved up in income by 5.9%. So it is safe to say that income is a robust approximator of wealth.\n",
    "\n",
    "Unsurprisingly though disgusting as ever, the economic mobility for Black people is drastically lower than that of white people, the same Brooking Institute study reports.\n",
    "\n",
    "Holding starting percentile constant, those with a bachelor's degree are more likely to end in a higher percentile by their 50s. \n",
    "\n",
    "https://www.brookings.edu/blog/up-front/2022/06/29/stuck-on-the-ladder-wealth-mobility-is-low-and-decreases-with-age/\n",
    "\n",
    "https://www.brookings.edu/wp-content/uploads/2022/06/2022_FMCI_IntragenerationalWealthMobility_FINAL.pdf"
   ]
  },
  {
   "cell_type": "markdown",
   "id": "d4b4d7d8",
   "metadata": {},
   "source": [
    "- Meet the Low-wage workforce\n",
    "    - https://www.brookings.edu/wp-content/uploads/2019/11/201911_Brookings-Metro_low-wage-workforce_Ross-Bateman.pdf\n",
    "    - Brookings Institute\n",
    "\n",
    "- Income in the United States: 2021\n",
    "    - https://www.census.gov/content/dam/Census/library/publications/2022/demo/p60-276.pdf\n",
    "    - Jessica Semega and Melissa Kollar"
   ]
  }
 ],
 "metadata": {
  "kernelspec": {
   "display_name": "R",
   "language": "R",
   "name": "ir"
  },
  "language_info": {
   "codemirror_mode": "r",
   "file_extension": ".r",
   "mimetype": "text/x-r-source",
   "name": "R",
   "pygments_lexer": "r",
   "version": "4.3.0"
  }
 },
 "nbformat": 4,
 "nbformat_minor": 5
}
