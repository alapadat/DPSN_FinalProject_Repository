{
 "cells": [
  {
   "cell_type": "code",
   "execution_count": 18,
   "id": "58cdb1d7",
   "metadata": {},
   "outputs": [],
   "source": [
    "# LOAD PACKAGES\n",
    "\n",
    "# Package names\n",
    "packages <- c(\"tidyverse\", \"reshape2\", \"class\", \"effects\", \"boot\")\n",
    "\n",
    "# Install packages not yet installed\n",
    "installed_packages <- packages %in% rownames(installed.packages())\n",
    "if (any(installed_packages == FALSE)) {\n",
    "  install.packages(packages[!installed_packages])\n",
    "}\n",
    "\n",
    "# Packages loading\n",
    "invisible(lapply(packages, library, character.only = TRUE))"
   ]
  },
  {
   "cell_type": "markdown",
   "id": "8b0d7009",
   "metadata": {},
   "source": [
    "# Job Quality Indicators and the American Workforce\n",
    "\n",
    "## Motivation\n",
    "\n",
    "This study is motivated by the desire to actively learn more about the American workforce through the application of data science models, methods, and principles.\n",
    "\n",
    "For the average American, life has only gotten worse. Income inequality has risen at dramatic rates as unions were disemboweled, leaving workers to beg alone (and uselessly) for higher salaries; various regulations, including Glass Steagle were rolled back; taxation for the wealthiest Americans decreased. As a result, the middle class has been hollowed out, and the majority of the Americans find themselves on the middle of an island in the bell curve. To their left lie the poor, and to their right lie the upper middle class and the wealthy; and they are less likely than ever to become wealthier, and liklier than ever to become poorer.\n",
    "\n",
    "Wealth is largely measured as the sum of one's assets, and is not largely correlated with income. (PK, 2021) Net worth is the most common measure (described previously) of wealth, and is \"a function of inheritance, past levels of disposable income, the propensity to save, and the return on investments.\" It is \"difficult or impossible\" to measure these factors in a household survey, hence the lack of models that consider causality and wealth. (Lamas and McNeil, 1985). \n",
    "\n",
    "In lieu of such an indicator, household income suffices as a point of reference for economic classification and relative economic clout.\n",
    "\n",
    "A no-brainer correlate would then be income; naturally, there is likely to be a strong and significant correlation between the two. However, in the interest of breaking these things down to a more human level, one could also use pay rate (pay/hour).\n",
    "\n",
    "Pay rate is important in that it represents how much your work is worth; is your work worth $\\$3,200$ a month or $20 an hour? The monthly estimate helps us make sense of how much our labor can pay for, and is also robust in terms of comparing it to someone else. The most digestible, however, is pay rate as an hourly wage. Calculating something, even hypothetically (e.g., salaries), as an hourly pay rate, has one key benefit: it reduces the final estimate, which makes rates easier to compare against each other.\n",
    "\n",
    "For our first hypothesis, household income was used to predict pay rate. Unsurprisingly, there is a very strong correlation between pay rate and income class. Most importantly, this model can be used to roughly classify how stark the differences between the classes.\n",
    "\n",
    "For the data scientist, it is critical that data is systematically, reliably processed. Understanding how this data came to be (e.g., the sampling methods and interview methodologies of the census, the processing of the data in this study itself) is as critical as what the models show us. One of the key metamotivational factors of this study is the desire to accurately convey how it came to its conclusions.\n",
    "\n",
    "## Scope\n",
    "\n",
    "This study is concerned with the conditions of the American working class. For the purposes of this study, working class is synonymous with wage earner. More specifically, a member of the working class is someone whose income comes primarily from wages.\n",
    "\n",
    "If one were to draw a distinction between the working class and the capital-owning class (people who make most of their money through labor vs. people who make most of their money through capital gains), it would be: if this person lost their job tomorrow, would they be able to rely on their capital investments to not work for an extended period of time? If the answer is no, they are working class. If the answer is yes, they are not. This is a rough qualitative description of the classes at best, but helps to illustrate the position of wage earners by contrasting them to capital earners.\n",
    "\n",
    "The scope of this study is to describe relationships between positive job quality indicators and current job outcome.\n",
    "\n",
    "### Pay Rate\n",
    "\n",
    "This study is primarily concerned with differences in pay rate between different classes of people (based on household income, education, job class, etc.).\n",
    "\n",
    "Pay rate is calculated as a function of income earned per week divided by hours worked per week:\n",
    "\n",
    "$$ \\text{weekly pay rate} =  \\dfrac{income}{hours}$$\n",
    "\n",
    "Pay rate describes, essentially, how much money an individual makes per hour, regardless of whether they are paid hourly. This allows us to view the overall trend between the categories, and also provides a point of comparison between employees who are paid hourly and those who receive a salary.\n",
    "\n",
    "Note that there is a very large difference between the pay rates of hourly and salaried employees: salaried employees systematically receive a higher pay rate.\n",
    "\n",
    "## Data Auditing and Cleansing\n",
    "\n",
    "Data was filtered to more accurately approximate the population of interest, Americans who earn the majority of their income through wages or salaries.\n",
    "\n",
    "## Hypotheses\n",
    "\n",
    "### Hypothesis 1: the income class-only hypothesis\n",
    "\n",
    "Pay rate is a measure of hourly income. Economic class, which this study simplifies into lower, upper, and middle economic class, is determined by adjusted household income. Classification is detemined by the adjusted income of a household relatice to the median adjusted household income of the sample.\n",
    "\n",
    "Economic mobility in the United States it at a historic low. (Citation needed) Research indicates that the quality of a current individual's job is greatly determined by that individual's starting wealth, which can be used to capitalize on networking and other opportunities that require capital investment that is easier to achieve for individuals with higher starting capital. (Citation needed)\n",
    "\n",
    "Hypothesis 1 posits that the pay rate of working Americans is explained to a great degree by current income class.\n",
    "1. Lower-income status is associated with the least pay rate.\n",
    "2. Upper-income status is associated with the highest pay rate.\n",
    "\n",
    "This hypothesis is likely to be true due to the causal relationship between job income and household income. For one-person households, or households where one individual earns a the majority of income, the job income of that individual will largely determine their household, and therefore their income class.\n",
    "\n",
    "If hypothesis 1 is true, it indicates that your current pay rate is strongly related to the income of the household you belonged to last year (household income is actually a measure of the previous year's household income).\n",
    "\n",
    "#### Hypothesis 1: functional form\n",
    "\n",
    "$$f(x) = \\beta_{0} + \\beta_{middle-income}X_{middle-income} + \\beta_{upper-income}X_{upper-income} +\\epsilon_{income}, $$\n",
    "\n",
    "Where $\\beta_{0}+\\epsilon_{income}$ is the baseline term and represents the coefficient estimate for lower-income people."
   ]
  },
  {
   "cell_type": "code",
   "execution_count": 19,
   "id": "b694de61",
   "metadata": {},
   "outputs": [
    {
     "data": {
      "text/html": [
       "<style>\n",
       ".list-inline {list-style: none; margin:0; padding: 0}\n",
       ".list-inline>li {display: inline-block}\n",
       ".list-inline>li:not(:last-child)::after {content: \"\\00b7\"; padding: 0 .5ex}\n",
       "</style>\n",
       "<ol class=list-inline><li>0</li><li>0.025</li><li>0.05</li><li>0.075</li><li>0.1</li><li>0.125</li><li>0.15</li><li>0.175</li><li>0.2</li><li>0.225</li><li>0.25</li><li>0.275</li><li>0.3</li><li>0.325</li><li>0.35</li><li>0.375</li><li>0.4</li><li>0.425</li><li>0.45</li><li>0.475</li></ol>\n"
      ],
      "text/latex": [
       "\\begin{enumerate*}\n",
       "\\item 0\n",
       "\\item 0.025\n",
       "\\item 0.05\n",
       "\\item 0.075\n",
       "\\item 0.1\n",
       "\\item 0.125\n",
       "\\item 0.15\n",
       "\\item 0.175\n",
       "\\item 0.2\n",
       "\\item 0.225\n",
       "\\item 0.25\n",
       "\\item 0.275\n",
       "\\item 0.3\n",
       "\\item 0.325\n",
       "\\item 0.35\n",
       "\\item 0.375\n",
       "\\item 0.4\n",
       "\\item 0.425\n",
       "\\item 0.45\n",
       "\\item 0.475\n",
       "\\end{enumerate*}\n"
      ],
      "text/markdown": [
       "1. 0\n",
       "2. 0.025\n",
       "3. 0.05\n",
       "4. 0.075\n",
       "5. 0.1\n",
       "6. 0.125\n",
       "7. 0.15\n",
       "8. 0.175\n",
       "9. 0.2\n",
       "10. 0.225\n",
       "11. 0.25\n",
       "12. 0.275\n",
       "13. 0.3\n",
       "14. 0.325\n",
       "15. 0.35\n",
       "16. 0.375\n",
       "17. 0.4\n",
       "18. 0.425\n",
       "19. 0.45\n",
       "20. 0.475\n",
       "\n",
       "\n"
      ],
      "text/plain": [
       " [1] 0.000 0.025 0.050 0.075 0.100 0.125 0.150 0.175 0.200 0.225 0.250 0.275\n",
       "[13] 0.300 0.325 0.350 0.375 0.400 0.425 0.450 0.475"
      ]
     },
     "metadata": {},
     "output_type": "display_data"
    },
    {
     "data": {
      "image/png": "[encoded data removed]",
      "text/plain": [
       "plot without title"
      ]
     },
     "metadata": {
      "image/png": {
       "height": 420,
       "width": 420
      }
     },
     "output_type": "display_data"
    }
   ],
   "source": [
    "pay  <- seq(0, 3000, 1)\n",
    "hrs  <- 40\n",
    "pay_rate  <- pay/hrs\n",
    "head(pay_rate, 20)\n",
    "plot(y = pay_rate, x = pay)"
   ]
  },
  {
   "cell_type": "markdown",
   "id": "c86dd351",
   "metadata": {},
   "source": [
    "The pay rate, given that $hours = 40$ is modeled by the equation $f(x) = \\beta{x}$ where $\\beta{} = .025 \\text{ USD}$ (2.5 cents). Therefore, the pay rate of people who make more money will always be higher than that of those who make less money."
   ]
  },
  {
   "cell_type": "markdown",
   "id": "1cb86aeb",
   "metadata": {},
   "source": [
    "# Variables Considered\n",
    "\n",
    "## Description\n",
    "A list of every variable consulted during all stages of data analysis. \n",
    "\n",
    "## Purpose\n",
    "I included this list to maximize transparency and reproducibility.\n",
    "\n",
    "### Identifiers and Flags\n",
    "\n",
    "`H_SEQ` Household Identifier\n",
    "\n",
    "`PPPOS` Unique person identifier\n",
    "\n",
    "  When used together,`H_SEQ` and `PPPOS` can be combined to create an identifier that is unique to a person's household and family. These variables are kept for future model fitting and testing etc.\n",
    "\n",
    "`A_CIVLF` Civilian Labor Force \n",
    "\n",
    "  Select \"1\" to exclude all people in armed forces to reduce variance.\n",
    "\n",
    " * 0 = NIU\n",
    " * 1 = In universe\n",
    "\n",
    "`PRERELG` Earning eligibility flag\n",
    "\n",
    "  Defines a person as \"Earnings-Eligible.\" (whether the total household earns below a certain amount of money. This can be calculated by taking PRERELG == 1 for the whole population (out of an abundance of caution) and determining the maximum value.)\n",
    "  \n",
    " * 0 = No\n",
    " * 1 = Yes\n",
    "  \n",
    "### Employment\n",
    "\n",
    "`A_FTLF` Full time labor force\n",
    "\n",
    " * 0 = NIU\n",
    " * 1 = FTLF\n",
    "\n",
    "`PEMLR` Major Labor Force Category\n",
    "\n",
    "  * 0 = NIO\n",
    "  * 1 = Employed, at work\n",
    "  * 2 = Employed, absent\n",
    "  * 3 = Unemployed - on layoff\n",
    "  * 4 = Unemployed - looking\n",
    "  * 5 = Not in labor force - retired\n",
    "  * 6 = Not in labor force - disabled\n",
    "  * 7 = Not in labor force - other\n",
    "\n",
    "`A_EXPLF` Experienced labor force\n",
    "\n",
    "  Definition: has this person worked a job before? 0 = No, 1 = Yes\n",
    "\n",
    "  * 0 = Not in experienced labor force\n",
    "  * 1 = Employed\n",
    "  * 2 = Unemployed\n",
    "\n",
    "`A_PAYABS` Pay for time off\n",
    "\n",
    " * 0 = Not in universe/children and Armed Forces\n",
    " * 1 = Yes\n",
    " * 2 = No\n",
    " * 3 = Self-employed\n",
    "\n",
    "`PRDISC` Discouraged worker\n",
    "\n",
    " * 0 = NIU\n",
    " * 1 = Discouraged worker\n",
    " * 2 = Conditionally interested\n",
    " * 3 = Not available\n",
    "\n",
    "`A_HRS1` Hours worked last week at all jobs\n",
    "\n",
    " * -1 = Not in universe\n",
    " * 00 = Children and Armed Forces\n",
    " * 01-99 = Number of hr\n",
    "\n",
    "`PEHRUSLT` Hours worked last week\n",
    "\n",
    "  Note: Measure added after Hypothesis 2.\n",
    "\n",
    " * -4 = Hours vary\n",
    " * -1 = NIU - adult civilian\n",
    " * 000 = NIU - children or Armed Forces or no hours\n",
    " * 1-198 = # of hours\n",
    "\n",
    "`A_GRSWK` Gross Weekly pay\n",
    "\n",
    "  The amount an individual makes at one of their jobs (ASEC dictionary phrasing: \"this job\") prior to deductions.\n",
    "\n",
    "  Note: Measure added after Hypothesis 2.\n",
    "  \n",
    " * 0000 = NIU/Children or armed forces\n",
    " * 0001-2885 = Dollar amount\n",
    "  \n",
    "`PRUNTYPE` On the job, is X covered by a union association/contract?\n",
    " * 0 = Not in universe or children and Armed Forces\n",
    " * 1 = Yes\n",
    " * 2 = No\n",
    "  \n",
    "`A_UNCOV` On the job, is X covered by a union association/contract?\n",
    " * 0 = Not in universe or children and Armed Forces\n",
    " * 1 = Yes\n",
    " * 2 = No\n",
    "  \n",
    "### Poor Job Outcome\n",
    "\n",
    "`PRUNTYPE` Reason for unemployment\n",
    "  \n",
    "  * 0 = NIU\n",
    "  * 1 = Job loser/on layoff\n",
    "  * 2 = Other job loser\n",
    "  * 3 = Temporary job ended\n",
    "  * 4 = Job leaver\n",
    "  * 5 = Re-entrant\n",
    "  * 6 = New-entran\n",
    "\n",
    "`PRDISC`\n",
    "  \n",
    "  Discouraged worker code\n",
    "  \n",
    " * 0 = NIU\n",
    " * 1 = Discouraged worker\n",
    " * 2 = Conditionally interested\n",
    " * 3 = Not available\n",
    "\n",
    "### Demographic characteristics\n",
    "\n",
    "`A_HGA`\n",
    "\n",
    "  Highest Level of Education Achieved\n",
    "  \n",
    " * 0 = Children\n",
    " * 31 = Less than 1st grade\n",
    " * 32 = 1st,2nd,3rd,or 4th grade\n",
    " * 33 = 5th or 6th grade\n",
    " * 34 = 7th and 8th grade\n",
    " * 35 = 9th grade\n",
    " * 36 = 10th grade\n",
    " * 37 = 11th grade\n",
    " * 38 = 12th grade no diploma\n",
    " * 39 = High school graduate - high school diploma or\n",
    "  equivalent\n",
    " * 40 = Some college but no degree\n",
    " * 41 = Associate degree in college - occupation/vocation\n",
    "  program\n",
    " * 42 = Associate degree in college - academic program\n",
    " * 43 = Bachelor's degree (for example: BA,AB,BS)\n",
    " * 44 = Master's degree (for example:\n",
    "  MA,MS,MENG,MED,MSW, MBA)\n",
    " * 45 = Professional school degree (for example:\n",
    "  MD,DDS,DVM,LLB,JD)\n",
    " * 46 = Doctorate degree (for example: PHD,EDD)\n",
    "\n",
    "`PRDTRACE` Race\n",
    "\n",
    "  Kept for potential data visualization applications\n",
    "  \n",
    " * 01 = White only\n",
    " * 02 = Black only\n",
    " * 03 = American Indian, Alaskan Native only (AI)\n",
    " * 04 = Asian only\n",
    " * 05 = Hawaiian/Pacific Islander only (HP)\n",
    " * 06 = White-Black\n",
    " * 07 = White-AI\n",
    " * 08 = White-Asian\n",
    " * 09 = White-HP\n",
    " * 10 = Black-AI\n",
    " * 11 = Black-Asian\n",
    " * 12 = Black-HP\n",
    " * 13 = AI-Asian\n",
    " * 14 = AI-HP\n",
    " * 15 = Asian-HP\n",
    " * 16 = White-Black-AI\n",
    " * 17 = White-Black-Asian\n",
    " * 18 = White-Black-HP\n",
    " * 19 = White-AI-Asian\n",
    " * 20 = White-AI-HP\n",
    " * 21 = White-Asian-HP\n",
    " * 22 = Black-AI-Asian\n",
    " * 23 = White-Black-AI-Asian\n",
    " * 24 = White-AI-Asian-HP\n",
    " * 25 = Other 3 race comb.\n",
    " * 26 = Other 4 or 5 race comb."
   ]
  },
  {
   "cell_type": "markdown",
   "id": "65b659c2",
   "metadata": {},
   "source": [
    "# Important numeric constants\n",
    "\n",
    "- Seed: 666"
   ]
  },
  {
   "cell_type": "code",
   "execution_count": 20,
   "id": "480baa7f",
   "metadata": {},
   "outputs": [],
   "source": [
    "#SETTING SEED\n",
    "set.seed(666) #Set seed at the beginning of the notebook, once."
   ]
  },
  {
   "cell_type": "code",
   "execution_count": 21,
   "id": "57c425e5",
   "metadata": {},
   "outputs": [],
   "source": [
    "# SET INITIAL WORKING DIRECTORY\n",
    "setwd(\"C:/Users/roman/OneDrive/Documents/Summer 2023/DSPN/LAPADAT_DSPN_S23_FinalProject/March 2022 CPS Data\")"
   ]
  },
  {
   "cell_type": "code",
   "execution_count": 22,
   "id": "0fe0cd8a",
   "metadata": {},
   "outputs": [],
   "source": [
    "# LOAD DATA\n",
    "person  <- read.csv(\"pppub22.csv\")"
   ]
  },
  {
   "cell_type": "markdown",
   "id": "bc79989b",
   "metadata": {},
   "source": [
    "# Initial Data Cleaning\n",
    "\n",
    "The initial dataset has been optimized to store data in a wide table format. The initial dataset has a *p* of ~8,600: too many variables to reasonably model together, not that anyone should be interested in such a fool's errand to begin with.\n",
    "\n",
    "Many of the variables in this dataset have categorical values that denote exclusion from that variable's universe. It is important to consider this.\n",
    "\n",
    "## Filter out children, armed forces\n",
    "\n",
    "Children and armed forces add additional unwanted variance to an already highly complex dataset. The scope of these analyses is to consider the impact primarily on the labor force, so these variables were filtered out of the dataset.\n",
    "\n",
    "## Filter out adult civilians with no work hours and varying work hours, or otherwise not in universe\n",
    "\n",
    "This filter removes adult civilians who do not work, as well as people with varying work hours, as they add additional variance to our dataset and are not our population of interest."
   ]
  },
  {
   "cell_type": "code",
   "execution_count": 23,
   "id": "198dd509",
   "metadata": {},
   "outputs": [
    {
     "data": {
      "text/html": [
       "<style>\n",
       ".list-inline {list-style: none; margin:0; padding: 0}\n",
       ".list-inline>li {display: inline-block}\n",
       ".list-inline>li:not(:last-child)::after {content: \"\\00b7\"; padding: 0 .5ex}\n",
       "</style>\n",
       "<ol class=list-inline><li>73863</li><li>832</li></ol>\n"
      ],
      "text/latex": [
       "\\begin{enumerate*}\n",
       "\\item 73863\n",
       "\\item 832\n",
       "\\end{enumerate*}\n"
      ],
      "text/markdown": [
       "1. 73863\n",
       "2. 832\n",
       "\n",
       "\n"
      ],
      "text/plain": [
       "[1] 73863   832"
      ]
     },
     "metadata": {},
     "output_type": "display_data"
    },
    {
     "data": {
      "text/html": [
       "<style>\n",
       ".list-inline {list-style: none; margin:0; padding: 0}\n",
       ".list-inline>li {display: inline-block}\n",
       ".list-inline>li:not(:last-child)::after {content: \"\\00b7\"; padding: 0 .5ex}\n",
       "</style>\n",
       "<ol class=list-inline><li>66731</li><li>832</li></ol>\n"
      ],
      "text/latex": [
       "\\begin{enumerate*}\n",
       "\\item 66731\n",
       "\\item 832\n",
       "\\end{enumerate*}\n"
      ],
      "text/markdown": [
       "1. 66731\n",
       "2. 832\n",
       "\n",
       "\n"
      ],
      "text/plain": [
       "[1] 66731   832"
      ]
     },
     "metadata": {},
     "output_type": "display_data"
    }
   ],
   "source": [
    "# No longer needed once you write the data frame to .csv\n",
    "\n",
    "# Filter out children, armed forces\n",
    "person_no_children_or_armed_forces  <- person %>%\n",
    "    filter(A_CIVLF != 0) #select only people in the civilian labor force/exclude all children and military\n",
    "\n",
    "dim(person_no_children_or_armed_forces)\n",
    "\n",
    "# Filter out adult civilians, varying work hours, no hours\n",
    "person_labor_hours  <- person_no_children_or_armed_forces %>%\n",
    "    filter(PEHRUSLT != -4,\n",
    "          PEHRUSLT != -1,\n",
    "          PEHRUSLT != 000) #children/armed forces/no hours\n",
    "\n",
    "dim(person_labor_hours)"
   ]
  },
  {
   "cell_type": "markdown",
   "id": "372026d6",
   "metadata": {},
   "source": [
    "## Data Visualisations for Cleaning\n",
    "\n",
    "The filters to `A_CIVLF` and `PEHRUSLT` (Civilian Labor force flag and hours worked/week variable) are self-explanatory, and there should be no issue with them.\n",
    "\n",
    "However, out of an abundance of caution - and a desire to know more about the impact of these filters on the form of our response variable, pay rate, gross weekly pay was plotted against weekly labor hours to visualise how the data changes as filters are applied.\n",
    "\n",
    "*Note: These data visualisations were part of the initial data cleaning process, and helped me determine what the filters did, exactly.*"
   ]
  },
  {
   "cell_type": "code",
   "execution_count": 24,
   "id": "8d9518e6",
   "metadata": {},
   "outputs": [],
   "source": [
    "# FUNCTIONALIZE ggplot2 geom_point\n",
    "\n",
    "x_y_geom_point  <- function(df, x, y, xlab, ylab, title) {\n",
    "    \n",
    "    gg  <- ggplot(data = df, aes(x, y)) +\n",
    "        geom_point() +\n",
    "        labs(y = ylab, x = xlab, title = title)\n",
    "    \n",
    "    return(gg)\n",
    "} \n",
    "\n",
    "# FUNCTION INPUTS\n",
    "\n",
    "# x_y_geom_point: this function takes x and y and plots a geom_point with them.\n",
    "\n",
    "# df = a data.frame\n",
    "# y = a data.frame vector\n",
    "# x = a data.frame vector\n",
    "# ylab = a string, y-axis label\n",
    "# xlab = a string, x-axis label\n",
    "# title = a string, title label"
   ]
  },
  {
   "cell_type": "markdown",
   "id": "582ba54e",
   "metadata": {},
   "source": [
    "### Filter 1: Civilian Labor Force\n",
    "\n",
    "Removing children and armed forces from the data allows us to only consider adult civilians in our analyses. Seeing as our population of interest is adult civilians in the labor force, this decision was simple to make."
   ]
  },
  {
   "cell_type": "code",
   "execution_count": 25,
   "id": "019afbab",
   "metadata": {},
   "outputs": [
    {
     "data": {
      "image/png": "[encoded data removed]",
      "text/plain": [
       "plot without title"
      ]
     },
     "metadata": {
      "image/png": {
       "height": 420,
       "width": 420
      }
     },
     "output_type": "display_data"
    }
   ],
   "source": [
    "# PRIOR FILTER: None\n",
    "# ADDED FILTER: children and military, {v != 0000}, let v = variable\n",
    "\n",
    "# PRIORS\n",
    "gross_weekly  <- person_no_children_or_armed_forces$A_GRSWK\n",
    "hours_weekly  <- person_no_children_or_armed_forces$PEHRUSLT\n",
    "\n",
    "# FUNCTION CALL\n",
    "x_y_geom_point(person_no_children_or_armed_forces, hours_weekly, gross_weekly,\n",
    "               \"Labor Hours\", \"Pay\", \"Weekly Pay/Labor Hours\")"
   ]
  },
  {
   "cell_type": "markdown",
   "id": "3d182971",
   "metadata": {},
   "source": [
    "Note the points at x = -4, x = -1, and x = 0. These are values of labor hours that are not in the universe of labor hours, or represent categorical classes, which add unneeded complexity when considering hours worked/week as a purely quantitative variable."
   ]
  },
  {
   "cell_type": "markdown",
   "id": "4ce3efdd",
   "metadata": {},
   "source": [
    "### Filter 2: Weekly Labor Hours, Strictly Positive\n",
    "\n",
    "**Levels Removed**\n",
    "- x = -4\n",
    "    - Reasoning: Represents \"hours vary\", a factor that does not allow us to consider how much hours vary by. Given that I am interested in considering labor hours as a purely quantitative variable, this level of the variable must be removed.\n",
    "- x = -1\n",
    "    - Reasoning: represents adult civilians who are not in the labor hours universe, therefore they must be excluded.\n",
    "- x = 0\n",
    "    - Reasoning: represents 0 hours worked; to calculate pay rate, one would have to divide by 0. 0 hours worked represents a confusing outlier that does not necessarily add meaning to the interpretation of our data, and therefore the choice was made to remove it."
   ]
  },
  {
   "cell_type": "code",
   "execution_count": 26,
   "id": "d371413d",
   "metadata": {
    "scrolled": false
   },
   "outputs": [
    {
     "data": {
      "image/png": "[encoded data removed]",
      "text/plain": [
       "plot without title"
      ]
     },
     "metadata": {
      "image/png": {
       "height": 420,
       "width": 420
      }
     },
     "output_type": "display_data"
    }
   ],
   "source": [
    "# PRIOR FILTERS: NO children and armed forces, ONLY primary income eligibility \n",
    "# ADDED FILTER: labor hours {v != -4, -1, 000}\n",
    "\n",
    "# PRIORS\n",
    "gross_weekly  <- person_labor_hours$A_GRSWK\n",
    "hours_weekly  <- person_labor_hours$PEHRUSLT\n",
    "\n",
    "# FUNCTION CALL\n",
    "x_y_geom_point(person_labor_hours, hours_weekly, gross_weekly,\n",
    "               \"Labor Hours\", \"Pay\", \"Weekly Pay/Labor Hours\")"
   ]
  },
  {
   "cell_type": "markdown",
   "id": "9e21707a",
   "metadata": {},
   "source": [
    "The remaining issue with the data appears to be that many people are receiving 0 pay. This is nonsensical on its face, as if we are interested in considering people in the labor force, we must make the inherent assumption that they are at least making *some* amount of money. Furthermore, how could one put in 75 labor hours and receive no pay? The absurdity of the previous statement demonstrates the need to filter out people whose pay is equal to zero."
   ]
  },
  {
   "cell_type": "code",
   "execution_count": 27,
   "id": "018a5ab0",
   "metadata": {},
   "outputs": [
    {
     "data": {
      "text/html": [
       "<style>\n",
       ".list-inline {list-style: none; margin:0; padding: 0}\n",
       ".list-inline>li {display: inline-block}\n",
       ".list-inline>li:not(:last-child)::after {content: \"\\00b7\"; padding: 0 .5ex}\n",
       "</style>\n",
       "<ol class=list-inline><li>66731</li><li>832</li></ol>\n"
      ],
      "text/latex": [
       "\\begin{enumerate*}\n",
       "\\item 66731\n",
       "\\item 832\n",
       "\\end{enumerate*}\n"
      ],
      "text/markdown": [
       "1. 66731\n",
       "2. 832\n",
       "\n",
       "\n"
      ],
      "text/plain": [
       "[1] 66731   832"
      ]
     },
     "metadata": {},
     "output_type": "display_data"
    },
    {
     "data": {
      "text/html": [
       "0"
      ],
      "text/latex": [
       "0"
      ],
      "text/markdown": [
       "0"
      ],
      "text/plain": [
       "[1] 0"
      ]
     },
     "metadata": {},
     "output_type": "display_data"
    },
    {
     "data": {
      "text/html": [
       "1"
      ],
      "text/latex": [
       "1"
      ],
      "text/markdown": [
       "1"
      ],
      "text/plain": [
       "[1] 1"
      ]
     },
     "metadata": {},
     "output_type": "display_data"
    }
   ],
   "source": [
    "dim(person_labor_hours)\n",
    "min(person_labor_hours$A_GRSWK)\n",
    "min(person_labor_hours$PEHRUSLT) # minimum labor hours for dataset = 10"
   ]
  },
  {
   "cell_type": "markdown",
   "id": "4bdd641a",
   "metadata": {},
   "source": [
    "### Filter 3: Weekly Income, Strictly Positive\n",
    "\n",
    "The more sensical reason to remove those whose pay is equal to 0 is that these people likely represent those who are unemployed, or for whatever other reason are not included in the \"Gross Weekly Pay\" universe."
   ]
  },
  {
   "cell_type": "code",
   "execution_count": 28,
   "id": "975c65f5",
   "metadata": {},
   "outputs": [
    {
     "data": {
      "image/png": "[encoded data removed]",
      "text/plain": [
       "plot without title"
      ]
     },
     "metadata": {
      "image/png": {
       "height": 420,
       "width": 420
      }
     },
     "output_type": "display_data"
    }
   ],
   "source": [
    "# PRIOR FILTERS: NO children and armed forces, ONLY primary income eligibility, NEITHER varied work hours nor NIU adult civilians \n",
    "# ADDED FILTER: ONLY income > 0\n",
    "\n",
    "pp_income_over_0  <- person_labor_hours %>% # pp = person dataset, income_over_0 = the last filter applied\n",
    "    filter(A_GRSWK > 0)\n",
    "\n",
    "# PRIORS\n",
    "gross_weekly  <- pp_income_over_0$A_GRSWK\n",
    "hours_weekly  <- pp_income_over_0$PEHRUSLT\n",
    "\n",
    "# FUNCTION CALL\n",
    "x_y_geom_point(pp_income_over_0, hours_weekly, gross_weekly,\n",
    "               \"Labor Hours\", \"Pay\", \"Weekly Pay/Labor Hours\")"
   ]
  },
  {
   "cell_type": "code",
   "execution_count": 29,
   "id": "30f3d98b",
   "metadata": {},
   "outputs": [
    {
     "data": {
      "text/html": [
       "<style>\n",
       ".list-inline {list-style: none; margin:0; padding: 0}\n",
       ".list-inline>li {display: inline-block}\n",
       ".list-inline>li:not(:last-child)::after {content: \"\\00b7\"; padding: 0 .5ex}\n",
       "</style>\n",
       "<ol class=list-inline><li>66731</li><li>832</li></ol>\n"
      ],
      "text/latex": [
       "\\begin{enumerate*}\n",
       "\\item 66731\n",
       "\\item 832\n",
       "\\end{enumerate*}\n"
      ],
      "text/markdown": [
       "1. 66731\n",
       "2. 832\n",
       "\n",
       "\n"
      ],
      "text/plain": [
       "[1] 66731   832"
      ]
     },
     "metadata": {},
     "output_type": "display_data"
    },
    {
     "data": {
      "text/html": [
       "<style>\n",
       ".list-inline {list-style: none; margin:0; padding: 0}\n",
       ".list-inline>li {display: inline-block}\n",
       ".list-inline>li:not(:last-child)::after {content: \"\\00b7\"; padding: 0 .5ex}\n",
       "</style>\n",
       "<ol class=list-inline><li>10168</li><li>832</li></ol>\n"
      ],
      "text/latex": [
       "\\begin{enumerate*}\n",
       "\\item 10168\n",
       "\\item 832\n",
       "\\end{enumerate*}\n"
      ],
      "text/markdown": [
       "1. 10168\n",
       "2. 832\n",
       "\n",
       "\n"
      ],
      "text/plain": [
       "[1] 10168   832"
      ]
     },
     "metadata": {},
     "output_type": "display_data"
    },
    {
     "data": {
      "text/html": [
       "1"
      ],
      "text/latex": [
       "1"
      ],
      "text/markdown": [
       "1"
      ],
      "text/plain": [
       "[1] 1"
      ]
     },
     "metadata": {},
     "output_type": "display_data"
    }
   ],
   "source": [
    "dim(person_labor_hours)\n",
    "dim(pp_income_over_0)\n",
    "min(gross_weekly)"
   ]
  },
  {
   "cell_type": "code",
   "execution_count": 30,
   "id": "c3533663",
   "metadata": {
    "scrolled": true
   },
   "outputs": [],
   "source": [
    "# WRITE REDEFINED DATA FRAME TO .csv\n",
    "write.csv(pp_income_over_0, \"C:/Users/roman/OneDrive/Documents/Summer 2023/DSPN/LAPADAT_DSPN_S23_FinalProject/Modified Data/income_over_0_pppub22.csv\", row.names=FALSE)"
   ]
  },
  {
   "cell_type": "code",
   "execution_count": 31,
   "id": "a7d791cc",
   "metadata": {},
   "outputs": [
    {
     "ename": "ERROR",
     "evalue": "Error in eval(expr, envir, enclos): no loop for break/next, jumping to top level\n",
     "output_type": "error",
     "traceback": [
      "Error in eval(expr, envir, enclos): no loop for break/next, jumping to top level\nTraceback:\n"
     ]
    }
   ],
   "source": [
    "break"
   ]
  },
  {
   "cell_type": "code",
   "execution_count": 32,
   "id": "f596732b",
   "metadata": {},
   "outputs": [],
   "source": [
    "# Retreive original household data\n",
    "setwd(\"C:/Users/roman/OneDrive/Documents/Summer 2023/DSPN/LAPADAT_DSPN_S23_FinalProject/March 2022 CPS Data\")\n",
    "household  <- read.csv(\"hhpub22.csv\")"
   ]
  },
  {
   "cell_type": "code",
   "execution_count": 33,
   "id": "74d22a72",
   "metadata": {},
   "outputs": [],
   "source": [
    "#CHANGE WORKING DIRECTORY to user-modified data directory\n",
    "setwd(\"C:/Users/roman/OneDrive/Documents/Summer 2023/DSPN/LAPADAT_DSPN_S23_FinalProject/Modified Data\") # Redefine working directory"
   ]
  },
  {
   "cell_type": "code",
   "execution_count": 34,
   "id": "84c7a786",
   "metadata": {},
   "outputs": [],
   "source": [
    "# LOAD USER-DEFINED PERSON DATA\n",
    "person  <- read.csv(\"income_over_0_pppub22.csv\")"
   ]
  },
  {
   "cell_type": "markdown",
   "id": "f91f8219",
   "metadata": {},
   "source": [
    "# Secondary Filters & Recodes\n",
    "\n",
    "#### Why haven't you renamed the variables yet?\n",
    "\n",
    "Excellent question. I haven't renamed the variables because, at the filtering stage, it's very useful to look up the variable levels, as well as the variables themselves, in the corresponding data dictionary:\n",
    "\n",
    "https://www2.census.gov/programs-surveys/cps/datasets/2022/march/asec2022_ddl_pub_full.pdf\n",
    "\n",
    "It can be easy to forget the CPS ASEC variable names, because they're not particularly intuitive. So I prefer to keep them in their \"original form.\" Worry not - the variables will all be given more intuitive names once they are filtered if necessary. "
   ]
  },
  {
   "cell_type": "code",
   "execution_count": 35,
   "id": "10b6ecba",
   "metadata": {},
   "outputs": [
    {
     "data": {
      "text/html": [
       "<style>\n",
       ".list-inline {list-style: none; margin:0; padding: 0}\n",
       ".list-inline>li {display: inline-block}\n",
       ".list-inline>li:not(:last-child)::after {content: \"\\00b7\"; padding: 0 .5ex}\n",
       "</style>\n",
       "<ol class=list-inline><li>'H_SEQ'</li><li>'PPPOS'</li><li>'A_CIVLF'</li><li>'PEMLR'</li><li>'A_EXPLF'</li><li>'A_PAYABS'</li><li>'PRDISC'</li><li>'PEHRUSLT'</li><li>'PRDTRACE'</li><li>'A_FTLF'</li><li>'A_UNCOV'</li><li>'A_UNMEM'</li><li>'A_GRSWK'</li><li>'A_HGA'</li><li>'A_SEX'</li><li>'A_HRLYWK'</li></ol>\n"
      ],
      "text/latex": [
       "\\begin{enumerate*}\n",
       "\\item 'H\\_SEQ'\n",
       "\\item 'PPPOS'\n",
       "\\item 'A\\_CIVLF'\n",
       "\\item 'PEMLR'\n",
       "\\item 'A\\_EXPLF'\n",
       "\\item 'A\\_PAYABS'\n",
       "\\item 'PRDISC'\n",
       "\\item 'PEHRUSLT'\n",
       "\\item 'PRDTRACE'\n",
       "\\item 'A\\_FTLF'\n",
       "\\item 'A\\_UNCOV'\n",
       "\\item 'A\\_UNMEM'\n",
       "\\item 'A\\_GRSWK'\n",
       "\\item 'A\\_HGA'\n",
       "\\item 'A\\_SEX'\n",
       "\\item 'A\\_HRLYWK'\n",
       "\\end{enumerate*}\n"
      ],
      "text/markdown": [
       "1. 'H_SEQ'\n",
       "2. 'PPPOS'\n",
       "3. 'A_CIVLF'\n",
       "4. 'PEMLR'\n",
       "5. 'A_EXPLF'\n",
       "6. 'A_PAYABS'\n",
       "7. 'PRDISC'\n",
       "8. 'PEHRUSLT'\n",
       "9. 'PRDTRACE'\n",
       "10. 'A_FTLF'\n",
       "11. 'A_UNCOV'\n",
       "12. 'A_UNMEM'\n",
       "13. 'A_GRSWK'\n",
       "14. 'A_HGA'\n",
       "15. 'A_SEX'\n",
       "16. 'A_HRLYWK'\n",
       "\n",
       "\n"
      ],
      "text/plain": [
       " [1] \"H_SEQ\"    \"PPPOS\"    \"A_CIVLF\"  \"PEMLR\"    \"A_EXPLF\"  \"A_PAYABS\"\n",
       " [7] \"PRDISC\"   \"PEHRUSLT\" \"PRDTRACE\" \"A_FTLF\"   \"A_UNCOV\"  \"A_UNMEM\" \n",
       "[13] \"A_GRSWK\"  \"A_HGA\"    \"A_SEX\"    \"A_HRLYWK\""
      ]
     },
     "metadata": {},
     "output_type": "display_data"
    },
    {
     "data": {
      "text/html": [
       "<style>\n",
       ".list-inline {list-style: none; margin:0; padding: 0}\n",
       ".list-inline>li {display: inline-block}\n",
       ".list-inline>li:not(:last-child)::after {content: \"\\00b7\"; padding: 0 .5ex}\n",
       "</style>\n",
       "<ol class=list-inline><li>'H_SEQ'</li><li>'HTOTVAL'</li><li>'H_NUMPER'</li></ol>\n"
      ],
      "text/latex": [
       "\\begin{enumerate*}\n",
       "\\item 'H\\_SEQ'\n",
       "\\item 'HTOTVAL'\n",
       "\\item 'H\\_NUMPER'\n",
       "\\end{enumerate*}\n"
      ],
      "text/markdown": [
       "1. 'H_SEQ'\n",
       "2. 'HTOTVAL'\n",
       "3. 'H_NUMPER'\n",
       "\n",
       "\n"
      ],
      "text/plain": [
       "[1] \"H_SEQ\"    \"HTOTVAL\"  \"H_NUMPER\""
      ]
     },
     "metadata": {},
     "output_type": "display_data"
    }
   ],
   "source": [
    "pp.job_qual <- person %>% \n",
    "    select(H_SEQ = PH_SEQ, PPPOS, A_CIVLF, PEMLR, A_EXPLF, A_PAYABS, PRDISC, \n",
    "           PEHRUSLT, PRDTRACE, A_FTLF, A_UNCOV, A_UNMEM, A_GRSWK, A_HGA, A_SEX, A_HRLYWK)\n",
    "\n",
    "hh  <- household %>% #establishing household variables\n",
    "    select(H_SEQ, HTOTVAL, H_NUMPER)\n",
    "\n",
    "names(pp.job_qual)\n",
    "names(hh)"
   ]
  },
  {
   "cell_type": "code",
   "execution_count": 36,
   "id": "b2ed9f6b",
   "metadata": {
    "scrolled": true
   },
   "outputs": [
    {
     "name": "stderr",
     "output_type": "stream",
     "text": [
      "Warning message in cor(pp.job_qual):\n",
      "\"the standard deviation is zero\"\n"
     ]
    }
   ],
   "source": [
    "# FUNCTIONALIZED CORRELATION TABLE\n",
    "\n",
    "# PREREQUISITES:\n",
    "#cor.jobqual <- cor(pp.job_qual) #take data.frame, return cor (correlation matrix)\n",
    "melt.cor.jobqual <- melt(cor(pp.job_qual)) # take cor, return melted cor\n",
    "\n",
    "# FUNCTION:\n",
    "#Functionalizing correlation table to save time and space later\n",
    "quick_correlation_table  <- function(melted_df, title) {\n",
    "\n",
    "    gg <- ggplot(data = melted_df, aes(x = Var1, y = Var2, fill = value)) +\n",
    "      geom_tile(color = \"white\") +\n",
    "      geom_text( size = 4, color = \"black\", aes(label = round(value, digits = 2))) +\n",
    "      scale_fill_gradient2(low = \"blue\", high = \"red\", limit = c(-1,1)) +\n",
    "      ggtitle(title) +\n",
    "      theme_minimal()\n",
    "\n",
    "    gg <- gg + theme(\n",
    "      plot.title = element_text(color=\"black\", size=14)\n",
    "        )\n",
    "    \n",
    "    return(gg)\n",
    "    }\n",
    "# FUNCTION CALL\n",
    "#quick_correlation_table(melt.cor.jobqual, \"Correlation Table of Starting Variables\")"
   ]
  },
  {
   "cell_type": "markdown",
   "id": "fea2d7db",
   "metadata": {},
   "source": [
    "## Applying full time/part-time labor force split\n",
    "In a section that follows, I demonstrate that there is a systematic difference between the pay rates of part-time and full-time workers.\n",
    "\n",
    "Therefore, I considered that it would be useful to split full and part-time workers into two separate variables, despite the fact that their original variable can account for both."
   ]
  },
  {
   "cell_type": "code",
   "execution_count": 37,
   "id": "33edf4be",
   "metadata": {},
   "outputs": [
    {
     "name": "stdout",
     "output_type": "stream",
     "text": [
      "[1] \"dim pre\"\n",
      "[1] 10168    16\n",
      "[1] \"dim post\"\n",
      "[1] 10168    18\n",
      "[1] \"|\"\n",
      "[1] \"full-time: first 10 values\"\n",
      " [1] 1 1 1 1 0 1 1 1 1 1\n",
      "[1] \"part-time: first 10 values\"\n",
      " [1] 0 0 0 0 1 0 0 0 0 0\n"
     ]
    }
   ],
   "source": [
    "print(\"dim pre\")\n",
    "print(dim(pp.job_qual))\n",
    "\n",
    "pp.job_qual  <- pp.job_qual %>% \n",
    "    mutate(full_time = A_FTLF,\n",
    "          part_time = A_FTLF)\n",
    "\n",
    "pp.job_qual  <- pp.job_qual %>% \n",
    "    mutate(part_time = replace(part_time, part_time == 0, 666), #666 = placeholder value\n",
    "           part_time = replace(part_time, part_time == 1, 0), #replace 1 with 0\n",
    "          part_time = replace(part_time, part_time == 666, 1)) # replace placeholder value\n",
    "\n",
    "print(\"dim post\")\n",
    "print(dim(pp.job_qual))\n",
    "print(paste(\"|\"))\n",
    "print(\"full-time: first 10 values\")\n",
    "print(head(pp.job_qual$full_time, 10))\n",
    "print(\"part-time: first 10 values\") \n",
    "print(head(pp.job_qual$part_time, 10))\n"
   ]
  },
  {
   "cell_type": "markdown",
   "id": "6656f38d",
   "metadata": {},
   "source": [
    "### The correlation heat map\n",
    "\n",
    "Heat maps are a very useful way of guaging the strength and direction of relationships between variables. Blue cells represent negative correlations, red cells represent positive correlations. The greater the opacity of a cell, the smaller the correlation.\n",
    "\n",
    "Now, heat maps may be used for quantitatively qualifying categorical variables. However, as a rule of thumb, a categorical variable cannot be put in a correlation table with a quantitative variable, because often the resulting correlation is a number that does not represent anything.\n",
    "\n",
    "Most of the variables in the dataset are in fact categorical - so why keep using correlation heat maps? The answer, simply put, is that they are somewhat indicative. For instance, any NA correlations between one variable and all others represent singularities. The heat map helps us spot these variables very intuitively, and makes targeting them for removal easily."
   ]
  },
  {
   "cell_type": "code",
   "execution_count": 38,
   "id": "a9d74909",
   "metadata": {},
   "outputs": [
    {
     "name": "stderr",
     "output_type": "stream",
     "text": [
      "Warning message in cor(pp.job_qual):\n",
      "\"the standard deviation is zero\"\n",
      "Warning message:\n",
      "\"\u001b[1m\u001b[22mRemoved 96 rows containing missing values (`geom_text()`).\"\n"
     ]
    },
    {
     "data": {
      "image/png": "[encoded data removed]",
      "text/plain": [
       "plot without title"
      ]
     },
     "metadata": {
      "image/png": {
       "height": 420,
       "width": 420
      }
     },
     "output_type": "display_data"
    }
   ],
   "source": [
    "cor_obj  <- cor(pp.job_qual)\n",
    "\n",
    "melt.cor.jobqual <- melt(cor_obj)\n",
    "quick_correlation_table(melt.cor.jobqual, \"Correlation Table of Starting Variables\")"
   ]
  },
  {
   "cell_type": "markdown",
   "id": "504996de",
   "metadata": {},
   "source": [
    "The variables that classify discouraged workers, experienced workers, and those in the civilian labor force can be removed from our data, as they are either perfectly correlated (singularities) or perfectly uncorrelated (in the case of discouraged workers) with our dataset."
   ]
  },
  {
   "cell_type": "code",
   "execution_count": 39,
   "id": "b2e20a48",
   "metadata": {},
   "outputs": [
    {
     "data": {
      "text/html": [
       "<style>\n",
       ".list-inline {list-style: none; margin:0; padding: 0}\n",
       ".list-inline>li {display: inline-block}\n",
       ".list-inline>li:not(:last-child)::after {content: \"\\00b7\"; padding: 0 .5ex}\n",
       "</style>\n",
       "<ol class=list-inline><li>'H_SEQ'</li><li>'PPPOS'</li><li>'A_CIVLF'</li><li>'PEMLR'</li><li>'A_EXPLF'</li><li>'A_PAYABS'</li><li>'PRDISC'</li><li>'PEHRUSLT'</li><li>'PRDTRACE'</li><li>'A_FTLF'</li><li>'A_UNCOV'</li><li>'A_UNMEM'</li><li>'A_GRSWK'</li><li>'A_HGA'</li><li>'A_SEX'</li><li>'A_HRLYWK'</li><li>'full_time'</li><li>'part_time'</li></ol>\n"
      ],
      "text/latex": [
       "\\begin{enumerate*}\n",
       "\\item 'H\\_SEQ'\n",
       "\\item 'PPPOS'\n",
       "\\item 'A\\_CIVLF'\n",
       "\\item 'PEMLR'\n",
       "\\item 'A\\_EXPLF'\n",
       "\\item 'A\\_PAYABS'\n",
       "\\item 'PRDISC'\n",
       "\\item 'PEHRUSLT'\n",
       "\\item 'PRDTRACE'\n",
       "\\item 'A\\_FTLF'\n",
       "\\item 'A\\_UNCOV'\n",
       "\\item 'A\\_UNMEM'\n",
       "\\item 'A\\_GRSWK'\n",
       "\\item 'A\\_HGA'\n",
       "\\item 'A\\_SEX'\n",
       "\\item 'A\\_HRLYWK'\n",
       "\\item 'full\\_time'\n",
       "\\item 'part\\_time'\n",
       "\\end{enumerate*}\n"
      ],
      "text/markdown": [
       "1. 'H_SEQ'\n",
       "2. 'PPPOS'\n",
       "3. 'A_CIVLF'\n",
       "4. 'PEMLR'\n",
       "5. 'A_EXPLF'\n",
       "6. 'A_PAYABS'\n",
       "7. 'PRDISC'\n",
       "8. 'PEHRUSLT'\n",
       "9. 'PRDTRACE'\n",
       "10. 'A_FTLF'\n",
       "11. 'A_UNCOV'\n",
       "12. 'A_UNMEM'\n",
       "13. 'A_GRSWK'\n",
       "14. 'A_HGA'\n",
       "15. 'A_SEX'\n",
       "16. 'A_HRLYWK'\n",
       "17. 'full_time'\n",
       "18. 'part_time'\n",
       "\n",
       "\n"
      ],
      "text/plain": [
       " [1] \"H_SEQ\"     \"PPPOS\"     \"A_CIVLF\"   \"PEMLR\"     \"A_EXPLF\"   \"A_PAYABS\" \n",
       " [7] \"PRDISC\"    \"PEHRUSLT\"  \"PRDTRACE\"  \"A_FTLF\"    \"A_UNCOV\"   \"A_UNMEM\"  \n",
       "[13] \"A_GRSWK\"   \"A_HGA\"     \"A_SEX\"     \"A_HRLYWK\"  \"full_time\" \"part_time\""
      ]
     },
     "metadata": {},
     "output_type": "display_data"
    },
    {
     "data": {
      "text/html": [
       "<style>\n",
       ".list-inline {list-style: none; margin:0; padding: 0}\n",
       ".list-inline>li {display: inline-block}\n",
       ".list-inline>li:not(:last-child)::after {content: \"\\00b7\"; padding: 0 .5ex}\n",
       "</style>\n",
       "<ol class=list-inline><li>'H_SEQ'</li><li>'PPPOS'</li><li>'PEMLR'</li><li>'A_PAYABS'</li><li>'PEHRUSLT'</li><li>'PRDTRACE'</li><li>'A_FTLF'</li><li>'A_UNCOV'</li><li>'A_UNMEM'</li><li>'A_GRSWK'</li><li>'A_HGA'</li><li>'A_SEX'</li><li>'A_HRLYWK'</li><li>'full_time'</li><li>'part_time'</li></ol>\n"
      ],
      "text/latex": [
       "\\begin{enumerate*}\n",
       "\\item 'H\\_SEQ'\n",
       "\\item 'PPPOS'\n",
       "\\item 'PEMLR'\n",
       "\\item 'A\\_PAYABS'\n",
       "\\item 'PEHRUSLT'\n",
       "\\item 'PRDTRACE'\n",
       "\\item 'A\\_FTLF'\n",
       "\\item 'A\\_UNCOV'\n",
       "\\item 'A\\_UNMEM'\n",
       "\\item 'A\\_GRSWK'\n",
       "\\item 'A\\_HGA'\n",
       "\\item 'A\\_SEX'\n",
       "\\item 'A\\_HRLYWK'\n",
       "\\item 'full\\_time'\n",
       "\\item 'part\\_time'\n",
       "\\end{enumerate*}\n"
      ],
      "text/markdown": [
       "1. 'H_SEQ'\n",
       "2. 'PPPOS'\n",
       "3. 'PEMLR'\n",
       "4. 'A_PAYABS'\n",
       "5. 'PEHRUSLT'\n",
       "6. 'PRDTRACE'\n",
       "7. 'A_FTLF'\n",
       "8. 'A_UNCOV'\n",
       "9. 'A_UNMEM'\n",
       "10. 'A_GRSWK'\n",
       "11. 'A_HGA'\n",
       "12. 'A_SEX'\n",
       "13. 'A_HRLYWK'\n",
       "14. 'full_time'\n",
       "15. 'part_time'\n",
       "\n",
       "\n"
      ],
      "text/plain": [
       " [1] \"H_SEQ\"     \"PPPOS\"     \"PEMLR\"     \"A_PAYABS\"  \"PEHRUSLT\"  \"PRDTRACE\" \n",
       " [7] \"A_FTLF\"    \"A_UNCOV\"   \"A_UNMEM\"   \"A_GRSWK\"   \"A_HGA\"     \"A_SEX\"    \n",
       "[13] \"A_HRLYWK\"  \"full_time\" \"part_time\""
      ]
     },
     "metadata": {},
     "output_type": "display_data"
    }
   ],
   "source": [
    "# FILTER: REMOVE COLUMNS WITH NA CORRELATIONS IN DATASET/GRAY ROWS IN HEATMAP\n",
    "\n",
    "names(pp.job_qual )\n",
    "\n",
    "pp.job_qual  <- pp.job_qual %>%\n",
    "    select(-c(\"PRDISC\", \"A_EXPLF\", \"A_CIVLF\"))\n",
    "\n",
    "names(pp.job_qual)"
   ]
  },
  {
   "cell_type": "markdown",
   "id": "77ebd052",
   "metadata": {},
   "source": [
    "## Union members recode\n",
    "\n",
    "### Initial Code\n",
    "`A_UNMEM`: 0:NIU, 1:Yes, 2:No.\n",
    "### Recode\n",
    "`A_UNMEM`: 0:No, 1:Yes\n",
    "### Reasoning\n",
    " The union membership variable in the above correlation table is negatively correlated with income. That makes no sense, as we know that \"Workers with union representation enjoy a significant pay premium compared to non-union workers.\" (United States Department of Labor). The answer lies in the codes. If yes is coded to a lesser value than no, then the correlation appears to be negative. However, when those codes are flipped, the reverse is true. Both are equally representative of reality. Crucially, the latter method allows us to leverage human heuristics instead of forcing human readers to pause and consider the coding."
   ]
  },
  {
   "cell_type": "code",
   "execution_count": 40,
   "id": "345322d9",
   "metadata": {
    "scrolled": false
   },
   "outputs": [
    {
     "data": {
      "text/html": [
       "<style>\n",
       ".list-inline {list-style: none; margin:0; padding: 0}\n",
       ".list-inline>li {display: inline-block}\n",
       ".list-inline>li:not(:last-child)::after {content: \"\\00b7\"; padding: 0 .5ex}\n",
       "</style>\n",
       "<ol class=list-inline><li>10168</li><li>15</li></ol>\n"
      ],
      "text/latex": [
       "\\begin{enumerate*}\n",
       "\\item 10168\n",
       "\\item 15\n",
       "\\end{enumerate*}\n"
      ],
      "text/markdown": [
       "1. 10168\n",
       "2. 15\n",
       "\n",
       "\n"
      ],
      "text/plain": [
       "[1] 10168    15"
      ]
     },
     "metadata": {},
     "output_type": "display_data"
    }
   ],
   "source": [
    "# FILTER: UNION MEMBERS VS. NON-UNION MEMBERS\n",
    "union_df_b   <- pp.job_qual  %>% \n",
    "    filter(A_UNMEM != 0) #remove NIU (children, armed forces, just in case)\n",
    "\n",
    "dim(union_df_b) # the dim does not change once the NIU value is removed, so we do not lose any of our data\n",
    "                # by applying this filter.\n",
    "\n",
    "union_df   <- pp.job_qual  %>% \n",
    "    select(A_GRSWK, A_UNMEM) %>%\n",
    "    filter(A_UNMEM != 0)"
   ]
  },
  {
   "cell_type": "code",
   "execution_count": 41,
   "id": "41ce2646",
   "metadata": {},
   "outputs": [
    {
     "data": {
      "text/html": [
       "<table class=\"dataframe\">\n",
       "<caption>A data.frame: 6 × 2</caption>\n",
       "<thead>\n",
       "\t<tr><th></th><th scope=col>A_GRSWK</th><th scope=col>A_UNMEM</th></tr>\n",
       "\t<tr><th></th><th scope=col>&lt;int&gt;</th><th scope=col>&lt;dbl&gt;</th></tr>\n",
       "</thead>\n",
       "<tbody>\n",
       "\t<tr><th scope=row>1</th><td> 923</td><td>1</td></tr>\n",
       "\t<tr><th scope=row>2</th><td>1538</td><td>0</td></tr>\n",
       "\t<tr><th scope=row>3</th><td>2885</td><td>0</td></tr>\n",
       "\t<tr><th scope=row>4</th><td>1000</td><td>0</td></tr>\n",
       "\t<tr><th scope=row>5</th><td> 330</td><td>0</td></tr>\n",
       "\t<tr><th scope=row>6</th><td> 606</td><td>1</td></tr>\n",
       "</tbody>\n",
       "</table>\n"
      ],
      "text/latex": [
       "A data.frame: 6 × 2\n",
       "\\begin{tabular}{r|ll}\n",
       "  & A\\_GRSWK & A\\_UNMEM\\\\\n",
       "  & <int> & <dbl>\\\\\n",
       "\\hline\n",
       "\t1 &  923 & 1\\\\\n",
       "\t2 & 1538 & 0\\\\\n",
       "\t3 & 2885 & 0\\\\\n",
       "\t4 & 1000 & 0\\\\\n",
       "\t5 &  330 & 0\\\\\n",
       "\t6 &  606 & 1\\\\\n",
       "\\end{tabular}\n"
      ],
      "text/markdown": [
       "\n",
       "A data.frame: 6 × 2\n",
       "\n",
       "| <!--/--> | A_GRSWK &lt;int&gt; | A_UNMEM &lt;dbl&gt; |\n",
       "|---|---|---|\n",
       "| 1 |  923 | 1 |\n",
       "| 2 | 1538 | 0 |\n",
       "| 3 | 2885 | 0 |\n",
       "| 4 | 1000 | 0 |\n",
       "| 5 |  330 | 0 |\n",
       "| 6 |  606 | 1 |\n",
       "\n"
      ],
      "text/plain": [
       "  A_GRSWK A_UNMEM\n",
       "1  923    1      \n",
       "2 1538    0      \n",
       "3 2885    0      \n",
       "4 1000    0      \n",
       "5  330    0      \n",
       "6  606    1      "
      ]
     },
     "metadata": {},
     "output_type": "display_data"
    },
    {
     "data": {
      "image/png": "[encoded data removed]",
      "text/plain": [
       "plot without title"
      ]
     },
     "metadata": {
      "image/png": {
       "height": 420,
       "width": 420
      }
     },
     "output_type": "display_data"
    }
   ],
   "source": [
    "# Recode take 1\n",
    "union_df  <- union_df  %>% \n",
    "    mutate(A_UNMEM = replace(A_UNMEM, A_UNMEM == 2, 0)) #flip position of \"No\" relative to \"Yes.\" Relationship otherwise held constant.\n",
    "\n",
    "head(union_df)\n",
    "\n",
    "# Recode boxplot\n",
    "gg  <- ggplot(data = union_df, aes(group = A_UNMEM, A_GRSWK))\n",
    "gg + geom_boxplot(aes(fill = A_UNMEM))"
   ]
  },
  {
   "cell_type": "markdown",
   "id": "720fe27b",
   "metadata": {},
   "source": [
    "This boxplot, which uses the new coding for union members, matches what we would expect to see, given the literature on the salary benefits of unions: the median pay, as well as the 1st-3rd interquartile range for union members (Light blue, `A_UNMEM = 1`), is relatively higher than that of non-union members (Dark blue, `A_UNMEM = 0`)."
   ]
  },
  {
   "cell_type": "code",
   "execution_count": 42,
   "id": "92f1f8ea",
   "metadata": {},
   "outputs": [
    {
     "data": {
      "text/html": [
       "0.0722573549996867"
      ],
      "text/latex": [
       "0.0722573549996867"
      ],
      "text/markdown": [
       "0.0722573549996867"
      ],
      "text/plain": [
       "[1] 0.07225735"
      ]
     },
     "metadata": {},
     "output_type": "display_data"
    }
   ],
   "source": [
    "cor_income_union  <- cor(union_df) # Confirmatory correlation output\n",
    "cor_income_union[1,2] # Extract correlation between union membership and gross weekly income"
   ]
  },
  {
   "cell_type": "markdown",
   "id": "3133a19f",
   "metadata": {},
   "source": [
    "This correlation shows us that the relationship between `A_UNMEM` and `A_GRSWK` has been equivalently flipped (same correlation but positive)."
   ]
  },
  {
   "cell_type": "markdown",
   "id": "f092c8c0",
   "metadata": {},
   "source": [
    "## Union Coverage vs. Union Membership\n",
    "`A_UNCOV` and `A_UNMEM` are similar, but with one important qualitative difference. Union membership implies coverage, while non-union membership does not, so coverage is accounted for separately via the union coverage, `A_UNCOV` variable. \n",
    "\n",
    "### Union Membership\n",
    "#### Levels\n",
    "\n",
    "* 1 - Yes (Implies Union Coverage = Yes)\n",
    "* 0 - No\n",
    "\n",
    "### Union Coverage\n",
    "#### Levels\n",
    "\n",
    "* 0 - NIU (Implies Union Membership)\n",
    "* 1 - Yes (Union Coverage)\n",
    "* 2 - No (Implies no union membership and/or coverage)"
   ]
  },
  {
   "cell_type": "markdown",
   "id": "467abb42",
   "metadata": {},
   "source": [
    "## Absentee Pay Recode\n",
    "\n",
    "### Initial Code\n",
    "`A_PAYABS`: 0:NIU, 1:Yes, 2:No, 3:Self-employed.\n",
    "### Recode\n",
    "`A_PAYABS`: 0:NIU, 1:No, 2:Yes\n",
    "### Reasoning\n",
    "Heuristic-friendly. Excluding 0:NIU excludes everyone who is not currently absent from work. We don't want to do that because we not interested in solely analyzing this category.\n",
    "\n",
    "The primary focus of this data analysis is to determine relationships between different classes of wage-earners, and self-employed people are not wage-earners. They have a different implicit relationship to their means of production. Where an employee at any given company is more likely to use company resources as their means of production, self-employed people typically acquire their own tools, software, etc., which means they may be more likely to have their own means of production. By that metric, their means of production are likely to be systematically different, in that self-employed people are more likely to own the means of their own production vs. the employed. This likely significant difference provides additional grounds for their exclusion, beyond their pay not being defined by the traditional wage."
   ]
  },
  {
   "cell_type": "code",
   "execution_count": 43,
   "id": "bad81c7a",
   "metadata": {},
   "outputs": [
    {
     "data": {
      "text/html": [
       "<style>\n",
       ".list-inline {list-style: none; margin:0; padding: 0}\n",
       ".list-inline>li {display: inline-block}\n",
       ".list-inline>li:not(:last-child)::after {content: \"\\00b7\"; padding: 0 .5ex}\n",
       "</style>\n",
       "<ol class=list-inline><li>10168</li><li>15</li></ol>\n"
      ],
      "text/latex": [
       "\\begin{enumerate*}\n",
       "\\item 10168\n",
       "\\item 15\n",
       "\\end{enumerate*}\n"
      ],
      "text/markdown": [
       "1. 10168\n",
       "2. 15\n",
       "\n",
       "\n"
      ],
      "text/plain": [
       "[1] 10168    15"
      ]
     },
     "metadata": {},
     "output_type": "display_data"
    },
    {
     "data": {
      "text/html": [
       "<style>\n",
       ".list-inline {list-style: none; margin:0; padding: 0}\n",
       ".list-inline>li {display: inline-block}\n",
       ".list-inline>li:not(:last-child)::after {content: \"\\00b7\"; padding: 0 .5ex}\n",
       "</style>\n",
       "<ol class=list-inline><li>1</li><li>0</li><li>0</li><li>0</li><li>0</li><li>0</li></ol>\n"
      ],
      "text/latex": [
       "\\begin{enumerate*}\n",
       "\\item 1\n",
       "\\item 0\n",
       "\\item 0\n",
       "\\item 0\n",
       "\\item 0\n",
       "\\item 0\n",
       "\\end{enumerate*}\n"
      ],
      "text/markdown": [
       "1. 1\n",
       "2. 0\n",
       "3. 0\n",
       "4. 0\n",
       "5. 0\n",
       "6. 0\n",
       "\n",
       "\n"
      ],
      "text/plain": [
       "[1] 1 0 0 0 0 0"
      ]
     },
     "metadata": {},
     "output_type": "display_data"
    },
    {
     "data": {
      "text/html": [
       "<style>\n",
       ".list-inline {list-style: none; margin:0; padding: 0}\n",
       ".list-inline>li {display: inline-block}\n",
       ".list-inline>li:not(:last-child)::after {content: \"\\00b7\"; padding: 0 .5ex}\n",
       "</style>\n",
       "<ol class=list-inline><li>10168</li><li>15</li></ol>\n"
      ],
      "text/latex": [
       "\\begin{enumerate*}\n",
       "\\item 10168\n",
       "\\item 15\n",
       "\\end{enumerate*}\n"
      ],
      "text/markdown": [
       "1. 10168\n",
       "2. 15\n",
       "\n",
       "\n"
      ],
      "text/plain": [
       "[1] 10168    15"
      ]
     },
     "metadata": {},
     "output_type": "display_data"
    },
    {
     "data": {
      "text/html": [
       "<table class=\"dataframe\">\n",
       "<caption>A data.frame: 6 × 15</caption>\n",
       "<thead>\n",
       "\t<tr><th></th><th scope=col>H_SEQ</th><th scope=col>PPPOS</th><th scope=col>PEMLR</th><th scope=col>A_PAYABS</th><th scope=col>PEHRUSLT</th><th scope=col>PRDTRACE</th><th scope=col>A_FTLF</th><th scope=col>A_UNCOV</th><th scope=col>A_UNMEM</th><th scope=col>A_GRSWK</th><th scope=col>A_HGA</th><th scope=col>A_SEX</th><th scope=col>A_HRLYWK</th><th scope=col>full_time</th><th scope=col>part_time</th></tr>\n",
       "\t<tr><th></th><th scope=col>&lt;int&gt;</th><th scope=col>&lt;int&gt;</th><th scope=col>&lt;int&gt;</th><th scope=col>&lt;int&gt;</th><th scope=col>&lt;int&gt;</th><th scope=col>&lt;int&gt;</th><th scope=col>&lt;int&gt;</th><th scope=col>&lt;int&gt;</th><th scope=col>&lt;int&gt;</th><th scope=col>&lt;int&gt;</th><th scope=col>&lt;int&gt;</th><th scope=col>&lt;int&gt;</th><th scope=col>&lt;int&gt;</th><th scope=col>&lt;int&gt;</th><th scope=col>&lt;dbl&gt;</th></tr>\n",
       "</thead>\n",
       "<tbody>\n",
       "\t<tr><th scope=row>1</th><td> 5</td><td>42</td><td>2</td><td>1</td><td>40</td><td>1</td><td>1</td><td>0</td><td>1</td><td> 923</td><td>43</td><td>2</td><td>1</td><td>1</td><td>0</td></tr>\n",
       "\t<tr><th scope=row>2</th><td> 9</td><td>41</td><td>1</td><td>0</td><td>55</td><td>1</td><td>1</td><td>2</td><td>2</td><td>1538</td><td>44</td><td>2</td><td>1</td><td>1</td><td>0</td></tr>\n",
       "\t<tr><th scope=row>3</th><td> 9</td><td>42</td><td>1</td><td>0</td><td>50</td><td>1</td><td>1</td><td>2</td><td>2</td><td>2885</td><td>42</td><td>1</td><td>2</td><td>1</td><td>0</td></tr>\n",
       "\t<tr><th scope=row>4</th><td>77</td><td>41</td><td>1</td><td>0</td><td>50</td><td>1</td><td>1</td><td>2</td><td>2</td><td>1000</td><td>45</td><td>2</td><td>2</td><td>1</td><td>0</td></tr>\n",
       "\t<tr><th scope=row>5</th><td>77</td><td>42</td><td>1</td><td>0</td><td>20</td><td>1</td><td>0</td><td>2</td><td>2</td><td> 330</td><td>40</td><td>1</td><td>1</td><td>0</td><td>1</td></tr>\n",
       "\t<tr><th scope=row>6</th><td>97</td><td>41</td><td>1</td><td>0</td><td>50</td><td>1</td><td>1</td><td>0</td><td>1</td><td> 606</td><td>43</td><td>2</td><td>1</td><td>1</td><td>0</td></tr>\n",
       "</tbody>\n",
       "</table>\n"
      ],
      "text/latex": [
       "A data.frame: 6 × 15\n",
       "\\begin{tabular}{r|lllllllllllllll}\n",
       "  & H\\_SEQ & PPPOS & PEMLR & A\\_PAYABS & PEHRUSLT & PRDTRACE & A\\_FTLF & A\\_UNCOV & A\\_UNMEM & A\\_GRSWK & A\\_HGA & A\\_SEX & A\\_HRLYWK & full\\_time & part\\_time\\\\\n",
       "  & <int> & <int> & <int> & <int> & <int> & <int> & <int> & <int> & <int> & <int> & <int> & <int> & <int> & <int> & <dbl>\\\\\n",
       "\\hline\n",
       "\t1 &  5 & 42 & 2 & 1 & 40 & 1 & 1 & 0 & 1 &  923 & 43 & 2 & 1 & 1 & 0\\\\\n",
       "\t2 &  9 & 41 & 1 & 0 & 55 & 1 & 1 & 2 & 2 & 1538 & 44 & 2 & 1 & 1 & 0\\\\\n",
       "\t3 &  9 & 42 & 1 & 0 & 50 & 1 & 1 & 2 & 2 & 2885 & 42 & 1 & 2 & 1 & 0\\\\\n",
       "\t4 & 77 & 41 & 1 & 0 & 50 & 1 & 1 & 2 & 2 & 1000 & 45 & 2 & 2 & 1 & 0\\\\\n",
       "\t5 & 77 & 42 & 1 & 0 & 20 & 1 & 0 & 2 & 2 &  330 & 40 & 1 & 1 & 0 & 1\\\\\n",
       "\t6 & 97 & 41 & 1 & 0 & 50 & 1 & 1 & 0 & 1 &  606 & 43 & 2 & 1 & 1 & 0\\\\\n",
       "\\end{tabular}\n"
      ],
      "text/markdown": [
       "\n",
       "A data.frame: 6 × 15\n",
       "\n",
       "| <!--/--> | H_SEQ &lt;int&gt; | PPPOS &lt;int&gt; | PEMLR &lt;int&gt; | A_PAYABS &lt;int&gt; | PEHRUSLT &lt;int&gt; | PRDTRACE &lt;int&gt; | A_FTLF &lt;int&gt; | A_UNCOV &lt;int&gt; | A_UNMEM &lt;int&gt; | A_GRSWK &lt;int&gt; | A_HGA &lt;int&gt; | A_SEX &lt;int&gt; | A_HRLYWK &lt;int&gt; | full_time &lt;int&gt; | part_time &lt;dbl&gt; |\n",
       "|---|---|---|---|---|---|---|---|---|---|---|---|---|---|---|---|\n",
       "| 1 |  5 | 42 | 2 | 1 | 40 | 1 | 1 | 0 | 1 |  923 | 43 | 2 | 1 | 1 | 0 |\n",
       "| 2 |  9 | 41 | 1 | 0 | 55 | 1 | 1 | 2 | 2 | 1538 | 44 | 2 | 1 | 1 | 0 |\n",
       "| 3 |  9 | 42 | 1 | 0 | 50 | 1 | 1 | 2 | 2 | 2885 | 42 | 1 | 2 | 1 | 0 |\n",
       "| 4 | 77 | 41 | 1 | 0 | 50 | 1 | 1 | 2 | 2 | 1000 | 45 | 2 | 2 | 1 | 0 |\n",
       "| 5 | 77 | 42 | 1 | 0 | 20 | 1 | 0 | 2 | 2 |  330 | 40 | 1 | 1 | 0 | 1 |\n",
       "| 6 | 97 | 41 | 1 | 0 | 50 | 1 | 1 | 0 | 1 |  606 | 43 | 2 | 1 | 1 | 0 |\n",
       "\n"
      ],
      "text/plain": [
       "  H_SEQ PPPOS PEMLR A_PAYABS PEHRUSLT PRDTRACE A_FTLF A_UNCOV A_UNMEM A_GRSWK\n",
       "1  5    42    2     1        40       1        1      0       1        923   \n",
       "2  9    41    1     0        55       1        1      2       2       1538   \n",
       "3  9    42    1     0        50       1        1      2       2       2885   \n",
       "4 77    41    1     0        50       1        1      2       2       1000   \n",
       "5 77    42    1     0        20       1        0      2       2        330   \n",
       "6 97    41    1     0        50       1        1      0       1        606   \n",
       "  A_HGA A_SEX A_HRLYWK full_time part_time\n",
       "1 43    2     1        1         0        \n",
       "2 44    2     1        1         0        \n",
       "3 42    1     2        1         0        \n",
       "4 45    2     2        1         0        \n",
       "5 40    1     1        0         1        \n",
       "6 43    2     1        1         0        "
      ]
     },
     "metadata": {},
     "output_type": "display_data"
    }
   ],
   "source": [
    "dim(pp.job_qual) # dim check pre\n",
    "head(pp.job_qual$A_PAYABS)\n",
    "pp.job_qual  <- pp.job_qual %>% \n",
    "    filter(A_PAYABS != 3) # this filter is redundant, dims do not change after filter applied.\n",
    "\n",
    "dim(pp.job_qual) #dim check post\n",
    "\n",
    "head(pp.job_qual)"
   ]
  },
  {
   "cell_type": "markdown",
   "id": "679a4507",
   "metadata": {},
   "source": [
    "It appears that we have already excluded self-employed people! (based on the fact that the dimensions of the data are identical pre and post-filter, see output above) "
   ]
  },
  {
   "cell_type": "code",
   "execution_count": 44,
   "id": "d2a27d84",
   "metadata": {},
   "outputs": [
    {
     "data": {
      "image/png": "[encoded data removed]",
      "text/plain": [
       "plot without title"
      ]
     },
     "metadata": {
      "image/png": {
       "height": 420,
       "width": 420
      }
     },
     "output_type": "display_data"
    }
   ],
   "source": [
    "melt.cor.jobqual <- melt(cor(pp.job_qual)) # take cor, return melted cor\n",
    "quick_correlation_table(melt.cor.jobqual, \"Correlation Table of Starting Variables\")"
   ]
  },
  {
   "cell_type": "code",
   "execution_count": 45,
   "id": "0e73cd33",
   "metadata": {},
   "outputs": [],
   "source": [
    "# RENAMING VARIABLES\n",
    "\n",
    "pp.job_qual <- pp.job_qual %>% \n",
    "        rename(\"income_week\" = \"A_GRSWK\",\n",
    "               \"union_member\" = \"A_UNMEM\",\n",
    "               \"union_coverage\" = \"A_UNCOV\",\n",
    "               \"full_time_flag\" = \"A_FTLF\",\n",
    "              \"hours_week\" = \"PEHRUSLT\",\n",
    "              \"paid_abscence\" = \"A_PAYABS\",\n",
    "              \"labor_code\" = \"PEMLR\",\n",
    "              \"gender_binary\" = \"A_SEX\",\n",
    "              \"education_level\" = \"A_HGA\",\n",
    "              \"race\" = \"PRDTRACE\",\n",
    "              \"paid_hourly\" = \"A_HRLYWK\")\n"
   ]
  },
  {
   "cell_type": "markdown",
   "id": "b6b7dbce",
   "metadata": {},
   "source": [
    "## Coding Categorical Variables as Factors\n",
    "\n",
    "An important step for our dataset is telling R which variables are categorical and which are quantitative. The following code cell applies the \"factor\" classification to any variables in the data set with fewer than 30 unique values."
   ]
  },
  {
   "cell_type": "code",
   "execution_count": 47,
   "id": "31a9992b",
   "metadata": {},
   "outputs": [
    {
     "data": {
      "text/plain": [
       "     H_SEQ           PPPOS        labor_code    paid_abscence    \n",
       " Min.   :    5   Min.   :41.0   Min.   :1.000   Min.   :0.00000  \n",
       " 1st Qu.:22695   1st Qu.:41.0   1st Qu.:1.000   1st Qu.:0.00000  \n",
       " Median :44297   Median :41.0   Median :1.000   Median :0.00000  \n",
       " Mean   :44992   Mean   :41.7   Mean   :1.022   Mean   :0.03314  \n",
       " 3rd Qu.:68291   3rd Qu.:42.0   3rd Qu.:1.000   3rd Qu.:0.00000  \n",
       " Max.   :88866   Max.   :54.0   Max.   :2.000   Max.   :2.00000  \n",
       "   hours_week          race        full_time_flag   union_coverage \n",
       " Min.   :  1.00   Min.   : 1.000   Min.   :0.0000   Min.   :0.000  \n",
       " 1st Qu.: 40.00   1st Qu.: 1.000   1st Qu.:1.0000   1st Qu.:2.000  \n",
       " Median : 40.00   Median : 1.000   Median :1.0000   Median :2.000  \n",
       " Mean   : 39.25   Mean   : 1.457   Mean   :0.8442   Mean   :1.791  \n",
       " 3rd Qu.: 40.00   3rd Qu.: 1.000   3rd Qu.:1.0000   3rd Qu.:2.000  \n",
       " Max.   :104.00   Max.   :26.000   Max.   :1.0000   Max.   :2.000  \n",
       "  union_member    income_week   education_level gender_binary    paid_hourly  \n",
       " Min.   :1.000   Min.   :   1   Min.   :31.00   Min.   :1.000   Min.   :1.00  \n",
       " 1st Qu.:2.000   1st Qu.: 600   1st Qu.:39.00   1st Qu.:1.000   1st Qu.:1.00  \n",
       " Median :2.000   Median : 933   Median :41.00   Median :1.000   Median :1.00  \n",
       " Mean   :1.902   Mean   :1135   Mean   :41.06   Mean   :1.493   Mean   :1.44  \n",
       " 3rd Qu.:2.000   3rd Qu.:1513   3rd Qu.:43.00   3rd Qu.:2.000   3rd Qu.:2.00  \n",
       " Max.   :2.000   Max.   :2885   Max.   :46.00   Max.   :2.000   Max.   :2.00  \n",
       "   full_time        part_time     \n",
       " Min.   :0.0000   Min.   :0.0000  \n",
       " 1st Qu.:1.0000   1st Qu.:0.0000  \n",
       " Median :1.0000   Median :0.0000  \n",
       " Mean   :0.8442   Mean   :0.1558  \n",
       " 3rd Qu.:1.0000   3rd Qu.:0.0000  \n",
       " Max.   :1.0000   Max.   :1.0000  "
      ]
     },
     "metadata": {},
     "output_type": "display_data"
    }
   ],
   "source": [
    "# a brief survey.\n",
    "summary_pre_factor  <- summary(pp.job_qual)\n",
    "summary_pre_factor"
   ]
  },
  {
   "cell_type": "markdown",
   "id": "6f54c211",
   "metadata": {},
   "source": [
    "The code cell below classifies every variable that has fewer than 30 unique observations as a factor."
   ]
  },
  {
   "cell_type": "code",
   "execution_count": 48,
   "id": "ac4ff545",
   "metadata": {},
   "outputs": [
    {
     "data": {
      "text/html": [
       "<style>\n",
       ".list-inline {list-style: none; margin:0; padding: 0}\n",
       ".list-inline>li {display: inline-block}\n",
       ".list-inline>li:not(:last-child)::after {content: \"\\00b7\"; padding: 0 .5ex}\n",
       "</style>\n",
       "<ol class=list-inline><li>10168</li><li>15</li></ol>\n"
      ],
      "text/latex": [
       "\\begin{enumerate*}\n",
       "\\item 10168\n",
       "\\item 15\n",
       "\\end{enumerate*}\n"
      ],
      "text/markdown": [
       "1. 10168\n",
       "2. 15\n",
       "\n",
       "\n"
      ],
      "text/plain": [
       "[1] 10168    15"
      ]
     },
     "metadata": {},
     "output_type": "display_data"
    },
    {
     "data": {
      "text/plain": [
       "     H_SEQ           PPPOS      labor_code paid_abscence   hours_week    \n",
       " Min.   :    5   41     :5240   1:9943     0:9943        Min.   :  1.00  \n",
       " 1st Qu.:22695   42     :3530   2: 225     1: 113        1st Qu.: 40.00  \n",
       " Median :44297   43     : 906              2: 112        Median : 40.00  \n",
       " Mean   :44992   44     : 313                            Mean   : 39.25  \n",
       " 3rd Qu.:68291   45     : 107                            3rd Qu.: 40.00  \n",
       " Max.   :88866   46     :  42                            Max.   :104.00  \n",
       "                 (Other):  30                                            \n",
       "      race      full_time_flag union_coverage union_member  income_week  \n",
       " 1      :8133   0:1584         0: 998         1: 998       Min.   :   1  \n",
       " 2      :1059   1:8584         1: 126         2:9170       1st Qu.: 600  \n",
       " 4      : 625                  2:9044                      Median : 933  \n",
       " 3      : 132                                              Mean   :1135  \n",
       " 5      :  57                                              3rd Qu.:1513  \n",
       " 6      :  55                                              Max.   :2885  \n",
       " (Other): 107                                                            \n",
       " education_level gender_binary paid_hourly full_time part_time\n",
       " 39     :2670    1:5153        1:5698      0:1584    0:8584   \n",
       " 43     :2634    2:5015        2:4470      1:8584    1:1584   \n",
       " 40     :1510                                                 \n",
       " 44     :1157                                                 \n",
       " 42     : 679                                                 \n",
       " 41     : 436                                                 \n",
       " (Other):1082                                                 "
      ]
     },
     "metadata": {},
     "output_type": "display_data"
    },
    {
     "data": {
      "text/html": [
       "<style>\n",
       ".list-inline {list-style: none; margin:0; padding: 0}\n",
       ".list-inline>li {display: inline-block}\n",
       ".list-inline>li:not(:last-child)::after {content: \"\\00b7\"; padding: 0 .5ex}\n",
       "</style>\n",
       "<ol class=list-inline><li>10168</li><li>15</li></ol>\n"
      ],
      "text/latex": [
       "\\begin{enumerate*}\n",
       "\\item 10168\n",
       "\\item 15\n",
       "\\end{enumerate*}\n"
      ],
      "text/markdown": [
       "1. 10168\n",
       "2. 15\n",
       "\n",
       "\n"
      ],
      "text/plain": [
       "[1] 10168    15"
      ]
     },
     "metadata": {},
     "output_type": "display_data"
    }
   ],
   "source": [
    "# CODING FACTORS\n",
    "dim(pp.job_qual)\n",
    "pp.job_qual_2 <- pp.job_qual\n",
    "\n",
    "col_names <- sapply(pp.job_qual_2, function(col) length(unique(col)) < 30)\n",
    "pp.job_qual_2[ , col_names] <- lapply(pp.job_qual_2[ , col_names] , factor)\n",
    "                    \n",
    "summary(pp.job_qual_2)\n",
    "dim(pp.job_qual_2)      "
   ]
  },
  {
   "cell_type": "code",
   "execution_count": 49,
   "id": "f51c1811",
   "metadata": {},
   "outputs": [
    {
     "data": {
      "image/png": "[encoded data removed]",
      "text/plain": [
       "plot without title"
      ]
     },
     "metadata": {
      "image/png": {
       "height": 420,
       "width": 420
      }
     },
     "output_type": "display_data"
    }
   ],
   "source": [
    "pp.for.cor  <- pp.job_qual_2 %>%\n",
    "    select(hours_week, income_week)\n",
    "\n",
    "melt.cor.jobqual <- melt(cor(pp.for.cor)) # take cor, return melted cor\n",
    "quick_correlation_table(melt.cor.jobqual, \"Correlation Table of Starting Variables\")"
   ]
  },
  {
   "cell_type": "markdown",
   "id": "3a394883",
   "metadata": {},
   "source": [
    "After removing the factors, we only have the correlation between income per week and hours worked per week (.45)."
   ]
  },
  {
   "cell_type": "markdown",
   "id": "f283704f",
   "metadata": {},
   "source": [
    "## Additional Data Cleaning, adding new variables"
   ]
  },
  {
   "cell_type": "markdown",
   "id": "9a6bdfaa",
   "metadata": {},
   "source": [
    "### Removing the full-time flag\n",
    "The `full_time_flag` variable is identical to `full_time`. It's an appendix; removing it from our data makes for a tidier table."
   ]
  },
  {
   "cell_type": "code",
   "execution_count": 50,
   "id": "e50d8741",
   "metadata": {},
   "outputs": [],
   "source": [
    "pp.job_qual_3  <- pp.job_qual_2 %>% #Can only be run once, unless you reload the prior data.\n",
    "    select(-c(full_time_flag))"
   ]
  },
  {
   "cell_type": "markdown",
   "id": "bbac90ac",
   "metadata": {},
   "source": [
    "## Adding Pay Rate\n",
    "Adding pay rate is simple. You can tell R to \"mutate\" a new variable using 2 pre-existing ones. In the below code cell, I tell R to divide `income_week` by `hours_week`. \n",
    "\n",
    "By doing this, I am telling R to perform vectorized operations. R takes every coordinate set $(x_{n}{\\text{income_week}}, x_{n}{\\text{hours_week}})$, which represents the corresponding `income_week` and `hours_week`values for any given person, and divides $x_{n}{\\text{income_week}}$ by $x_{n}{\\text{hours_week}}$ for every person in the dataset, resulting in a new variable, $x_{n}{\\text{pay_rate}}$ for every person."
   ]
  },
  {
   "cell_type": "code",
   "execution_count": 51,
   "id": "e91e326f",
   "metadata": {},
   "outputs": [
    {
     "data": {
      "text/html": [
       "<style>\n",
       ".list-inline {list-style: none; margin:0; padding: 0}\n",
       ".list-inline>li {display: inline-block}\n",
       ".list-inline>li:not(:last-child)::after {content: \"\\00b7\"; padding: 0 .5ex}\n",
       "</style>\n",
       "<ol class=list-inline><li>'H_SEQ'</li><li>'PPPOS'</li><li>'labor_code'</li><li>'paid_abscence'</li><li>'hours_week'</li><li>'race'</li><li>'union_coverage'</li><li>'union_member'</li><li>'income_week'</li><li>'education_level'</li><li>'gender_binary'</li><li>'paid_hourly'</li><li>'full_time'</li><li>'part_time'</li><li>'pay_rate'</li></ol>\n"
      ],
      "text/latex": [
       "\\begin{enumerate*}\n",
       "\\item 'H\\_SEQ'\n",
       "\\item 'PPPOS'\n",
       "\\item 'labor\\_code'\n",
       "\\item 'paid\\_abscence'\n",
       "\\item 'hours\\_week'\n",
       "\\item 'race'\n",
       "\\item 'union\\_coverage'\n",
       "\\item 'union\\_member'\n",
       "\\item 'income\\_week'\n",
       "\\item 'education\\_level'\n",
       "\\item 'gender\\_binary'\n",
       "\\item 'paid\\_hourly'\n",
       "\\item 'full\\_time'\n",
       "\\item 'part\\_time'\n",
       "\\item 'pay\\_rate'\n",
       "\\end{enumerate*}\n"
      ],
      "text/markdown": [
       "1. 'H_SEQ'\n",
       "2. 'PPPOS'\n",
       "3. 'labor_code'\n",
       "4. 'paid_abscence'\n",
       "5. 'hours_week'\n",
       "6. 'race'\n",
       "7. 'union_coverage'\n",
       "8. 'union_member'\n",
       "9. 'income_week'\n",
       "10. 'education_level'\n",
       "11. 'gender_binary'\n",
       "12. 'paid_hourly'\n",
       "13. 'full_time'\n",
       "14. 'part_time'\n",
       "15. 'pay_rate'\n",
       "\n",
       "\n"
      ],
      "text/plain": [
       " [1] \"H_SEQ\"           \"PPPOS\"           \"labor_code\"      \"paid_abscence\"  \n",
       " [5] \"hours_week\"      \"race\"            \"union_coverage\"  \"union_member\"   \n",
       " [9] \"income_week\"     \"education_level\" \"gender_binary\"   \"paid_hourly\"    \n",
       "[13] \"full_time\"       \"part_time\"       \"pay_rate\"       "
      ]
     },
     "metadata": {},
     "output_type": "display_data"
    }
   ],
   "source": [
    "pp.job_qual_3  <- pp.job_qual_3 %>%\n",
    "    mutate(pay_rate = income_week/hours_week)\n",
    "\n",
    "names(pp.job_qual_3)"
   ]
  },
  {
   "cell_type": "markdown",
   "id": "855bd842",
   "metadata": {},
   "source": [
    "# Establishing Train and Test Sets"
   ]
  },
  {
   "cell_type": "code",
   "execution_count": 52,
   "id": "0144b6cf",
   "metadata": {},
   "outputs": [
    {
     "data": {
      "text/html": [
       "<style>\n",
       ".list-inline {list-style: none; margin:0; padding: 0}\n",
       ".list-inline>li {display: inline-block}\n",
       ".list-inline>li:not(:last-child)::after {content: \"\\00b7\"; padding: 0 .5ex}\n",
       "</style>\n",
       "<ol class=list-inline><li>1000</li><li>15</li></ol>\n"
      ],
      "text/latex": [
       "\\begin{enumerate*}\n",
       "\\item 1000\n",
       "\\item 15\n",
       "\\end{enumerate*}\n"
      ],
      "text/markdown": [
       "1. 1000\n",
       "2. 15\n",
       "\n",
       "\n"
      ],
      "text/plain": [
       "[1] 1000   15"
      ]
     },
     "metadata": {},
     "output_type": "display_data"
    },
    {
     "data": {
      "text/html": [
       "<style>\n",
       ".list-inline {list-style: none; margin:0; padding: 0}\n",
       ".list-inline>li {display: inline-block}\n",
       ".list-inline>li:not(:last-child)::after {content: \"\\00b7\"; padding: 0 .5ex}\n",
       "</style>\n",
       "<ol class=list-inline><li>9168</li><li>15</li></ol>\n"
      ],
      "text/latex": [
       "\\begin{enumerate*}\n",
       "\\item 9168\n",
       "\\item 15\n",
       "\\end{enumerate*}\n"
      ],
      "text/markdown": [
       "1. 9168\n",
       "2. 15\n",
       "\n",
       "\n"
      ],
      "text/plain": [
       "[1] 9168   15"
      ]
     },
     "metadata": {},
     "output_type": "display_data"
    }
   ],
   "source": [
    "# Create your validation sets\n",
    "train.inds=sample(1:nrow(pp.job_qual_2), 1000) #10/90 split into training and test sets\n",
    "test= -(train.inds) #get test indices (not training indices)\n",
    "\n",
    "train  <- pp.job_qual_2[train.inds,]\n",
    "dim(train)\n",
    "\n",
    "test  <- pp.job_qual_2[test,]\n",
    "dim(test )"
   ]
  },
  {
   "cell_type": "markdown",
   "id": "feb4192a",
   "metadata": {},
   "source": [
    "**Data Distribution Visualisation**\n",
    "\n",
    "Gross Weekly Income"
   ]
  },
  {
   "cell_type": "code",
   "execution_count": 53,
   "id": "24a09c81",
   "metadata": {
    "scrolled": false
   },
   "outputs": [
    {
     "data": {
      "image/png": "[encoded data removed]",
      "text/plain": [
       "plot without title"
      ]
     },
     "metadata": {
      "image/png": {
       "height": 420,
       "width": 420
      }
     },
     "output_type": "display_data"
    }
   ],
   "source": [
    "gg.distribution  <- ggplot (data = person, aes(A_GRSWK)) + labs(x = \"Gross Weekly Income\") \n",
    "gg.distribution + geom_density(fill = \"darkolivegreen4\")"
   ]
  },
  {
   "cell_type": "markdown",
   "id": "0d082bff",
   "metadata": {},
   "source": [
    "**Data Distribution Visualisation**\n",
    "\n",
    "Hours worked weekly"
   ]
  },
  {
   "cell_type": "code",
   "execution_count": 54,
   "id": "3e32d09e",
   "metadata": {},
   "outputs": [
    {
     "data": {
      "image/png": "[encoded data removed]",
      "text/plain": [
       "plot without title"
      ]
     },
     "metadata": {
      "image/png": {
       "height": 420,
       "width": 420
      }
     },
     "output_type": "display_data"
    }
   ],
   "source": [
    "gg.distribution  <- ggplot (data = person, aes(PEHRUSLT)) + labs(x = \"Total Labor Hours per Week\") \n",
    "gg.distribution + geom_density(fill = \"burlywood\")"
   ]
  },
  {
   "cell_type": "markdown",
   "id": "3232059a",
   "metadata": {},
   "source": [
    "Hours appear to have a Gaussian distribution centered around x = 40, where x = total labor hours per week."
   ]
  },
  {
   "cell_type": "markdown",
   "id": "84d18120",
   "metadata": {},
   "source": [
    "# Full-Time vs. Part-Time Workers: Labor Hours, Pay"
   ]
  },
  {
   "cell_type": "code",
   "execution_count": 59,
   "id": "eb79a8c2",
   "metadata": {},
   "outputs": [
    {
     "data": {
      "text/plain": [
       "\n",
       "Call:\n",
       "glm(formula = income_week ~ full_time, family = Gamma(\"identity\"), \n",
       "    data = pp.job_qual_2)\n",
       "\n",
       "Coefficients:\n",
       "            Estimate Std. Error t value Pr(>|t|)    \n",
       "(Intercept)    421.6        6.8   62.00   <2e-16 ***\n",
       "full_time1     845.4       11.1   76.14   <2e-16 ***\n",
       "---\n",
       "Signif. codes:  0 '***' 0.001 '**' 0.01 '*' 0.05 '.' 0.1 ' ' 1\n",
       "\n",
       "(Dispersion parameter for Gamma family taken to be 0.4120414)\n",
       "\n",
       "    Null deviance: 5052.7  on 10167  degrees of freedom\n",
       "Residual deviance: 3798.8  on 10166  degrees of freedom\n",
       "AIC: 157486\n",
       "\n",
       "Number of Fisher Scoring iterations: 3\n"
      ]
     },
     "metadata": {},
     "output_type": "display_data"
    },
    {
     "data": {
      "text/plain": [
       "\n",
       "Call:\n",
       "glm(formula = income_week ~ full_time + hours_week, family = Gamma(\"identity\"), \n",
       "    data = pp.job_qual_2)\n",
       "\n",
       "Coefficients:\n",
       "            Estimate Std. Error t value Pr(>|t|)    \n",
       "(Intercept)   48.781      8.801   5.543 3.05e-08 ***\n",
       "full_time1   431.456     19.489  22.139  < 2e-16 ***\n",
       "hours_week    18.230      0.569  32.039  < 2e-16 ***\n",
       "---\n",
       "Signif. codes:  0 '***' 0.001 '**' 0.01 '*' 0.05 '.' 0.1 ' ' 1\n",
       "\n",
       "(Dispersion parameter for Gamma family taken to be 0.4299081)\n",
       "\n",
       "    Null deviance: 5052.7  on 10167  degrees of freedom\n",
       "Residual deviance: 3446.4  on 10165  degrees of freedom\n",
       "AIC: 156440\n",
       "\n",
       "Number of Fisher Scoring iterations: 6\n"
      ]
     },
     "metadata": {},
     "output_type": "display_data"
    },
    {
     "name": "stderr",
     "output_type": "stream",
     "text": [
      "Warning message in log(ifelse(y == 0, 1, y/mu)):\n",
      "\"NaNs produced\"\n",
      "Warning message:\n",
      "\"step size truncated due to divergence\"\n",
      "Warning message in log(ifelse(y == 0, 1, y/mu)):\n",
      "\"NaNs produced\"\n",
      "Warning message in log(ifelse(y == 0, 1, y/mu)):\n",
      "\"NaNs produced\"\n"
     ]
    },
    {
     "data": {
      "text/plain": [
       "\n",
       "Call:\n",
       "glm(formula = income_week ~ full_time:hours_week, family = Gamma(\"identity\"), \n",
       "    data = pp.job_qual_2)\n",
       "\n",
       "Coefficients:\n",
       "                      Estimate Std. Error t value Pr(>|t|)    \n",
       "(Intercept)            65.7668     9.7192   6.767 1.39e-11 ***\n",
       "full_time0:hours_week  16.7611     0.6123  27.373  < 2e-16 ***\n",
       "full_time1:hours_week  28.1981     0.3127  90.176  < 2e-16 ***\n",
       "---\n",
       "Signif. codes:  0 '***' 0.001 '**' 0.01 '*' 0.05 '.' 0.1 ' ' 1\n",
       "\n",
       "(Dispersion parameter for Gamma family taken to be 0.4249118)\n",
       "\n",
       "    Null deviance: 5052.7  on 10167  degrees of freedom\n",
       "Residual deviance: 3419.0  on 10165  degrees of freedom\n",
       "AIC: 156354\n",
       "\n",
       "Number of Fisher Scoring iterations: 7\n"
      ]
     },
     "metadata": {},
     "output_type": "display_data"
    }
   ],
   "source": [
    "glm_test  <- glm(income_week ~ full_time, family = Gamma(\"identity\"), data = pp.job_qual_2)\n",
    "summary(glm_test)\n",
    "\n",
    "glm_test  <- glm(income_week ~ full_time + hours_week, family = Gamma(\"identity\"), data = pp.job_qual_2)\n",
    "summary(glm_test)\n",
    "\n",
    "glm_test  <- glm(income_week ~ full_time:hours_week, family = Gamma(\"identity\"), data = pp.job_qual_2)\n",
    "summary(glm_test)"
   ]
  },
  {
   "cell_type": "code",
   "execution_count": 67,
   "id": "37dd7931",
   "metadata": {},
   "outputs": [],
   "source": [
    "set.seed(666)\n",
    "\n",
    "person_full_time  <- pp.job_qual_2 %>% \n",
    "    filter(full_time != 0) # Exclude part time labor force\n",
    "\n",
    "person_full_time  <- person_full_time[sample(nrow(person_full_time), 1000), ]\n",
    "\n",
    "\n",
    "person_part_time  <- pp.job_qual_2 %>%\n",
    "    filter(full_time != 1) # Exclude full time labor force\n",
    "\n",
    "person_part_time  <- person_part_time[sample(nrow(person_part_time), 1000), ]\n",
    "\n",
    "#Use statesticle tests to compare them"
   ]
  },
  {
   "cell_type": "code",
   "execution_count": 68,
   "id": "c201d7b6",
   "metadata": {},
   "outputs": [
    {
     "data": {
      "text/html": [
       "<style>\n",
       ".list-inline {list-style: none; margin:0; padding: 0}\n",
       ".list-inline>li {display: inline-block}\n",
       ".list-inline>li:not(:last-child)::after {content: \"\\00b7\"; padding: 0 .5ex}\n",
       "</style>\n",
       "<ol class=list-inline><li>1000</li><li>15</li></ol>\n"
      ],
      "text/latex": [
       "\\begin{enumerate*}\n",
       "\\item 1000\n",
       "\\item 15\n",
       "\\end{enumerate*}\n"
      ],
      "text/markdown": [
       "1. 1000\n",
       "2. 15\n",
       "\n",
       "\n"
      ],
      "text/plain": [
       "[1] 1000   15"
      ]
     },
     "metadata": {},
     "output_type": "display_data"
    },
    {
     "data": {
      "text/html": [
       "<style>\n",
       ".list-inline {list-style: none; margin:0; padding: 0}\n",
       ".list-inline>li {display: inline-block}\n",
       ".list-inline>li:not(:last-child)::after {content: \"\\00b7\"; padding: 0 .5ex}\n",
       "</style>\n",
       "<ol class=list-inline><li>1000</li><li>15</li></ol>\n"
      ],
      "text/latex": [
       "\\begin{enumerate*}\n",
       "\\item 1000\n",
       "\\item 15\n",
       "\\end{enumerate*}\n"
      ],
      "text/markdown": [
       "1. 1000\n",
       "2. 15\n",
       "\n",
       "\n"
      ],
      "text/plain": [
       "[1] 1000   15"
      ]
     },
     "metadata": {},
     "output_type": "display_data"
    }
   ],
   "source": [
    "# Check dims\n",
    "person_full_time %>%\n",
    "dim()\n",
    "\n",
    "person_part_time %>%\n",
    "dim()"
   ]
  },
  {
   "cell_type": "code",
   "execution_count": 69,
   "id": "7088d800",
   "metadata": {},
   "outputs": [
    {
     "data": {
      "image/png": "[encoded data removed]",
      "text/plain": [
       "plot without title"
      ]
     },
     "metadata": {
      "image/png": {
       "height": 420,
       "width": 420
      }
     },
     "output_type": "display_data"
    },
    {
     "data": {
      "image/png": "[encoded data removed]",
      "text/plain": [
       "plot without title"
      ]
     },
     "metadata": {
      "image/png": {
       "height": 420,
       "width": 420
      }
     },
     "output_type": "display_data"
    }
   ],
   "source": [
    "#Plotting train sets\n",
    "\n",
    "gg_ft  <- ggplot(data = person_full_time, aes(income_week)) +\n",
    "    geom_density() +\n",
    "    labs(x = \"Gross Weekly Pay\", title = \"Weekly Pay of Full Time Employees\")\n",
    "\n",
    "gg_ft\n",
    "\n",
    "\n",
    "gg_pt  <- ggplot(data = person_part_time, aes(income_week)) +\n",
    "    geom_density() +\n",
    "    labs(x = \"Gross Weekly Pay\", title = \"Weekly Pay of Part Time Employees\")\n",
    "\n",
    "gg_pt"
   ]
  },
  {
   "cell_type": "code",
   "execution_count": 71,
   "id": "061bfda5",
   "metadata": {},
   "outputs": [
    {
     "data": {
      "text/plain": [
       "\n",
       "\tWilcoxon rank sum test with continuity correction\n",
       "\n",
       "data:  full_time_gross_income and part_time_gross_income\n",
       "W = 904227, p-value < 2.2e-16\n",
       "alternative hypothesis: true location shift is greater than 0\n"
      ]
     },
     "metadata": {},
     "output_type": "display_data"
    }
   ],
   "source": [
    "full_time_gross_income = person_full_time$income_week\n",
    "part_time_gross_income = person_part_time$income_week\n",
    "\n",
    "#wilcox.test(full_time_gross_income, part_time_gross_income, alternative = \"two.sided\")\n",
    "wilcox.test(full_time_gross_income, part_time_gross_income, alternative = \"greater\") #x, full time gross income, is > y, part time gross income"
   ]
  },
  {
   "cell_type": "markdown",
   "id": "1aa08f10",
   "metadata": {},
   "source": [
    "## Data visualisation conclusions\n",
    "\n",
    "### Full-time vs. part-time workers\n",
    "\n",
    "Full-time workers appear to differ systematically from part-time workers. Upon this basis, I cocnclude that they should either:\n",
    "\n",
    "1. Be analyzed separately\n",
    "2. Models that control for their intercorrelation must be built"
   ]
  },
  {
   "cell_type": "markdown",
   "id": "4f732131",
   "metadata": {},
   "source": [
    "# Introducing the economic class measure\n",
    "\n",
    "Household income can be used as a measure of economic class. The economic classes are defined as lower, middle, and upper. The lower class makes under 2/3 of the median income, the middle class makes from 2/3 to 2 times the median income, and the upper class makes 2 times the median income. \n",
    "\n",
    "This method of classification was taken from Pew Research Center analysis of the 2021 Current Population Survey, Annual Social and Economic Supplement (IPUMS).\n",
    "\n",
    "Since this study is concerned with predictors of job outcome, the classification of economic class is included in order to determine the degree of impact of economic class on job outcomes.\n",
    "\n",
    "In order to consider household income, the datasets for individuals and households must be merged, so that we can assess the impact of household income, representative of class, on individuals. By doing this, we are able to make relatively more holistic judgements.\n",
    "\n",
    "It is relevant to note that household income is a measure of the prior year. Ideally, we would want to trace housheold income back across sevral years in order to have a more accurate predictive and explanatory capability. Such an analysis is beyond the scope of this study, and is already present in the literature. The literature notes that US household income distribution has not changed significantly over the years. (Pew Research Center, 2022)"
   ]
  },
  {
   "cell_type": "code",
   "execution_count": null,
   "id": "05012048",
   "metadata": {
    "scrolled": true
   },
   "outputs": [],
   "source": [
    "summary(hh)\n",
    "hh   <- rename(hh, hh_income = HTOTVAL)\n",
    "hh   <- rename(hh, hh_persons = H_NUMPER)"
   ]
  },
  {
   "cell_type": "markdown",
   "id": "5112b0bf",
   "metadata": {},
   "source": [
    "## Adjusted Income\n",
    "\n",
    "Household income does not account for income per people the income supports. To correct for this, adjusted income can be calculated as the total household income divided by the number of persons in the household times 1/2, following other researchers. (Pew Research Center, 2022)\n",
    "\n",
    "$$\\text{adjusted household income} = \\text{household income}/\\text{number of household members}^{0.5}$$"
   ]
  },
  {
   "cell_type": "code",
   "execution_count": null,
   "id": "487e0b7c",
   "metadata": {},
   "outputs": [],
   "source": [
    "# adjusted income\n",
    "n = .5\n",
    "\n",
    "hh  <- hh %>% mutate(income_adj  = hh_income/((hh_persons)^.5))\n",
    "\n",
    "hh  <- hh %>% drop_na()\n",
    "\n",
    "head(hh, 10)"
   ]
  },
  {
   "cell_type": "markdown",
   "id": "482beaf9",
   "metadata": {},
   "source": [
    "Economic class, `income_class` can then be calculated as a function of adjusted income, producing a more accurate estimate of class in terms of income per people supported."
   ]
  },
  {
   "cell_type": "code",
   "execution_count": null,
   "id": "0ac34150",
   "metadata": {},
   "outputs": [],
   "source": [
    "lower_bound <- 2/3 * median(hh$income_adj)\n",
    "upper_bound  <- 2 * median(hh$income_adj)\n",
    "#lc\n",
    "\n",
    "hh$income_class <- as.factor(ifelse(hh$income_adj < lower_bound, 'lower',\n",
    "                          ifelse(hh$income_adj > upper_bound, \"upper\", \"middle\")))\n",
    "\n",
    "#hh_econ_class  <- hh %>%\n",
    "    "
   ]
  },
  {
   "cell_type": "markdown",
   "id": "70751c4d",
   "metadata": {},
   "source": [
    "Note the values of the lower and upper bounds."
   ]
  },
  {
   "cell_type": "code",
   "execution_count": null,
   "id": "dd13475d",
   "metadata": {},
   "outputs": [],
   "source": [
    "lower_bound\n",
    "upper_bound"
   ]
  },
  {
   "cell_type": "code",
   "execution_count": null,
   "id": "448d32c1",
   "metadata": {},
   "outputs": [],
   "source": [
    "head(hh, 10)"
   ]
  },
  {
   "cell_type": "markdown",
   "id": "95565476",
   "metadata": {},
   "source": [
    "## Merging household and person measures\n",
    "\n",
    "The measures of economic class come from the household data table, which is separate from the measures of individual-related variables from the person data table. To use the household data and the person data together, they have to be merged."
   ]
  },
  {
   "cell_type": "code",
   "execution_count": null,
   "id": "b3855810",
   "metadata": {
    "scrolled": true
   },
   "outputs": [],
   "source": [
    "hhpp.dat <- inner_join(pp.job_qual_3, hh, by = c(\"H_SEQ\"))\n",
    "\n",
    "summary(hhpp.dat)\n",
    "dim(hhpp.dat)"
   ]
  },
  {
   "cell_type": "code",
   "execution_count": null,
   "id": "f299558c",
   "metadata": {},
   "outputs": [],
   "source": [
    "hhpp.dat$education_level <- recode_factor(hhpp.dat$education_level, \"31\" = \"sub_gs\",\n",
    "                                                \"32\" = \"1.4\",  \"33\" = \"5.6\", \"34\" = \"7.8\", \n",
    "                                                \"35\" = \"9\", \"36\" = \"10\", \"37\" = \"11\", \"38\" = \"12\",\n",
    "                                               \"39\" = \"hs\", \"40\" = \"c_some\", \"41\" = \"c_a_occ.voc\", \"42\" = \"c_a_acad\",\n",
    "                                               \"43\" = \"c_b\", \"44\" = \"c_m\", \"45\" = \"prof\", \"46\" = \"c_d\")\n",
    "\n",
    "levels(hhpp.dat$education_level)"
   ]
  },
  {
   "cell_type": "code",
   "execution_count": null,
   "id": "7d57472c",
   "metadata": {},
   "outputs": [],
   "source": [
    "# Write the data to a file so it can't be corrupted (or rather, is harder to corrupt)\n",
    "\n",
    "# WRITE REDEFINED DATA FRAME TO .csv\n",
    "write.csv(hhpp.dat, \"C:/Users/roman/OneDrive/Documents/Summer 2023/DSPN/LAPADAT_DSPN_S23_FinalProject/Modified Data/data_clean_2.csv\", row.names=FALSE)"
   ]
  },
  {
   "cell_type": "code",
   "execution_count": null,
   "id": "893ab3c3",
   "metadata": {},
   "outputs": [],
   "source": [
    "hhpp.dat  <- read.csv(\"C:/Users/roman/OneDrive/Documents/Summer 2023/DSPN/LAPADAT_DSPN_S23_FinalProject/Modified Data/data_clean_2.csv\")"
   ]
  },
  {
   "cell_type": "code",
   "execution_count": null,
   "id": "c83c1553",
   "metadata": {},
   "outputs": [],
   "source": [
    "hhpp.dat$education_level <- recode_factor(hhpp.dat$education_level, \"sub_gs\" = \"sub_gs\",\n",
    "                                                \"1.4\" = \"1.4\",  \"5.6\" = \"5.6\", \"7.8\" = \"7.8\", \n",
    "                                                \"9\" = \"9\", \"10\" = \"10\", \"11\" = \"11\", \"12\" = \"12\",\n",
    "                                               \"hs\" = \"hs\", \"c_some\" = \"c_some\", \"c_a_occ.voc\" = \"c_a_occ.voc\", \"c_a_acad\" = \"c_a_acad\",\n",
    "                                               \"c_b\" = \"c_b\", \"c_m\" = \"c_m\", \"prof\" = \"prof\", \"c_d\" = \"c_d\")\n",
    "\n",
    "summary(hhpp.dat$education_level)"
   ]
  },
  {
   "cell_type": "code",
   "execution_count": null,
   "id": "50668812",
   "metadata": {},
   "outputs": [],
   "source": [
    "# DEFINE CATEGORIGAL VARIABLES AS FACTORS\n",
    "\n",
    "col_names <- sapply(hhpp.dat, function(col) length(unique(col)) < 30)\n",
    "hhpp.dat[ , col_names] <- lapply(hhpp.dat[ , col_names] , factor)\n",
    "                    \n",
    "head(hhpp.dat, 0)   "
   ]
  },
  {
   "cell_type": "markdown",
   "id": "4d50dc12",
   "metadata": {},
   "source": [
    "# Merged data visualisations\n",
    "## Heat map: Quantitative variable intercorrelations"
   ]
  },
  {
   "cell_type": "code",
   "execution_count": null,
   "id": "8ac14974",
   "metadata": {},
   "outputs": [],
   "source": [
    "hhpp.dat_quant  <- hhpp.dat %>%\n",
    "    select(hours_week, income_week, pay_rate, income_adj)"
   ]
  },
  {
   "cell_type": "code",
   "execution_count": null,
   "id": "a7640314",
   "metadata": {
    "scrolled": true
   },
   "outputs": [],
   "source": [
    "melt.cor.jobqual <- melt(cor(hhpp.dat_quant)) # take cor, return melted cor\n",
    "quick_correlation_table(melt.cor.jobqual, \"Quantitative variable intercorrelations\")"
   ]
  },
  {
   "cell_type": "markdown",
   "id": "6576d6fd",
   "metadata": {},
   "source": [
    "This heat map takes all the quantitative variables in our dataset (adjusted income, pay rate, weekly income, and weekly hours) and shows their correlations. Adjusted income appears to be weakly correlated with weekly hours (0.12), and is moderately correlated with weekly income and pay rate (0.38, 0.34). Pay rate is weakly correlated with weekly hours (0.11) and strongly correlated with weekly income (0.86). As before, weekly income and weekly hours have a larger moderate correlation (0.45)."
   ]
  },
  {
   "cell_type": "markdown",
   "id": "35aee769",
   "metadata": {},
   "source": [
    "## Raw household income vs. adjusted household income\n",
    "\n",
    "Adjusting household income has the added side benefit of somewhat normalizing our data by reducing the distribution of income.\n",
    "\n",
    "Where raw household income has a mean of 138,301 USD and a standard deviation of 134,035, adjusted total household income has a mean of 83,062 USD and a standard deviation of 79,619 USD. Evidently, there is huge variance in the data, likely caused by upper-income outliers skewing the mean upward, as well as by the overrepresentation of middle-income people and upper-income people relative to lower-income people, when in reality lower-income people are the ones overrepresented in the general population.\n",
    "\n",
    "The average household income across the United States in 2023 is estimated to be $\\$87,864$ by the World Population Review, which is relatively close (though substantially larger) than the mean of household adjusted income in the present data.\n",
    "\n",
    "The United States Census bureau's estimate for median household income in 2021 is $\\$70,784$, a good deal higher than the median of household adjusted income in our own data, which is $\\$63,538$.\n",
    "\n",
    "The present dataset's estimates may be lower due to some exclusion of very high-income individuals from the dataset. Note that the present data excludes members of the armed forces, self-employed workers, etc."
   ]
  },
  {
   "cell_type": "code",
   "execution_count": null,
   "id": "4b1a2528",
   "metadata": {
    "scrolled": true
   },
   "outputs": [],
   "source": [
    "gg  <- ggplot(hhpp.dat, aes(hh_income))\n",
    "gg + geom_density() + labs(title = \"Raw household income density\")\n",
    "\n",
    "gg_adj  <- ggplot(hhpp.dat, aes(income_adj))\n",
    "gg_adj + geom_density() + labs(title = \"Adjusted household income density\")"
   ]
  },
  {
   "cell_type": "code",
   "execution_count": null,
   "id": "e7ef8165",
   "metadata": {
    "scrolled": false
   },
   "outputs": [],
   "source": [
    "#print(\"SUMMARIES\")\n",
    "print(\"Household income\")\n",
    "summary(hhpp.dat$hh_income)\n",
    "sd(hhpp.dat$hh_income)\n",
    "print(\"Adjusted household income\")\n",
    "summary(hhpp.dat$income_adj)\n",
    "sd(hhpp.dat$income_adj)"
   ]
  },
  {
   "cell_type": "markdown",
   "id": "514b5d18",
   "metadata": {},
   "source": [
    "Seeing as the levels of income likely vary systematically, it may be a good idea to split lower, middle, and upper-class people by income and analyze them separately."
   ]
  },
  {
   "cell_type": "code",
   "execution_count": null,
   "id": "6eae1163",
   "metadata": {},
   "outputs": [],
   "source": [
    "hhpp_lower_income  <- hhpp.dat %>%\n",
    "    filter(income_class == c('lower'))\n",
    "\n",
    "hhpp_middle_income  <- hhpp.dat %>%\n",
    "    filter(income_class == c('middle'))\n",
    "\n",
    "hhpp_upper_income  <- hhpp.dat %>%\n",
    "    filter(income_class == c('upper'))"
   ]
  },
  {
   "cell_type": "code",
   "execution_count": null,
   "id": "0146132d",
   "metadata": {},
   "outputs": [],
   "source": [
    "summary(hhpp_lower_income$income_adj)\n",
    "summary(hhpp_middle_income$income_adj)\n",
    "summary(hhpp_upper_income$income_adj) "
   ]
  },
  {
   "cell_type": "markdown",
   "id": "8d143587",
   "metadata": {},
   "source": [
    "## Density of Adjusted Income Across Economic Class"
   ]
  },
  {
   "cell_type": "code",
   "execution_count": null,
   "id": "addc6ba5",
   "metadata": {
    "scrolled": true
   },
   "outputs": [],
   "source": [
    "gg_adj  <- ggplot(hhpp_lower_income, aes(income_adj))\n",
    "gg_adj + geom_density()\n",
    "\n",
    "gg_adj  <- ggplot(hhpp_middle_income, aes(income_adj))\n",
    "gg_adj + geom_density()\n",
    "\n",
    "gg_adj  <- ggplot(hhpp_upper_income, aes(income_adj))\n",
    "gg_adj + geom_density()"
   ]
  },
  {
   "cell_type": "code",
   "execution_count": null,
   "id": "e96cb1cb",
   "metadata": {},
   "outputs": [],
   "source": [
    "#let's do a facet wrap of adjusted income by income class\n",
    "gg_adj  <- ggplot(hhpp.dat, aes(income_adj)) + geom_density()\n",
    "gg_adj + facet_grid(cols = vars(income_class))"
   ]
  },
  {
   "cell_type": "markdown",
   "id": "56f6ff94",
   "metadata": {},
   "source": [
    "Where the previous charts show income in detail for every class, this chart more clearly reveals the disparity. The highest concentration of people is the lower-income people, who are at the very bottom of the income distribution. Comparatively, relatively few people seem to be enjoying a middle-class lifestyle, and the highest concentration of wealth is spread out amongst proportionally far fewer people."
   ]
  },
  {
   "cell_type": "code",
   "execution_count": null,
   "id": "19591fad",
   "metadata": {},
   "outputs": [],
   "source": [
    "gg_adj_box  <- ggplot(hhpp.dat, aes(income_adj, x =income_class)) + geom_violin(scale = \"area\")\n",
    "gg_adj_box + ylim(0, 250000) + \n",
    "labs(title = \"Distribution of Adjusted Income by Economic Class\", y = \"Adjusted Income\", x = \"Economic Class\")\n",
    "#gg_adj + facet_grid(cols =vars(income_class))"
   ]
  },
  {
   "cell_type": "markdown",
   "id": "cb7955e8",
   "metadata": {},
   "source": [
    "Note that the hard cutoffs between lower, middle, and upper class are so because of the arbitrary boundary line that was previously defined to categorize people by economic class.\n",
    "\n",
    "This violin plot shows the concentration of people according to adjusted income. The largest number of people appear to be concentrated between $\\$22,000$ and $\\$31,292$.\n",
    "\n",
    "There is then a steep decrease of people immediately beyond the middle-class boundary, despite the middle class representing approximately 55% of the data. This implies that the middle class is more spread out among income, which can be seen by the two bumps where it peaks, showing its most concentrated areas are at around $\\$40,000$ and $\\$60,000$. There are fewer members of the middle class who make above $\\$71,599$.\n",
    "\n",
    "The upper class is most densely concentrated at around the third quartile ($\\$107,962$), but the top range of the income of upper-class people extends to $\\$1,339,563$, though the households that approach this figure are far fewer."
   ]
  },
  {
   "cell_type": "markdown",
   "id": "a4fb1075",
   "metadata": {},
   "source": [
    "## Pay Rate's relationship to income class across variables"
   ]
  },
  {
   "cell_type": "code",
   "execution_count": null,
   "id": "a2e08fa3",
   "metadata": {},
   "outputs": [],
   "source": [
    "gg_adj_box  <- ggplot(hhpp.dat, aes(income_adj, x =income_class)) + geom_boxplot() + ylim(0, 250000)\n",
    "gg_adj_box + facet_grid(cols =vars(education_level)) + labs(title = \"Education\")\n",
    "gg_adj_box + facet_grid(cols =vars(union_member)) + labs(title = \"Union Membership\")\n",
    "gg_adj_box + facet_grid(cols =vars(gender_binary)) + labs(title = \"Sex\")\n",
    "gg_adj_box + facet_wrap(vars(race)) + labs(title = \"Race\")\n",
    "gg_adj_box + facet_grid(cols = vars(paid_hourly)) + labs(title = \"Paid Hourly\") \n",
    "#gg_adj_box"
   ]
  },
  {
   "cell_type": "markdown",
   "id": "f394199e",
   "metadata": {},
   "source": [
    "# Modeling to understand our variables\n",
    "\n",
    "There are several variables in the dataset that influence the pay rate of individuals. I believe it is important to model these variables in order to understand their independent relationship to the outcome of interest, and then build more well-informed (and if necessary, complex) models based off this knowledge."
   ]
  },
  {
   "cell_type": "code",
   "execution_count": null,
   "id": "8720497f",
   "metadata": {},
   "outputs": [],
   "source": [
    "glm_hourly  <- glm(pay_rate ~ paid_hourly, data = hhpp.dat, family = Gamma(link =\"identity\"))\n",
    "summary(glm_hourly)\n",
    "plot(allEffects(glm_hourly))\n",
    "\n",
    "# Where 1 = paid hourly, 2 = No"
   ]
  },
  {
   "cell_type": "markdown",
   "id": "b877b251",
   "metadata": {},
   "source": [
    "It would appear that people who receive an hourly wage are paid systematically lower than those who do not, with their pay being about $\\$14.39$ lower $(+/-\\$0.38)$."
   ]
  },
  {
   "cell_type": "code",
   "execution_count": null,
   "id": "ce2413dc",
   "metadata": {
    "scrolled": true
   },
   "outputs": [],
   "source": [
    "# PAY RATE BY INCOME CLASS: normalizing data (the boxplots clearly show outliers, which will make model coefficients more difficult to interpret.)\n",
    "\n",
    "gg_box_income  <- ggplot(hhpp.dat, aes(income_class, pay_rate)) + geom_boxplot()\n",
    "# gg_box_income\n",
    "\n",
    "summary(hhpp_lower_income$pay_rate)\n",
    "summary(hhpp_middle_income$pay_rate)\n",
    "summary(hhpp_upper_income$pay_rate)\n",
    "\n",
    "#######################################################\n",
    "\n",
    "hhpp_lower_income_payrate_normal  <- hhpp_lower_income %>%\n",
    "    filter(pay_rate > 12.167)\n",
    "\n",
    "hhpp_lower_income_payrate_normal  <- hhpp_lower_income_payrate_normal %>%\n",
    "    filter(pay_rate < 20.692)\n",
    "\n",
    "summary(hhpp_lower_income_payrate_normal$pay_rate)\n",
    "\n",
    "#######################################################\n",
    "\n",
    "hhpp_middle_income_payrate_normal  <- hhpp_middle_income %>%\n",
    "    filter(pay_rate > 15.875)\n",
    "\n",
    "hhpp_middle_income_payrate_normal  <- hhpp_middle_income_payrate_normal %>%\n",
    "    filter(pay_rate < 31.250)\n",
    "\n",
    "summary(hhpp_middle_income_payrate_normal$pay_rate)\n",
    "\n",
    "#######################################################\n",
    "\n",
    "hhpp_upper_income_payrate_normal  <- hhpp_upper_income %>%\n",
    "    filter(pay_rate > 23.089)\n",
    "\n",
    "hhpp_upper_income_payrate_normal  <- hhpp_upper_income_payrate_normal %>%\n",
    "    filter(pay_rate < 53.3937)\n",
    "\n",
    "summary(hhpp_upper_income_payrate_normal$pay_rate)"
   ]
  },
  {
   "cell_type": "code",
   "execution_count": null,
   "id": "6948147c",
   "metadata": {
    "scrolled": false
   },
   "outputs": [],
   "source": [
    "# joining income pay rate normal data frames\n",
    "dim(hhpp_lower_income_payrate_normal)\n",
    "\n",
    "dim(hhpp_middle_income)\n",
    "dim(hhpp_middle_income_payrate_normal) # dims about 2/3\n",
    "\n",
    "dim(hhpp_upper_income)\n",
    "dim(hhpp_upper_income_payrate_normal) # dims about 1/2"
   ]
  },
  {
   "cell_type": "code",
   "execution_count": null,
   "id": "50b832b2",
   "metadata": {},
   "outputs": [],
   "source": [
    "hhpp_lower_middle  <- full_join(hhpp_lower_income_payrate_normal, hhpp_middle_income_payrate_normal, c(\"H_SEQ\", \"PPPOS\",\"pay_rate\"))"
   ]
  },
  {
   "cell_type": "code",
   "execution_count": null,
   "id": "a3f939cf",
   "metadata": {},
   "outputs": [],
   "source": [
    "dim(hhpp_lower_middle)\n",
    "\n",
    "sum(799, 2793)"
   ]
  },
  {
   "cell_type": "code",
   "execution_count": null,
   "id": "50d208c9",
   "metadata": {},
   "outputs": [],
   "source": [
    "hhpp_lower_middle_upper  <- full_join(hhpp_lower_middle, hhpp_upper_income_payrate_normal, c(\"H_SEQ\", \"PPPOS\",\"pay_rate\"))\n",
    "dim(hhpp_lower_middle_upper)\n",
    "sum(3592, 1456)\n",
    "\n",
    "hhpp_lower_middle_upper_2 <- hhpp_lower_middle_upper %>%\n",
    "    select(H_SEQ, PPPOS, pay_rate)\n",
    "\n",
    "head(hhpp_lower_middle_upper_2, 10)\n",
    "\n",
    "hhpp_normal_payrate  <- right_join(hhpp.dat, hhpp_lower_middle_upper_2, c(\"H_SEQ\", \"PPPOS\",\"pay_rate\"))\n",
    "\n",
    "head(hhpp_normal_payrate, 10)\n",
    "dim(hhpp_normal_payrate)\n",
    "\n",
    "dim(hhpp.dat)"
   ]
  },
  {
   "cell_type": "markdown",
   "id": "03ca80bb",
   "metadata": {},
   "source": [
    "It looks like by removing the outliers of pay rate from lower, middle, and upper income has halved the dataset. Admittedly, defining outliers as anyone who falls below the 2nd quantile or above the 3rd quantile is a broad brute-force approach that most definitely excludes high leverage points in addition to outliers."
   ]
  },
  {
   "cell_type": "code",
   "execution_count": null,
   "id": "88340f26",
   "metadata": {
    "scrolled": true
   },
   "outputs": [],
   "source": [
    "ggplot(data = hhpp.dat, aes(income_adj, x =income_class)) + geom_boxplot() + labs(title = \"With Pay Rate Outliers\")\n",
    "ggplot(data = hhpp_normal_payrate, aes(income_adj, x =income_class)) + geom_boxplot() + labs(title = \"Without Pay Rate Outliers\")"
   ]
  },
  {
   "cell_type": "markdown",
   "id": "dcf7bbf6",
   "metadata": {},
   "source": [
    "If you look at the boxplot of adjusted income with pay rate outliers versus the boxplot of adjusted income without pay rate outliers, you can see that the distributions appear virtually identical. Note that the upper bound of the data has changed from over a million dollars to around a million dollars, eliminating some of the higher-income outliers."
   ]
  },
  {
   "cell_type": "code",
   "execution_count": null,
   "id": "6f8ee375",
   "metadata": {},
   "outputs": [],
   "source": [
    "gg_adj  <- ggplot(hhpp.dat, aes(income_adj)) + geom_density()\n",
    "gg_adj + facet_grid(cols = vars(income_class))"
   ]
  },
  {
   "cell_type": "code",
   "execution_count": null,
   "id": "93866bc3",
   "metadata": {},
   "outputs": [],
   "source": [
    "ggplot(data = hhpp_normal_payrate, aes(y =income_week, hours_week)) + geom_jitter(data = hhpp_normal_payrate, alpha = .5, aes(color = income_class)) + geom_smooth()"
   ]
  },
  {
   "cell_type": "markdown",
   "id": "42f05339",
   "metadata": {},
   "source": [
    "This scatterplot shows weekly income plotted against weekly hours. The line is a pointer towards the average pay rate, where for any given point x, y the average pay rate can be determined by dividing y/x.\n",
    "\n",
    "As you can see, the outliers & high leverage points have been precisely sliced with the brute-force approach from earlier. Nevertheless, there is a fair degree of variance remaining in the data.\n",
    "\n",
    "Even after the culling, the upper-class outliers remain, and  skew our data somewhat, but the trend line still appears to be running down the middle. So they may also be high leverage points. Given the great culling that has already occured, I am reluctant to cut the upper class down once more.\n",
    "\n",
    "The pay rate for the upper-class outliers is 53.\n",
    "\n",
    "Based on this data, I expect the pay rates of lower, middle, and upper income people to differ significantly. Lower income people will obviously be on the bottom of the totem pole, followed by middle income people, and then by upper-income people. The starkest difference will be between upper-income people and their middle-income and lower-income counterparts.\n",
    "\n",
    "Functional Model:\n",
    "\n",
    "$$f(x) = \\beta_{0} + \\beta_{middle-income}X_{middle-income} + \\beta_{upper-income}X_{upper-income} +\\epsilon_{income} $$\n",
    "\n",
    "Where $\\beta_{0} +\\epsilon_{income}$ represents the baseline, but also the regression coefficient for lower-income people, who are our baseline.\n",
    "\n",
    "$f(x)$ represents the predicted pay rate for a given level of income (lower/middle/upper)."
   ]
  },
  {
   "cell_type": "markdown",
   "id": "cdbe4126",
   "metadata": {},
   "source": [
    "Before we run our model, let's take a good look at the distribution of pay rates by income class."
   ]
  },
  {
   "cell_type": "code",
   "execution_count": null,
   "id": "edc4cadf",
   "metadata": {},
   "outputs": [],
   "source": [
    "dim(hhpp_normal_payrate)"
   ]
  },
  {
   "cell_type": "code",
   "execution_count": null,
   "id": "157582dd",
   "metadata": {},
   "outputs": [],
   "source": [
    "gg_payrate_income_lvl  <- ggplot(data = hhpp_normal_payrate, aes(pay_rate)) + geom_dotplot(data = hhpp_normal_payrate, binwidth = .5, alpha = .4, aes(color = income_class)) \n",
    "gg_payrate_income_lvl "
   ]
  },
  {
   "cell_type": "code",
   "execution_count": null,
   "id": "01485a6f",
   "metadata": {},
   "outputs": [],
   "source": [
    "break"
   ]
  },
  {
   "cell_type": "markdown",
   "id": "485d39ab",
   "metadata": {},
   "source": [
    "This graph shows: How many people receive a specific pay rate (represented by the stacked dots) by income class. As you can see, there is an overlap between the pay rates of the lower class and middle class, as well as the middle class and upper class. However, the classes in and of themselves have stratified pay rates with fairly clear separation between them. The worst-compensated are the lower class, followed by the middle class. The upper class, on the other hand, is the best-compensated, with pay rates starting at around 25 and continuing almost all the way to 60. "
   ]
  },
  {
   "cell_type": "markdown",
   "id": "e966de4c",
   "metadata": {},
   "source": [
    "# The Monte Carlo Method"
   ]
  },
  {
   "cell_type": "markdown",
   "id": "4730628a",
   "metadata": {},
   "source": [
    "Before running a model on our data, I figured it would be good to perform an a priori statistical power test. In this instance, I am using the Monte Carlo method to simulate data and test for statistical power in a more flexible and precise manner.\n",
    "\n",
    "In lieu of precise parameter and coefficient estimates from the literature, the unfiltered dataset was used, excluding children and members of the armed forces.\n",
    "\n",
    "This is a departure from the traditional estimate, and comes with an acknowledgement that using these parameter estimates as the parameter estimates for the actual targeted population is heavily biased. However, it is worth noting that the established literature on the matter also pulls from the Current Population Survey Annual Social and Economic Supplement to draw relationships between wages and income class, although income class is usually calculated in a more elegant manner that accounts for the longitudinal a priori economic class positions of a given person.\n",
    "\n",
    "Therefore, this is a rough, biased, but nevertheless methodologically fairly sound approach; and on those grounds I chose to move forward with it, in lieu of estimates from the literature, the finding of which proved relatively fruitless, as the precise formulations of the lower, middle, and upper classes, as well as their relationship to wages, or pay rates, was quite difficult to nail down in a search.\n",
    "\n",
    "The next-best thing in that case would be to use the census - which, incidentally, is the population of interest of this report."
   ]
  },
  {
   "cell_type": "markdown",
   "id": "3500b11e",
   "metadata": {},
   "source": [
    "To ensure the accuracy of the model, I went over my initial data cleaning steps, and ended up keeping the initial filtering process. The filtering process removes children, members of the military, as well as people with varied work hours or who otherwise are not in the universe of hours worked/week.\n",
    "\n",
    "One could take issue with my removal of those with varied work hours to reduce variance; however, I will note that those individuals are numerically coded as \"-4\", so including them in the analysis would be a complete waste of computational power and would lead to nonsense results.\n",
    "\n",
    "People with no hours worked were also removed, as they would have to be anyway; the wage of someone is their earnings divided by 0, and, well, that's impossible.\n",
    "\n",
    "The dataset was not filtered further to maintain its integrity (e.g. pay rate normalization was not conducted).\n",
    "\n",
    "The same method specified previously was used to compute adjusted income and classify people in the lower, middle, and upper economic classes according to their relationship to the median."
   ]
  },
  {
   "cell_type": "markdown",
   "id": "3110463d",
   "metadata": {},
   "source": [
    "## Obtaining Parameters from Census"
   ]
  },
  {
   "cell_type": "code",
   "execution_count": null,
   "id": "f5b8c5de",
   "metadata": {},
   "outputs": [],
   "source": [
    "# Load person dataset (from user-modified data directory)\n",
    "setwd(\"C:/Users/roman/OneDrive/Documents/Summer 2023/DSPN/LAPADAT_DSPN_S23_FinalProject/Modified Data\") # Redefine working directory\n",
    "hhpp_wages  <- read.csv(\"hhpp_wages.csv\")\n",
    "head(hhpp_wages)"
   ]
  },
  {
   "cell_type": "markdown",
   "id": "d6706b4a",
   "metadata": {},
   "source": [
    "3 data frames were created for lower, middle, and upper-income people to calculate mean, standard deviation, as well as their % representation in the dataset."
   ]
  },
  {
   "cell_type": "code",
   "execution_count": null,
   "id": "8375c169",
   "metadata": {},
   "outputs": [],
   "source": [
    "hhpp_linc_wages  <- hhpp_wages %>%\n",
    "    filter(income_class == c('lower'))\n",
    "\n",
    "hhpp_minc_wages  <- hhpp_wages %>%\n",
    "    filter(income_class == c('middle'))\n",
    "\n",
    "hhpp_uinc_wages  <- hhpp_wages %>%\n",
    "    filter(income_class == c('upper'))"
   ]
  },
  {
   "cell_type": "code",
   "execution_count": null,
   "id": "c91f8cc5",
   "metadata": {},
   "outputs": [],
   "source": [
    "smry.l.inc  <- hhpp_linc_wages %>%\n",
    "    summarise(n_people  = length(PPPOS),\n",
    "             mu_payrate = mean(pay_rate),\n",
    "             sigma_payrate = sd(pay_rate))\n",
    "\n",
    "smry.l.inc \n",
    "\n",
    "\n",
    "smry.m.inc  <- hhpp_minc_wages %>%\n",
    "    summarise(n_people  = length(PPPOS),\n",
    "             mu_payrate = mean(pay_rate),\n",
    "             sigma_payrate = sd(pay_rate))\n",
    "\n",
    "smry.m.inc \n",
    "\n",
    "\n",
    "smry.u.inc  <- hhpp_uinc_wages %>%\n",
    "    summarise(n_people  = length(PPPOS),\n",
    "             mu_payrate = mean(pay_rate),\n",
    "             sigma_payrate = sd(pay_rate))\n",
    "\n",
    "smry.u.inc "
   ]
  },
  {
   "cell_type": "markdown",
   "id": "0bc932ca",
   "metadata": {},
   "source": [
    "$n$, mean, and standard deviation for the pay rate/wage of lower, middle, and upper income people (in order of appearance)."
   ]
  },
  {
   "cell_type": "code",
   "execution_count": null,
   "id": "63049922",
   "metadata": {},
   "outputs": [],
   "source": [
    "smry.wage  <- hhpp_wages %>%\n",
    "    summarise(n_people = length(PPPOS),\n",
    "             mu_payrate = mean(pay_rate),\n",
    "             sigma_payrate = sd(pay_rate))\n",
    "\n",
    "smry.wage"
   ]
  },
  {
   "cell_type": "markdown",
   "id": "85a4da03",
   "metadata": {},
   "source": [
    "$n$, mean, and standard deviation for the overall pay rate, aka $f(x)$ or the response variable in our model."
   ]
  },
  {
   "cell_type": "code",
   "execution_count": null,
   "id": "0e9adc1c",
   "metadata": {},
   "outputs": [],
   "source": [
    "hist(hhpp_wages$pay_rate)"
   ]
  },
  {
   "cell_type": "markdown",
   "id": "bfe0d8f4",
   "metadata": {},
   "source": [
    "As you can see in the histogram above, pay rate has a strong right skew. In other words, it follows a Gamma ($\\Gamma$) distribution, which will have to be replicated in our model.\n",
    "\n",
    "To simulate data according to a Gamma distribution, 2 parameters must be known: \n",
    "1. Shape, $\\alpha$ \n",
    "    - (how right-skewed is the data?)\n",
    "2. Rate, $\\lambda$\n",
    "    - $\\lambda = \\alpha/\\mu(x)$, where x is a variable that follows a Gamma distribution\n",
    "    \n",
    "The Gamma distribution takes the following form:\n",
    "$x$ ~ $\\Gamma(\\alpha, \\lambda)$.\n",
    "\n",
    "### Obtaining Shape\n",
    "Shape can be obtained by running an inercept-only model for pay rate.\n",
    "\n",
    "R's glm function, given that we specify that the response variable follows a Gamma distribution, returns a dispersion coefficient, which equals the shape coefficient $\\alpha$ for a Gamma-distributed variable $x$."
   ]
  },
  {
   "cell_type": "code",
   "execution_count": null,
   "id": "bf26dd0d",
   "metadata": {},
   "outputs": [],
   "source": [
    "summary(hhpp_wages)\n",
    "#all these variables need to be factorized?"
   ]
  },
  {
   "cell_type": "code",
   "execution_count": null,
   "id": "17d34ff6",
   "metadata": {},
   "outputs": [],
   "source": [
    "glm_wage_dist  <- glm(pay_rate ~ 1, data = hhpp_wages, family = Gamma(\"identity\"))\n",
    "smry_pop  <- summary(glm_wage_dist)\n",
    "smry_pop"
   ]
  },
  {
   "cell_type": "markdown",
   "id": "81bc1222",
   "metadata": {},
   "source": [
    "We can extract the shape of the distribution, $\\alpha$, by extracting the dispersion coefficient from the glm. We can then calculate the rate, $\\lambda$."
   ]
  },
  {
   "cell_type": "code",
   "execution_count": null,
   "id": "50cb4ec9",
   "metadata": {},
   "outputs": [],
   "source": [
    "payrate_shape  <- smry$dispersion #extracting dispersion coefficient\n",
    "payrate_rate = wage_disp/(smry.wage$mu_payrate) # rate = shape/mean(x)\n",
    "\n",
    "wage_disp\n",
    "rate_calc"
   ]
  },
  {
   "cell_type": "markdown",
   "id": "b75895f1",
   "metadata": {},
   "source": [
    "The shape of the pay rate distribution is ~.42, and the rate of the distribution is ~0.01."
   ]
  },
  {
   "cell_type": "code",
   "execution_count": null,
   "id": "dc1032e8",
   "metadata": {},
   "outputs": [],
   "source": [
    "hist(rgamma(10000, shape = wage_disp, rate = rate_calc))"
   ]
  },
  {
   "cell_type": "markdown",
   "id": "4af761b3",
   "metadata": {},
   "source": [
    "This histogram runs a simulation given the above parameters with an n of 10,000, which is around the size of the \"true n.\" As you can see, this histogram and the one before it, which is plotting the actual values from the census, follow the same distribution."
   ]
  },
  {
   "cell_type": "markdown",
   "id": "09d88414",
   "metadata": {},
   "source": [
    "## Simulating Data\n",
    "\n",
    "The data simulation parameters are:\n",
    "\n",
    "- $\\beta_0$, the mean of the pay rate of lower-income people \n",
    "- $\\beta_1$, the mean pay rate of middle-income people\n",
    "- $\\beta_2$, the mean pay rate of upper-income people\n",
    "\n",
    "- $\\alpha_{\\text{pay rate}}$, shape of pay rate, used to define its Gamma distribution\n",
    "- $\\lambda_{\\text{pay rate}}$, rate of pay rate, used to define its Gamma distribution\n",
    "\n",
    "- $\\text{proportion of lower-income people}$, given by dividing the $n$ of lower-income people by the total $n$\n",
    "- $\\text{proportion of middle-income people}$, given by dividing the $n$ of middle-income people by the total $n$\n",
    "- $\\text{proportion of upper-income people}$, given by dividing the $n$ of upper-income people by the total $n$\n",
    "\n",
    "Since the model for pay rate calculates beta 0, beta 1, and beta 2 of lower, middle, and upper income people as the mean of pay rate for their respective categories, we do the same thing below:"
   ]
  },
  {
   "cell_type": "code",
   "execution_count": null,
   "id": "da5c6ee3",
   "metadata": {},
   "outputs": [],
   "source": [
    "beta_0a  <- smry.l.inc$mu_payrate\n",
    "beta_1a  <- smry.m.inc$mu_payrate\n",
    "beta_2a  <- smry.u.inc$mu_payrate"
   ]
  },
  {
   "cell_type": "markdown",
   "id": "938eca38",
   "metadata": {},
   "source": [
    "#### Representing Population Proportions\n",
    "Converting the # of people in an income category to a % out of the total $n$ of people in the census allows us to maintain an accurate proportion of people as $n$ is varied by the simulations.\n",
    "\n",
    "I feel it is important to mention that, due to the imbalanced proportion of people in those classes, a more accurate representation of the real world would weigh lower, middle, and upper income people, with middle and upper income people receiving a lesser weight to compensate for their lack of presence in the dataset.\n",
    "\n",
    "At the time of writing, including weights in my analysis - though I recognize it is critical to accuracy - is beyond my capacity to execute.\n",
    "\n",
    "Therefore, the results from the simulation and data analysis must be interpreted with the context, which is that they are unweighted.\n",
    "\n",
    "The code cell below calculates the proportion of people in an income class by dividing the counts of lower/middle/upper-income people by the total $n$ of people.\n",
    "\n",
    "The code cell output shows those proportions (in order) and that together they sum to 1."
   ]
  },
  {
   "cell_type": "code",
   "execution_count": null,
   "id": "b4e25902",
   "metadata": {},
   "outputs": [],
   "source": [
    "linc_prop  <- smry.l.inc$n_people/smry.wage$n_people\n",
    "minc_prop  <- smry.m.inc$n_people/smry.wage$n_people\n",
    "uinc_prop  <- smry.u.inc$n_people/smry.wage$n_people\n",
    "\n",
    "print(paste(linc_prop, minc_prop, uinc_prop))\n",
    "print(paste(sum(linc_prop, minc_prop, uinc_prop)))"
   ]
  },
  {
   "cell_type": "markdown",
   "id": "0f744c5d",
   "metadata": {},
   "source": [
    "### Defining the Simulation within a Function"
   ]
  },
  {
   "cell_type": "code",
   "execution_count": null,
   "id": "7c9a1c76",
   "metadata": {},
   "outputs": [],
   "source": [
    "simulate_wages  <- function(n_subjects, beta_0, beta_1, beta_2, shape_gamma, rate_gamma, linc_prop, minc_prop, uinc_prop){\n",
    "    \n",
    "    y = rep(NULL, n_subjects)\n",
    "    \n",
    "    # Generate a vector of size n with 3 categories: lower, middle, and upper, where the probability\n",
    "    # of each category occuring is given by the probability of the respective category's presence in the census data.\n",
    "    income_class  <- sample(c(\"lower\", \"middle\", \"upper\"), size = n_subjects, replace = T, prob = c(linc_prop, minc_prop, uinc_prop))\n",
    "    income_class  <- as.factor(income_class)       \n",
    "    \n",
    "    count = 0\n",
    "    for (i in income_class){\n",
    "    count  <- count + 1\n",
    "    if (i == \"lower\"){\n",
    "        y[count] = beta_0 + rgamma(1, shape = shape_gamma, rate = rate_gamma)\n",
    "    }\n",
    "    else if (i == \"middle\"){\n",
    "        y[count] = beta_0 + beta_1 + rgamma(1, shape = shape_gamma, rate = rate_gamma)\n",
    "    }\n",
    "    else {\n",
    "        y[count] = beta_0 + beta_2 + rgamma(1, shape = shape_gamma, rate = rate_gamma)\n",
    "    }\n",
    "}\n",
    "    return(data.frame(y, income_class))\n",
    "}"
   ]
  },
  {
   "cell_type": "markdown",
   "id": "237c7e60",
   "metadata": {},
   "source": [
    "#### Simulation Output Verification\n",
    "\n",
    "The first code cell shows the structure of the simulated data, where y = pay rate and income_class represents itself.\n",
    "\n",
    "The second shows how, despite the difference in estimate, the t and p-values for both simulations are very close to each other. Interestingly, the dispersion parameters are within ~.002 of each other but are not identical, despite data having been generated with the same dispersion parameter as the census data."
   ]
  },
  {
   "cell_type": "code",
   "execution_count": null,
   "id": "a8826c13",
   "metadata": {},
   "outputs": [],
   "source": [
    "# function call, store function as variable\n",
    "data_1  <- simulate_wages(10168, beta_0a, beta_1a, beta_2a, payrate_shape, payrate_rate, linc_prop, minc_prop, uinc_prop)\n",
    "head(data_1) # retrieve variable"
   ]
  },
  {
   "cell_type": "code",
   "execution_count": null,
   "id": "3e28614c",
   "metadata": {},
   "outputs": [],
   "source": [
    "glm_wage_dist  <- glm(y ~ 1, data = data_1, family = Gamma(\"identity\"))\n",
    "smry_sim\n",
    "#print(\"Null Intercept Model with Census Data\")\n",
    "cat(\"Null Intercept Model with Census Data:\\n\\n\")\n",
    "print(smry_pop$coefficients)\n",
    "print(smry_pop$dispersion)\n",
    "cat(\"\\n\")\n",
    "cat(\"Null Intercept Model with Simulated Data:\\n\\n\")\n",
    "print(smry_sim$coefficients)\n",
    "print(smry_sim$dispersion)"
   ]
  },
  {
   "cell_type": "code",
   "execution_count": null,
   "id": "92b206b0",
   "metadata": {},
   "outputs": [],
   "source": [
    "#Dev code, ignore\n",
    "glm_wage_dist  <- glm(y ~ income_class, data = data_1, family = Gamma(\"identity\"))\n",
    "smry_sim_2  <- summary(glm_wage_dist)\n",
    "smry_sim_2$coefficients"
   ]
  },
  {
   "cell_type": "markdown",
   "id": "c0aea694",
   "metadata": {},
   "source": [
    "## Analyzing the Simulated Data\n",
    "\n",
    "The `run_analysis` function, defined in the code cell below, takes the output of the `simulate_wages` function and returns the estimated mean, standard error, and p-value for middle-class people."
   ]
  },
  {
   "cell_type": "code",
   "execution_count": null,
   "id": "e4e3eb67",
   "metadata": {},
   "outputs": [],
   "source": [
    "run_analysis  <- function(data) {\n",
    "    h0  <- glm(data$y ~ 1, family = Gamma(\"identity\"))\n",
    "    ha  <- glm(data$y~ data$income_class, family = Gamma(\"identity\") )\n",
    "    smry_ha  <- summary(ha)\n",
    "    \n",
    "    #est_base  <-  smry_ha$coefficients[, 1, drop = FALSE][1]\n",
    "    est_m  <- smry_ha$coefficients[, 1, drop = FALSE][2]\n",
    "    \n",
    "    # standard errors\n",
    "    se_m  <- smry_ha$coefficients[, 2, drop = FALSE][2] #for middle class\n",
    "    se_u  <- smry_ha$coefficients[, 2, drop = FALSE][3] #for upper class\n",
    "    \n",
    "    m_aic  <- AIC(h0, ha)$AIC\n",
    "    #print(m_aic)\n",
    "    statistic  <- diff(m_aic)\n",
    "    #paste(m_aic)\n",
    "    p_m  <- smry_ha$coefficients[, 4, drop = FALSE][2]\n",
    "    \n",
    "    return(c(est_m, se_m, p_m))\n",
    "}"
   ]
  },
  {
   "cell_type": "code",
   "execution_count": null,
   "id": "11e354d0",
   "metadata": {},
   "outputs": [],
   "source": [
    "sim_wages  <- simulate_wages(10168, beta_0a, beta_1a, beta_2a, payrate_shape, payrate_rate, linc_prop, minc_prop, uinc_prop)\n",
    "run_analysis(sim_wages)"
   ]
  },
  {
   "cell_type": "markdown",
   "id": "33e430b6",
   "metadata": {},
   "source": [
    "## Full Monte Carlo Analysis\n",
    "\n",
    "### Function\n",
    "\n",
    "The `repeat_analysis` function takes the same inputs as the `simulate_wages` function, in addition to the number of simulations and alpha."
   ]
  },
  {
   "cell_type": "code",
   "execution_count": null,
   "id": "4e7cd600",
   "metadata": {},
   "outputs": [],
   "source": [
    "repeat_analysis  <- function(n_simulations, alpha, n_subjects, beta_0, beta_1, beta_2, \n",
    "                             shape, rate, prop_0, prop_1, prop_2) {\n",
    "    \n",
    "    simouts <- matrix(rep(NA,3*n_simulations),nrow=n_simulations) # empty vector to store outputs from each simulation\n",
    "    \n",
    "    #loop for iterating simulation\n",
    "    for (i in 1:n_simulations) {\n",
    "        data  <- simulate_wages(n_subjects, beta_0, beta_1, beta_2, shape, rate, prop_0, prop_1, prop_2)\n",
    "        simouts[i,] <- run_analysis(data) # save the analysis outputs for this sim.\n",
    "    }\n",
    "    \n",
    "    #print(mean(simouts[,3]))\n",
    "    power  <- mean(simouts[,3] <= alpha) # of analyses where p < alpha; aka average power\n",
    "\n",
    "    theta_bias_b1 <- ( mean(simouts[,1]) - beta_1 ) / (beta_1)\n",
    "    \n",
    "    sigma_bias_b1 <- (mean(simouts[,2]) - sd(simouts[,1])) / sd(simouts[,1])\n",
    "    \n",
    "    return(list(power = power, theta_b1  = theta_bias_b1, sigma_b1 = sigma_bias_b1))\n",
    "}"
   ]
  },
  {
   "cell_type": "code",
   "execution_count": null,
   "id": "1fd0d474",
   "metadata": {},
   "outputs": [],
   "source": [
    "repeat_analysis(10, .001, 100, beta_0a, beta_1a, beta_2a, payrate_shape, payrate_rate, linc_prop, minc_prop, uinc_prop)"
   ]
  },
  {
   "cell_type": "markdown",
   "id": "ee8a7f8c",
   "metadata": {},
   "source": [
    "## Testing the model on similar n\n",
    "\n",
    "Most often, probability testing is associated with the pre-data collection phase. However, given that our data has already been collected, or rather, we already know the preexisting $n$ we will be analyzing post-filters, including most importantly the 1st/3rd quartile filter applied to `pay_rate`, which has the effect of excluding low and high-income outliers and high leverage points from the data, we know that the $n$ we will analyze is 5048. In order to analyze the power and reliability of the estimate (particularly, the mean estimate bias, $\\sigma$, and the standard deviation estimate bias, $\\theta$ of the generalized linear model), I chose to look at the $n$ of people around 5,048. "
   ]
  },
  {
   "cell_type": "code",
   "execution_count": null,
   "id": "55a44c90",
   "metadata": {},
   "outputs": [],
   "source": [
    "dat <- expand.grid(n_subjects = c(4000, 4500, 5048, 5500, 6000))\n",
    "dat$id <- 1:nrow(dat)\n",
    "\n",
    "# then use tidyverse functions to run the analysis for each sample size (takes ~30-60 minutes)\n",
    "results <- dat  %>% \n",
    "    nest(parameters :=  c(n_subjects)) %>%\n",
    "\n",
    "    mutate(power = map(parameters, ~ repeat_analysis(100, 0.001, .$n_subjects, beta_0a, beta_1a, beta_2a, payrate_shape, payrate_rate, linc_prop, minc_prop, uinc_prop)\n",
    "$power),\n",
    "    theta_bias_b1 = map(parameters, ~ repeat_analysis(100, 0.001, .$n_subjects, beta_0a, beta_1a, beta_2a, payrate_shape, payrate_rate, linc_prop, minc_prop, uinc_prop)\n",
    "$theta_b1),\n",
    "    sigma_bias_b1 = map(parameters, ~ repeat_analysis(100, 0.001, .$n_subjects, beta_0a, beta_1a, beta_2a, payrate_shape, payrate_rate, linc_prop, minc_prop, uinc_prop)\n",
    "$sigma_b1)) %>% \n",
    "    unnest(c(parameters, power, theta_bias_b1, sigma_bias_b1))"
   ]
  },
  {
   "cell_type": "code",
   "execution_count": null,
   "id": "02134034",
   "metadata": {},
   "outputs": [],
   "source": [
    "results"
   ]
  },
  {
   "cell_type": "markdown",
   "id": "76b32935",
   "metadata": {},
   "source": [
    "The issue here is that the power shown is always 1; in other words, at each of these sizes, with 1,000 simulations, the null hypothesis is rejected every single time.\n",
    "\n",
    "That's not necessarily a bad sign, but it does indicate that our power estimate is not sensitive enough; after all, our $\\alpha$ is only 0.001, and the probability, $p$, of middle_income occuring by chance in the hypothesis model on simulated data is $2.121069e-202$. That is a number so infinitesimally small it is virtually zero. It is a number with 202 zeroes, if you count from the \"ones\" digit. It's technically only 201 zeroes away from the decimal point. But to be clear, that doesn't matter. If we were going in the opposite, positive direction, the number would be greater than the hypothesized numbers of atoms in the universe.\n",
    "\n",
    "So essentially, it tells us that the probability of the middle-class estimate occuring by chance is essentially 0. More precisely, it tells us that the probability of falling within the middle income class distribution, as defined by the adjusted estimated household total annual income, is correlated with receiving a given pay rate, centered around the estimated mean.\n",
    "\n",
    "The above results compelled me to run a separate set of simulations with smaller sample sizes, to see where power drops off."
   ]
  },
  {
   "cell_type": "code",
   "execution_count": null,
   "id": "352a2b6d",
   "metadata": {},
   "outputs": [],
   "source": [
    "# varied MC sim\n",
    "\n",
    "dat <- expand.grid(n_subjects = c(25, 50, 75, 100, 125, 150, 200, 250))\n",
    "dat$id <- 1:nrow(dat)\n",
    "\n",
    "# then use tidyverse functions to run the analysis for each sample size (takes ~30-60 minutes)\n",
    "results <- dat  %>% \n",
    "    nest(parameters :=  c(n_subjects)) %>%\n",
    "\n",
    "    mutate(power = map(parameters, ~ repeat_analysis(100, 0.001, .$n_subjects, beta_0a, beta_1a, beta_2a, payrate_shape, payrate_rate, linc_prop, minc_prop, uinc_prop)\n",
    "$power),\n",
    "    theta_bias_b1 = map(parameters, ~ repeat_analysis(100, 0.001, .$n_subjects, beta_0a, beta_1a, beta_2a, payrate_shape, payrate_rate, linc_prop, minc_prop, uinc_prop)\n",
    "$theta_b1),\n",
    "    sigma_bias_b1 = map(parameters, ~ repeat_analysis(100, 0.001, .$n_subjects, beta_0a, beta_1a, beta_2a, payrate_shape, payrate_rate, linc_prop, minc_prop, uinc_prop)\n",
    "$sigma_b1)) %>% \n",
    "    unnest(c(parameters, power, theta_bias_b1, sigma_bias_b1))"
   ]
  },
  {
   "cell_type": "code",
   "execution_count": null,
   "id": "cdc0038a",
   "metadata": {},
   "outputs": [],
   "source": [
    "results"
   ]
  },
  {
   "cell_type": "markdown",
   "id": "beb9f49c",
   "metadata": {},
   "source": [
    "Well it looks like "
   ]
  },
  {
   "cell_type": "markdown",
   "id": "1dae1ded",
   "metadata": {},
   "source": [
    "## Running the model for hypothesis 1"
   ]
  },
  {
   "cell_type": "code",
   "execution_count": null,
   "id": "dffb9d38",
   "metadata": {},
   "outputs": [],
   "source": [
    "glm_payrate  <- glm(pay_rate ~ income_class, data = hhpp_normal_payrate, Gamma(link =\"identity\"))\n",
    "summary(glm_payrate)"
   ]
  },
  {
   "cell_type": "code",
   "execution_count": null,
   "id": "4d499d22",
   "metadata": {},
   "outputs": [],
   "source": [
    "mean(hhpp_lower_income_payrate_normal$pay_rate)"
   ]
  },
  {
   "cell_type": "markdown",
   "id": "9de52691",
   "metadata": {},
   "source": [
    "### Model Interpretation\n",
    "\n",
    "This model reveals the differences in pay rate between the lower, middle, and upper economic classes of our sample population.\n",
    "\n",
    "The average person in the lower class is paid $\\$16.05/\\text{hour}$ (standard error: $\\$0.11$).\n",
    "\n",
    "The average person in the middle class receives $\\$22.17/\\text{hour}$ (standard error: $\\$0.13$), 1.38 times more than the lower class.\n",
    "\n",
    "The average person in the upper class receives $\\$37.72/\\text{hour}$ (standard error: $\\$0.13$), 2.35 times more than the lower class and .58 times more than the middle class."
   ]
  },
  {
   "cell_type": "code",
   "execution_count": null,
   "id": "efe8abd3",
   "metadata": {},
   "outputs": [],
   "source": [
    "dim(hhpp_normal_payrate)"
   ]
  },
  {
   "cell_type": "markdown",
   "id": "e0eb4531",
   "metadata": {},
   "source": [
    "### Model Error"
   ]
  },
  {
   "cell_type": "markdown",
   "id": "ab953f88",
   "metadata": {},
   "source": [
    "The train/test method MSE is 32.33.\n",
    "\n",
    "The k-fold cross-validated error (k = 10) MSE is 32.20. The LOOCV MSE with the seed \"666\" is 32.1769487755615. K-fold cross-validation was ultimately chosen over LOOCV because it is more computationally efficient and reaps relatively similar rewards."
   ]
  },
  {
   "cell_type": "markdown",
   "id": "91ef1d2d",
   "metadata": {},
   "source": [
    "#### Standard train/test method"
   ]
  },
  {
   "cell_type": "code",
   "execution_count": null,
   "id": "87fda4f4",
   "metadata": {},
   "outputs": [],
   "source": [
    "set.seed(666)\n",
    "train = sample(x = 5048, size = 1262)"
   ]
  },
  {
   "cell_type": "code",
   "execution_count": null,
   "id": "968b8f96",
   "metadata": {},
   "outputs": [],
   "source": [
    "glm_payrate.fit  <- glm(pay_rate ~ income_class, data = hhpp_normal_payrate, Gamma(link =\"identity\"))\n",
    "mean((hhpp_normal_payrate$pay_rate-predict(glm_payrate.fit,hhpp_normal_payrate))[-train]^2)"
   ]
  },
  {
   "cell_type": "markdown",
   "id": "ea918ccf",
   "metadata": {},
   "source": [
    "#### K-fold cross-validation"
   ]
  },
  {
   "cell_type": "code",
   "execution_count": null,
   "id": "4a61b175",
   "metadata": {},
   "outputs": [],
   "source": [
    "cv.err  = cv.glm(hhpp_normal_payrate, glm_payrate.fit, K=10)\n",
    "\n",
    "cv.err$delta "
   ]
  },
  {
   "cell_type": "code",
   "execution_count": null,
   "id": "dbcf2961",
   "metadata": {},
   "outputs": [],
   "source": [
    "base  <- glm_payrate$coefficients[1]\n",
    "middle  <- sum(base, glm_payrate$coefficients[2])\n",
    "upper  <- sum(base, glm_payrate$coefficients[3])"
   ]
  },
  {
   "cell_type": "code",
   "execution_count": null,
   "id": "2e16ce14",
   "metadata": {},
   "outputs": [],
   "source": [
    "plot(allEffects(glm_payrate))"
   ]
  },
  {
   "cell_type": "code",
   "execution_count": null,
   "id": "1c9d54df",
   "metadata": {},
   "outputs": [],
   "source": [
    "\n",
    "\n",
    "worthless_box  <- ggplot(data = hhpp_normal_payrate, aes(pay_rate, x = income_class)) + \n",
    "                    geom_hline(aes(yintercept = base, color = \"Lower\")) +\n",
    "                    geom_hline(aes(yintercept = middle, color = \"Middle\")) +\n",
    "                    geom_hline(aes(yintercept = upper, color = \"Upper\")) +\n",
    "                    geom_violin(scale = \"area\")\n",
    "\n",
    "worthless_box\n",
    "\n",
    "# draw a line for each average pay rate"
   ]
  },
  {
   "cell_type": "markdown",
   "id": "765331cc",
   "metadata": {},
   "source": [
    "The answer here is clear: if you make less money, your work is worth less. The less money you make, the less you are worth."
   ]
  },
  {
   "cell_type": "code",
   "execution_count": null,
   "id": "7ac75316",
   "metadata": {},
   "outputs": [],
   "source": [
    "names(hhpp_normal_payrate)\n",
    "summary(hhpp_normal_payrate)"
   ]
  },
  {
   "cell_type": "markdown",
   "id": "51ff2aad",
   "metadata": {},
   "source": [
    "# Controlling for hourly vs. salaried employees\n"
   ]
  },
  {
   "cell_type": "code",
   "execution_count": null,
   "id": "869ea8cf",
   "metadata": {},
   "outputs": [],
   "source": [
    "names(hhpp_normal_payrate)"
   ]
  },
  {
   "cell_type": "code",
   "execution_count": null,
   "id": "a5dff885",
   "metadata": {},
   "outputs": [],
   "source": [
    "glm_payrate.fit  <- glm(pay_rate ~ income_class + paid_hourly, data = hhpp_normal_payrate, Gamma(link =\"identity\"))\n",
    "summary(glm_payrate.fit)\n",
    "#mean((hhpp_normal_payrate$pay_rate-predict(glm_payrate.fit,hhpp_normal_payrate))[-train]^2)"
   ]
  },
  {
   "cell_type": "markdown",
   "id": "2ea211a3",
   "metadata": {},
   "source": [
    "## Considering hours/week separately\n",
    "\n",
    "As established, pay rate is a linear function of weekly income divided by labor hours. When labor hours are held constant, the relationship between pay and pay rate is perfectly linear. To illustrate this example, the below figure plots the pay rates of people who work between 20 and 60 hours a week, in increments of 10, from left to right."
   ]
  },
  {
   "cell_type": "code",
   "execution_count": null,
   "id": "e0d6d1ee",
   "metadata": {
    "scrolled": true
   },
   "outputs": [],
   "source": [
    "# Control for hours worked\n",
    "hhpp_normal_payrate_20hrs  <- hhpp_normal_payrate %>%\n",
    "    filter(hours_week == \"20\")\n",
    "\n",
    "hhpp_normal_payrate_30hrs  <- hhpp_normal_payrate %>%\n",
    "    filter(hours_week == \"30\")\n",
    "\n",
    "hhpp_normal_payrate_40hrs  <- hhpp_normal_payrate %>%\n",
    "    filter(hours_week == \"40\")\n",
    "\n",
    "hhpp_normal_payrate_50hrs  <- hhpp_normal_payrate %>%\n",
    "    filter(hours_week == \"50\")\n",
    "\n",
    "hhpp_normal_payrate_60hrs  <- hhpp_normal_payrate %>%\n",
    "    filter(hours_week == \"60\")"
   ]
  },
  {
   "cell_type": "code",
   "execution_count": null,
   "id": "b3e468ca",
   "metadata": {},
   "outputs": [],
   "source": [
    "gg_worthless_20.60  <- ggplot(data = hhpp_normal_payrate_40hrs, aes(y = pay_rate, x = income_week)) +\n",
    "                    geom_jitter(height = 0, width = 0, aes(color = income_class)) +\n",
    "                    geom_abline(aes(intercept=0, slope=.025)) +\n",
    "                    geom_jitter(data = hhpp_normal_payrate_50hrs, aes(y = pay_rate, x = income_week, color = income_class)) +\n",
    "                    geom_jitter(data = hhpp_normal_payrate_60hrs, aes(y = pay_rate, x = income_week, color = income_class)) +\n",
    "                    geom_jitter(data = hhpp_normal_payrate_20hrs, aes(y = pay_rate, x = income_week, color = income_class)) +\n",
    "                    geom_jitter(data = hhpp_normal_payrate_30hrs, aes(y = pay_rate, x = income_week, color = income_class))\n",
    "\n",
    "gg_worthless_20.60 "
   ]
  },
  {
   "cell_type": "markdown",
   "id": "f5fbcaaf",
   "metadata": {},
   "source": [
    "As shown in figure N.N, the relationship between weekly income and pay rate is perfectly linear ones hours worked/week are held constant. This figure also draws attention to the position of each income class according to pay rate and weekly income, which reveals a startling but digestible reality about pay rate. \n",
    "\n",
    "That reality is that there is no way to earn a better pay rate without earning more money.\n",
    "\n",
    "It follows that the only way the lower classes can be compensated more for their labor is by paradoxiacally making more money and entering the ranks of the middle classes. As we have discussed, the likelihood of this is low because income mobility is, on average, 5.6% (according to a study by the Brookings Institute).\n",
    "\n",
    "On the subject of hours worked per week, and how different people working different hours impacts the model for Hypothesis 1: given the markedly separate linear distributions, one may assume that the pay rate of individuals differs systematically based on how many hours they work in a given week.\n",
    "\n",
    "To determine the degree to which our model is impacted by virtue of not explaining the differences between employees based on how many hours they work a week, it is reasonable to run a separate model including hours worked per week as a separate, categorical term. Counsidering hours worked per week as a separate categorical term allows us to view whether there are systematic differences (e.g. whether separate levels of hours worked/week independently explain the variable pay rate, Y.)"
   ]
  },
  {
   "cell_type": "code",
   "execution_count": null,
   "id": "f0ad140a",
   "metadata": {},
   "outputs": [],
   "source": [
    "names(hhpp_normal_payrate)"
   ]
  },
  {
   "cell_type": "code",
   "execution_count": null,
   "id": "f8c09194",
   "metadata": {},
   "outputs": [],
   "source": [
    "hhpp_normal_payrate$hours_week  <- as.factor(hhpp_normal_payrate$hours_week)"
   ]
  },
  {
   "cell_type": "code",
   "execution_count": null,
   "id": "7425a3b1",
   "metadata": {},
   "outputs": [],
   "source": [
    "glm_payrate.fit  <- glm(pay_rate ~ hours_week, data = hhpp_normal_payrate, Gamma(link =\"identity\"))\n",
    "summary(glm_payrate.fit)"
   ]
  },
  {
   "cell_type": "markdown",
   "id": "471e5148",
   "metadata": {},
   "source": [
    "When `hours_week` is the sole predictor of `pay_rate`, many fascinating differences between how many hours a person works are revealed. Note that the most significant levels of `hours_week` are factors of 5: 45**, 50*, 55***, 60**, 65*, 70**, and 80*.\n",
    "\n",
    "* p < 0.01\n",
    "** p < 0.001\n",
    "*** p ~ 0\n",
    "\n",
    "The model AIC tells a different story: where the AIC for the income-class only model is, 30080, the AIC for the hours-worked model is 35883, indicating it explains far less of the noise in the data than the simple economic classification model.\n",
    "\n",
    "Therefore, although it is important to note that these differences between pay rates by hours worked exist, and to control for them when possible, it would appear likely that excluding them would not impact our model substantially.\n",
    "\n",
    "However, I'm not just going to say that without running a model to confirm that theory, so here goes:"
   ]
  },
  {
   "cell_type": "code",
   "execution_count": null,
   "id": "0ef76b05",
   "metadata": {},
   "outputs": [],
   "source": [
    "glm.income_class.hours_week  <- glm(pay_rate ~ income_class + hours_week, data = hhpp_normal_payrate, Gamma(link =\"identity\"))\n",
    "\n",
    "glm.income_class.hours_week$call\n",
    "glm.income_class.hours_week$aic"
   ]
  },
  {
   "cell_type": "markdown",
   "id": "52efe269",
   "metadata": {},
   "source": [
    "Note the AIC of the combined `income_class` + `hours_week` model: 30075, versus 30080 for the `income_class` only model.\n",
    "\n",
    "In other words, adding `hours_week` to our model decreases prediction error marginally and does not improve our model substantially."
   ]
  },
  {
   "cell_type": "markdown",
   "id": "d24288f1",
   "metadata": {},
   "source": [
    "# The Education Factor\n",
    "\n",
    "The Great British Class Survey builds on preexisting research on European economic classes. Overall, the European literature appears to have a preponderance of left-leaning economic and social class analysis over the US literature. At least, the European literature seems to be more up-front about these factors. I suspect this is in part due to the lingering impact of red scare propaganda and successful barbarization of communism in the Unites States, which predisposes even academic circles to distance themselves from class analysis. \n",
    "\n",
    "It cannot be neglected that the United States functions as an empire, with various tributary states with no political representation (Puerto Rico, Guam, etc.) and other states which the United States controls through economic means, with the threat of military coercion and soft power influence always apparent, ensuring the United States gets the lion's share of profits from most enterprises involving resource extraction, including labor extraction, where labor extraction is defined as the labor in those countries is cheaper, and is largely used to benefit trade networks that result in profits for the American patrician class, i.e. the limited number of people with sufficient capital to exert influence over the functioning of American industries and the actions of the government. The most globaly-inflluential industries, not by coincidence, are those of war and international banking, both which back and reinforce the ultimate power of the American dollar. \n",
    "\n",
    "That is to say that the current mystification of class is inseparable from the American empire. One theory may be that this obfuscation may be seen as an optimal way to prevent rank and file Americans from recognizing the despicable actions required to maintain any empire.\n",
    "\n",
    "Before moving onward in our analysis of data, I feel it is imperative to note the tributary nature of economies that the U.S. largely controls (particularly in South America). As mentioned, profit is extracted from these states by capitalizing on the low investment cost (cheap labor, lack of safety regulations, ability to coerce/control the economically-dependent and independently powerless state) reaping billions of dollars in rewards for the American patrician class. Because the assets of the upper classes are insufficiently taxed, the tribute from these states is primarily used to add to the wealth of the patrician class, precluding the lower and middle classes from the wealth of the empire, and even precluding the state from capitalizing on the profits that would not exist without it. The American patrician class, reaping the lion's share of the reward, not only add massively to their fantastic wealth, but further consolidate their power through consolidation of their wealth. This is easily-demonstrated through the extremely low density of people that control the greatest shares of wealth, visible even at the lowest levels of the upper class, the millionaires (though it is important to note that a simple millionaire is not remotely comparable to a member of the patrician class in terms of power, wealth, and social status: it would be like compaing a Roman soldier to a Roman emperor, so great is the disparity that using an equestrian as a stand-in for the millionaire class is inept for the metaphor).\n",
    "\n",
    "By and large, the mystification of class prevents people in the lower and middle classes from recognizing the sheer level of disparity between them and the upper-income class. The upper-income class is in turn also robbed of a tool which would inform them that they, too, are levels of magnitude away from the ruling elite, our patrician class.\n",
    "\n",
    "This is not to say that Americans do not have a concept of the level of division; especially as income inequality rises, the disparity is impossible not to see.\n",
    "\n",
    "Above all, these classes are kept complacent through readily-available mass consumption of goods and services. And the degree to which these goods are available is so great due to the power and influence of the American empire.\n",
    "\n",
    "Europeans, for various reasons, have adopted more left-wing economic and social policies, though the societies of europe are entirely capitalist. The application of left-wing principles is inherent to the welfare component of these states, and the left-wing drum continues to be hammered on by the efforts in labor unions accross Europe.\n",
    "\n",
    "European coutries and the USA are capitalist representative democracies in the Western core of the American empire, with a good degree of cultural exchange and shared cultural heritage. Therefore, it is not unreasonable to apply European economic research to the United States. But, because the goals of any given European country and academic bias of any given research institution, the particular details of implementation, as well as the class makeup, is different enough to warrant a level of caution when applying European metrics to the USA.\n",
    "\n",
    "One finding of European research on class, which is not independent from the American tradition of research on class, is that classes exist on social as well as economic levels. The Great British Class Survey considers 3 separate vectors: economic, social, and cultural status signifiers, and hypothesizes that together, these vectors (and their many components) explain the modern contruct of social class.\n",
    "\n",
    "One of the vectors that makes up social status is education, and it is theorized that the level of one's education is related to whether one is in the lower, middle, or upper social class.\n",
    "\n",
    "In this case, we will first examine the interplay of the social status signifier of education and the economic status signifier of pay rate."
   ]
  },
  {
   "cell_type": "code",
   "execution_count": null,
   "id": "8ef13e80",
   "metadata": {},
   "outputs": [],
   "source": [
    "levels(hhpp_normal_payrate$education_level)\n",
    "#education_level\n",
    "\n",
    "#summary(hhpp_normal_payrate)"
   ]
  },
  {
   "cell_type": "markdown",
   "id": "7757aac1",
   "metadata": {},
   "source": [
    "$f(x) = \\text{pay rate}$\n",
    "\n",
    "$X_i = \\text{education, where } i \\text{ represents level of education}$\n",
    "\n",
    "$f(x) = \\beta_{0} + \\beta_{i1}X_{i1} ... \\beta_{i15}X_{i15} +\\epsilon_{i} $\n",
    "\n",
    "Where $x_i$ is the baseline, in this case less than a 1st grade education. $x_{i1}$ represents a 1st through 4th grade education. There are 16 levels of x; if the first level of x is 0, then the $k$th level of x is represented by $x_{i15}$."
   ]
  },
  {
   "cell_type": "markdown",
   "id": "01600936",
   "metadata": {},
   "source": [
    "Based on the results of Hypothesis 1, we have been able to show a powerful relationship between pay rate and economic status; furthermore, we are aware that the relationship of economic status to pay rate divides it into 3 well-defined classes with some overlap. That is to say that we already know a model that purely uses education level to determine pay rate is not giving us the full story, because at least one of the chapters of that story (and an impactful one at that - perhaps the only one a professor would assign to briefly cover the matter) is that of economic class.\n",
    "\n",
    "So the results of this initial model must be considered in light of what we already know about pay rates: they can be largely explained by economic class.\n",
    "\n",
    "In order to understand the generalized relationship in terms of education, it is important to visualise and quantify this particular variable, so we can compare its influence alone to its influence when combined with the variable of economic class."
   ]
  },
  {
   "cell_type": "code",
   "execution_count": null,
   "id": "38313734",
   "metadata": {},
   "outputs": [],
   "source": [
    "hhpp_education  <- hhpp_normal_payrate"
   ]
  },
  {
   "cell_type": "code",
   "execution_count": null,
   "id": "7fdcf36b",
   "metadata": {},
   "outputs": [],
   "source": [
    "gg_payrate_edu  <- ggplot(hhpp_education, aes(pay_rate, x = education_level))\n",
    "gg_payrate_edu  <- gg_payrate_edu +\n",
    "geom_boxplot(aes(fill = education_level)) +\n",
    "theme(axis.text.x = element_text(angle = 33, vjust = 1.0, hjust=1))\n",
    "\n",
    "gg_payrate_edu"
   ]
  },
  {
   "cell_type": "markdown",
   "id": "4154e706",
   "metadata": {},
   "source": [
    "This box plot shows the distribution of pay rate (y) across different levels of education. As one can see, there is a general upward arc as increased academic achievement is obtained.\n",
    "\n",
    "However, starting from high school, the standard deviation of pay rate increases drastically, and a broad range of pay rates for income level start to form.\n",
    "\n",
    "Clearly, there is a nonlinear relationship between education and pay rate, especially as education level increases. One would expect the higher levels of education to have similar pay rates, and for the relationship to no longer increase as drastically, as some of the upper levels of education may have similar effects beyond a certain inflection point, that point most likely being high school. \n",
    "\n",
    "It may help to visualise these groupings in a more nonlinear fashion."
   ]
  },
  {
   "cell_type": "code",
   "execution_count": null,
   "id": "d89151f7",
   "metadata": {},
   "outputs": [],
   "source": [
    "#[Previous] graph [was] confusing. Hard to tell detail. Attemping amendment by reducing upper range of \n",
    "#weekly hours worked. Starting with cap at k = 60.\n",
    "\n",
    "hhpp_education$hours_week  <- as.integer(hhpp_education$hours_week)\n",
    "\n",
    " hhpp_education_disp  <- hhpp_education %>%\n",
    "     filter(hours_week <= 60)\n",
    "\n",
    " hhpp_education_disp  <- hhpp_education_disp %>%\n",
    "     filter(hours_week >= 30)\n",
    "\n",
    "\n",
    "gg_edu  <- ggplot(data = hhpp_education_disp, aes(y =income_week, hours_week)) + \n",
    "geom_point(size = 2, alpha = 1, aes(shape = education_level, color = education_level)) + \n",
    "scale_shape_manual(values=c(3, 3, 3, 3, 3, 3, 3, 3, 20, 2, 2, 2, 2, 2, 2, 2)) +\n",
    "geom_smooth()\n",
    "\n",
    "gg_edu "
   ]
  },
  {
   "cell_type": "markdown",
   "id": "0a9a140a",
   "metadata": {},
   "source": [
    "Crosses represent anyone with a sub-high school education.\n",
    "\n",
    "People with no grade school - grade school primarily can mostly be found on the bottom end of the spectrum, below the line of best fit. The points represent those with a high school education. Though more appear to be in the higher range of the spectrum, they are predominantly concentrated below the line of best fit.\n",
    "\n",
    "The triangles represent any level of higher education; they primarily dominate the upper range, being above the line of best fit. That said, there is a differentiation between higher education levels, too. Those with \"some college\" appear to largely be concentrated under the line of best fit. Meanwhile, those with a bachelor's degree or above appear predominantly above it.\n",
    "\n",
    "The line of best fit tells us a few things about the relationship between weekly income and weekly hours worked, which are useful to bear in mind. The line has a more gentle slope when the $k$ for hours worked per week is <30 (not shown). At around $x = 30$, the line (as shown) takes on a steeper slope that governs the relationship between those who work more than ~30 hours a week and their pay. "
   ]
  },
  {
   "cell_type": "code",
   "execution_count": null,
   "id": "6549ab5a",
   "metadata": {
    "scrolled": false
   },
   "outputs": [],
   "source": [
    "glm_payrate  <- glm(pay_rate ~ 1, data = hhpp_education, family = Gamma(link =\"identity\"))\n",
    "summary(glm_payrate)"
   ]
  },
  {
   "cell_type": "code",
   "execution_count": null,
   "id": "a074867c",
   "metadata": {},
   "outputs": [],
   "source": [
    "levels(hhpp_education$education_level)\n",
    "\n",
    "summary(hhpp_education$education_level)"
   ]
  },
  {
   "cell_type": "code",
   "execution_count": null,
   "id": "6a649063",
   "metadata": {},
   "outputs": [],
   "source": [
    "glm_payrate_education  <- glm(pay_rate ~ education_level, data = hhpp_education, family = Gamma(link =\"identity\"))\n",
    "summary(glm_payrate_education)"
   ]
  },
  {
   "cell_type": "markdown",
   "id": "72c0c148",
   "metadata": {},
   "source": [
    "## Model Error"
   ]
  },
  {
   "cell_type": "markdown",
   "id": "4c682132",
   "metadata": {},
   "source": [
    "### Train/Test error"
   ]
  },
  {
   "cell_type": "code",
   "execution_count": null,
   "id": "23272ac8",
   "metadata": {},
   "outputs": [],
   "source": [
    "train = sample(x = 5048, size = 1262)"
   ]
  },
  {
   "cell_type": "code",
   "execution_count": null,
   "id": "dd1d3831",
   "metadata": {},
   "outputs": [],
   "source": [
    "glm_payrate_education  <- glm(pay_rate ~ education_level, data = hhpp_education, family = Gamma(link =\"identity\"))\n",
    "mean((hhpp_normal_payrate$pay_rate-predict(glm_payrate_education,hhpp_education))[-train]^2)"
   ]
  },
  {
   "cell_type": "markdown",
   "id": "23f85673",
   "metadata": {},
   "source": [
    "### K-fold cross validation error"
   ]
  },
  {
   "cell_type": "code",
   "execution_count": null,
   "id": "819c7622",
   "metadata": {},
   "outputs": [],
   "source": [
    "cv.err  = cv.glm(hhpp_education, glm_payrate_education, K=10)\n",
    "\n",
    "cv.err$delta "
   ]
  },
  {
   "cell_type": "markdown",
   "id": "b231dca4",
   "metadata": {},
   "source": [
    "A few things are apparent here:\n",
    "\n",
    "The average pay rate across all income groups starts at 21.93 (+-3.28.). This estimate is that of those with a sub-grade school education and is grossly inaccurate (n of people with a less than a grade school education = 5). Nevertheless it serves primarily as a pointer, and so the accuracy of the baseline estimate is not of much concern.\n",
    "\n",
    "The greater issue is the model's relatively poor fit (AIC = 34983).\n",
    "\n",
    "However, the n of other categories of interest is higher, so I am more inclined to believe them.\n",
    "\n",
    "Higher education, at or above the level of a bachelor's degree, appears to be correlated to substantially higher pay rates.\n",
    "\n",
    "A level of education beyond a bachelor's degree appears to be substantially associated with higher pay rates, with the highest pay rate being enjoyed by those with doctoral degrees."
   ]
  },
  {
   "cell_type": "markdown",
   "id": "b8406d14",
   "metadata": {},
   "source": [
    "Now that we understand the general relationship between these levels of education and income, the time has come to introduce economic class to our model.\n",
    "\n",
    "Before we do that, it would be wise to consider the relationship of pay rate to education level for each level of economic class, to see how they differ."
   ]
  },
  {
   "cell_type": "code",
   "execution_count": null,
   "id": "192bead1",
   "metadata": {},
   "outputs": [],
   "source": [
    "gg_payrate_edu_hhincome  <- ggplot(hhpp_education, aes(y = pay_rate, x = income_class)) +\n",
    "                            geom_boxplot() +\n",
    "                            facet_wrap(vars(education_level))\n",
    "\n",
    "gg_payrate_edu_hhincome"
   ]
  },
  {
   "cell_type": "markdown",
   "id": "09839036",
   "metadata": {},
   "source": [
    "Notice the trend across levels of education. While pay rate does increase as level of education increases, the relationships between economic classes hold constant across level of education. The issue with this is, as aforementioned, that economic class, despite being calculated as a function of household (not personal) income, is nevertheless a measure that is more likely to be a more recent indicator than education. We are looking at education at a fixed point in time, as opposed to how education impacts pay rate and may redefine economic class."
   ]
  },
  {
   "cell_type": "code",
   "execution_count": null,
   "id": "d49fd17b",
   "metadata": {},
   "outputs": [],
   "source": [
    "names(hhpp_education)"
   ]
  },
  {
   "cell_type": "code",
   "execution_count": null,
   "id": "87e26cd4",
   "metadata": {},
   "outputs": [],
   "source": [
    "hhpp_education_Linc  <- hhpp_education %>%\n",
    "    filter(income_class == c('lower'))\n",
    "\n",
    "hhpp_education_Minc  <- hhpp_education %>%\n",
    "    filter(income_class == c('middle'))\n",
    "\n",
    "hhpp_education_Uinc  <- hhpp_education %>%\n",
    "    filter(income_class == c('upper'))"
   ]
  },
  {
   "cell_type": "code",
   "execution_count": null,
   "id": "7d7eadc9",
   "metadata": {},
   "outputs": [],
   "source": [
    "names(hhpp_education_Linc)"
   ]
  },
  {
   "cell_type": "code",
   "execution_count": null,
   "id": "64ba8efa",
   "metadata": {
    "scrolled": true
   },
   "outputs": [],
   "source": [
    "# Data visualisation: are people in the separate classes represented at similar rates?\n",
    "\n",
    "factor_proportion  <- function(df.var) {\n",
    "    smry  <- summary(df.var)\n",
    "    \n",
    "    dbl = rep(NULL, 16)\n",
    "    smry.sum = sum(smry)\n",
    "\n",
    "    count = 0\n",
    "    for (i in smry){\n",
    "        count = count + 1\n",
    "        dbl[count] = i/smry.sum}\n",
    "    \n",
    "    return(dbl)\n",
    "}\n",
    "\n",
    "Linc_prop  <- factor_proportion(hhpp_education_Linc$education_level)\n",
    "Minc_prop  <- factor_proportion(hhpp_education_Minc$education_level)\n",
    "Uinc_prop  <- factor_proportion(hhpp_education_Uinc$education_level)\n",
    "\n",
    "income_class  <- c(\"lower\", \"middle\", \"upper\")\n",
    "X1  <- c(0.0,  0.0025062656641604, 0.00625782227784731)\n",
    "\n",
    "proportions  <- c(Linc_prop, Minc_prop, Uinc_prop)\n",
    "\n",
    "lower_vec = rep(\"lower\",16)\n",
    "middle_vec = rep(\"middle\",16)\n",
    "upper_vec = rep(\"upper\",16)\n",
    "\n",
    "income_class  <- c(lower_vec, middle_vec, upper_vec)\n",
    "\n",
    "edu_vec =  rep(c(\"sub_gs\", \"1.4\", \"5.6\" ,\"7.8\",  \"9\",  \"10\" , \"11\" , \"12\" ,  \"hs\", \n",
    "                     \"c_some\" , \"c_a_occ.voc\",\"c_a_acad\",\"c_b\" ,\"c_m\",\"prof\" ,\"c_d\"), 3)\n",
    "\n",
    "\n",
    "edu_prop.df.2 <- data.frame(matrix(NA,    # Create empty data frame\n",
    "                          nrow = 48,\n",
    "                          ncol = 3))\n",
    "\n",
    "edu_prop.df.2 <- edu_prop.df.2 %>% \n",
    "        rename(\"Proportion\" = \"X1\",\n",
    "               \"Education_Level\" = \"X2\",\n",
    "               Income_Class = \"X3\")\n",
    "\n",
    "edu_prop.df.2[,1] = proportions\n",
    "edu_prop.df.2[,2] = as.factor(edu_vec)\n",
    "edu_prop.df.2[,3] = as.factor(income_class)\n",
    "\n",
    "\n",
    "edu_prop.df.2\n",
    "\n",
    "income_class_label.df  <- data.frame(income_class, \"Proportion\")\n",
    "\n",
    "edu_prop.df.2$Education_Level <- recode_factor(edu_prop.df.2$Education_Level, \"sub_gs\" = \"sub_gs\",\n",
    "                                                \"1.4\" = \"1.4\",  \"5.6\" = \"5.6\", \"7.8\" = \"7.8\", \n",
    "                                                \"9\" = \"9\", \"10\" = \"10\", \"11\" = \"11\", \"12\" = \"12\",\n",
    "                                               \"hs\" = \"hs\", \"c_some\" = \"c_some\", \"c_a_occ.voc\" = \"c_a_occ.voc\", \"c_a_acad\" = \"c_a_acad\",\n",
    "                                               \"c_b\" = \"c_b\", \"c_m\" = \"c_m\", \"prof\" = \"prof\", \"c_d\" = \"c_d\")\n",
    "\n",
    "ggplot(data = edu_prop.df.2, aes(y = Proportion, x = Income_Class, fill = Income_Class)) + \n",
    "geom_col()+\n",
    "facet_wrap(vars(Education_Level)) +\n",
    "theme(axis.text.x=element_blank(), \n",
    "     axis.ticks.x=element_blank()) +\n",
    "labs(x = \"\", title = \"Rate of highest education level across income classes\")"
   ]
  },
  {
   "cell_type": "markdown",
   "id": "be853ff4",
   "metadata": {},
   "source": [
    "It is necessary to determine whether members of the lower, middle, and upper classes go to school at similar rates. More specifically, whether their rates of highest education level are comparable.\n",
    "\n",
    "Lower-class people are overrepresented in the sub-grade school to eleventh grade levels, indicating that membership in the lower class may be related to lower levels of education. Middle-class people are also represented, though to a much lesser degree. Comparatively, the upper class is either not represented at all or in tiny rates. Interestingly, more middle-income people's highest level of education is at a 12th-grade level than either lower or upper-income people, though this difference may be unimportant. The same is true for those who graduate college.\n",
    "\n",
    "Advancing to the college level, upper-class people achieve \"some college\" education at higher rates than both middle and lower-income people. They also obtain associate's degrees at higher rates. Fascinatingly, the lower and middle classes have higher rates of bachelor's and master's degrees thn those in the upper classes, although they graduate professional school at higher rates. (e.g., JD, MD)\n",
    "\n",
    "In other words, though people in the lower and middle economic classes are disproportionately represented at the lowest levels of education, more of them obtain bachelor's and master's degrees than members of the upper classes, whose highest levels of education are primarily \"some college\" or an associate's degree in an academic field."
   ]
  },
  {
   "cell_type": "markdown",
   "id": "557b96ad",
   "metadata": {},
   "source": [
    "Upper-income people enjoy higher pay rates than middle-income people, who in turn enjoy higher pay rates than lower-income people with the same education, despite lower and middle-income people obtaining higher levels of educational achievement at greater rates than upper-income people.\n",
    "\n",
    "This is most likely due to the buoying effect of wealth, whereby a household's connections and economic assets can be leveraged to support an individual, thereby balancing out the impact of a lower education.\n",
    "\n",
    "From this, it is clear that there is a relationship between pay rate and education level that is influenced by the interaction between education level and income class. The precise nature of the relationship between education level and income class is difficult to determine.\n",
    "\n",
    "Fortunately, there is a way to gauge the relationship between education and economic class: linear discriminant analysis.\n",
    "\n",
    "I chose to conduct LDA predicting income class from education level based on the premise that education level is more likely to be a temporal precedent to income class, and thereby the LDA serves to some degree to compare two points in time. Most importantly, I was interested in gauging the degree to which highest education level was predictive of income class.\n",
    "\n",
    "The code used to conduct LDA was in most part taken from the work of Timothy Verstynen and his TAs throughout the years (https://coaxlab.github.io/Data-Explorations/notebooks/classifiers.html#lda)."
   ]
  },
  {
   "cell_type": "code",
   "execution_count": null,
   "id": "de3cd4a2",
   "metadata": {},
   "outputs": [],
   "source": [
    "# Set up a train and a test set.\n",
    "\n",
    "sample  <- sample(c(TRUE, FALSE), nrow(hhpp_education), replace = T, prob=c(0.3, .7))\n",
    "\n",
    "train_lda  <- hhpp_education[sample, ]\n",
    "test_lda  <- hhpp_education[!sample, ]\n",
    "\n",
    "dim(test_lda)\n",
    "dim(train_lda)\n",
    "\n",
    "income_class_test <- test_lda$income_class"
   ]
  },
  {
   "cell_type": "code",
   "execution_count": null,
   "id": "115baf2f",
   "metadata": {},
   "outputs": [],
   "source": [
    "# LDA syntax is just like for linear regression fitting \n",
    "# Let's conduct LDA on the training subset now\n",
    "lda.fit <- lda(income_class ~ education_level, data = hhpp_education, subset = sample)\n",
    "lda.fit # The summary() function gives you something different\n",
    "plot(lda.fit)"
   ]
  },
  {
   "cell_type": "code",
   "execution_count": null,
   "id": "5c010d85",
   "metadata": {},
   "outputs": [],
   "source": [
    "# Predict from your LDA coefficients\n",
    "lda.pred = predict(lda.fit, test_lda)\n",
    "\n",
    "# We next extract the output of the prediction \n",
    "lda.class = lda.pred$class\n",
    "table(lda.class, income_class_test)\n",
    "print(paste(\"Accuracy:\",mean(lda.class==income_class_test)))"
   ]
  },
  {
   "cell_type": "markdown",
   "id": "5bcd55bb",
   "metadata": {},
   "source": [
    "Linear discriminant analysis (LDA) reveals that, with a train set of 1,543 people, the income classes of the test set of 3,505 people can be predicted with 57.94% accuracy with education as the sole predictor.\n",
    "\n",
    "This supports the link between level of education and current income class, though the directionality of the effect is difficult to discern.\n",
    "\n",
    "Since income_class appears to predict pay rate consistently across education level (fig. N.N.), there is a complex relationship that varies across level of education according to income level, and the two appear to be moderately-strongly related according to LDA, I am inclined to believe that a superior model of education would include the interaction between income class and education level."
   ]
  },
  {
   "cell_type": "code",
   "execution_count": null,
   "id": "5431f0e8",
   "metadata": {},
   "outputs": [],
   "source": [
    "glm_payrate  <- glm(pay_rate ~ 1, data = hhpp_education, family = Gamma(link =\"identity\"))\n",
    "glm_payrate$coefficients"
   ]
  },
  {
   "cell_type": "code",
   "execution_count": null,
   "id": "9910afe4",
   "metadata": {},
   "outputs": [],
   "source": [
    "summary(hhpp_education$education_level)"
   ]
  },
  {
   "cell_type": "code",
   "execution_count": null,
   "id": "a822e279",
   "metadata": {
    "scrolled": true
   },
   "outputs": [],
   "source": [
    "glm_payrate_edu_income  <- glm(pay_rate ~ education_level:income_class, data = hhpp_education, family = Gamma(link =\"identity\"))\n",
    "summary(glm_payrate_edu_income)\n",
    "attributes(glm_payrate_edu_income)\n",
    "\n",
    "plot(allEffects(glm_payrate_edu_income))"
   ]
  },
  {
   "cell_type": "markdown",
   "id": "353727ba",
   "metadata": {},
   "source": [
    "## Model Error"
   ]
  },
  {
   "cell_type": "markdown",
   "id": "3746bfc8",
   "metadata": {},
   "source": [
    "### Train/Test Error"
   ]
  },
  {
   "cell_type": "code",
   "execution_count": null,
   "id": "d521046a",
   "metadata": {},
   "outputs": [],
   "source": [
    "train = sample(x = 5048, size = 1262)"
   ]
  },
  {
   "cell_type": "code",
   "execution_count": null,
   "id": "62c570a2",
   "metadata": {},
   "outputs": [],
   "source": [
    "glm_payrate_edu_income  <- glm(pay_rate ~ education_level:income_class, data = hhpp_education, family = Gamma(link =\"identity\"))\n",
    "mean((hhpp_normal_payrate$pay_rate-predict(glm_payrate_edu_income,hhpp_education))[-train]^2)"
   ]
  },
  {
   "cell_type": "markdown",
   "id": "4f9472e4",
   "metadata": {},
   "source": [
    "### K-fold cross validation error"
   ]
  },
  {
   "cell_type": "code",
   "execution_count": null,
   "id": "2c810ed5",
   "metadata": {},
   "outputs": [],
   "source": [
    "cv.err  = cv.glm(hhpp_education, glm_payrate_edu_income, K=10)\n",
    "\n",
    "cv.err$delta "
   ]
  },
  {
   "cell_type": "code",
   "execution_count": null,
   "id": "fe30262b",
   "metadata": {},
   "outputs": [],
   "source": [
    "40.8474 + -5.9292 \n",
    "\n",
    "40.8474 + -16.8114\n",
    "\n",
    "lc_hs  <- 40.8474 + -24.8985\n",
    "\n",
    "lc_ba  <- 40.8474 + -24.3350\n",
    "\n",
    "lc_ba - lc_hs \n",
    "\n",
    "mc_hs  <- 40.8474 + -19.4201\n",
    "\n",
    "mc_ba  <- 40.8474 + -17.8396\n",
    "\n",
    "mc_ba - mc_hs\n",
    "\n",
    "uc_hs  <- 40.8474 + -5.9292\n",
    "\n",
    "uc_ba  <- 40.8474 + -2.6542\n",
    "\n",
    "uc_ba - uc_hs"
   ]
  },
  {
   "cell_type": "markdown",
   "id": "8be11750",
   "metadata": {},
   "source": [
    "The model AIC (29969) is not massively superior to the income class-only model (30080). It is, however, lower by more than 100, which does represent an objectively superior model.\n",
    "\n",
    "The estimates of lower-class people in this model are substantially lower than those of middle-class people, who in turn have substantially lower estimates than those in the upper class. Nevertheless, it is important to note that, as education increases, so does the estimate of the interaction terms, implying that education does indeed play a substantial role. However, this role appears to be much larger for the upper classes, where higher levels of education are associated with much larger pay rates than lower levels of education. That difference is markedly less observable for the lower and middle classes.\n",
    "\n",
    "One argument that could be levied is that indeed, education does bring economic mobility, and the people who were formerly in the lower and middle classes have migrated to the upper class by virtue of their higher education. On account of the substantial difference between the estimated pay rate of an upper-class individual with a high school education (34.91) and a middle-class individual with a doctoral degree (24.03) I am inclined to call bullshit. \n",
    "\n",
    "A more compelling argument from the data is that income inequality in the United States is so shockingly horrible that education is only responsible with marginal increases in pay rate compared to the wealth of the household one currently resides in.\n",
    "\n",
    "If a middle-class person were indeed equivalent to an upper-class person, and could move up solely by virtue of education, this difference would be in the opposite direction: the middle-class individual, with more education, would, by virtue of their education, be more qualified and therefore more deserving than an upper-class person with a high school education, and should theoretically be receiving higher pay regardless. Due to income inequality, however, this is not the case.\n",
    "\n",
    "One could levy the argument that, while it is unfortunate that many individuals do not experience upward economic mobility, education at least allows for higher pay rate within one's own class. I would then ask why a lower-class individual with a bachelor's degree, whose pay rate is estimated to be 15.94, is only paid 56 cents more than a lower-class individual with a high school education, whose pay rate is 16.51. Meanwhile, the difference between a middle-clas person with a high school education and one with a bachelor's is $\\$1.68$. That same difference, between-upper class people with a high school and bachelor's education is $\\$3.27$."
   ]
  },
  {
   "cell_type": "code",
   "execution_count": null,
   "id": "5a7795e0",
   "metadata": {},
   "outputs": [],
   "source": [
    "lower_income_edu  <- hhpp_normal_payrate %>%\n",
    "    filter(income_class == c('lower'))\n",
    "\n",
    "middle_income_edu  <- hhpp_normal_payrate %>%\n",
    "    filter(income_class == c('middle'))\n",
    "\n",
    "upper_income_edu  <- hhpp_normal_payrate %>%\n",
    "    filter(income_class == c('upper'))"
   ]
  },
  {
   "cell_type": "markdown",
   "id": "fd5ee2fb",
   "metadata": {},
   "source": [
    "To conduct a more granular assessment, it may be useful to run models that control for income class."
   ]
  },
  {
   "cell_type": "markdown",
   "id": "381768c8",
   "metadata": {},
   "source": [
    "### Pay Rate ~ Education | Holding Lower Class Constant"
   ]
  },
  {
   "cell_type": "code",
   "execution_count": null,
   "id": "4f4a7b43",
   "metadata": {
    "scrolled": false
   },
   "outputs": [],
   "source": [
    "glm_payrate  <- glm(pay_rate ~ education_level, data = lower_income_edu, family = Gamma(link =\"identity\"))\n",
    "summary(glm_payrate)"
   ]
  },
  {
   "cell_type": "markdown",
   "id": "8826d7a1",
   "metadata": {},
   "source": [
    "### Pay Rate ~ Education | Holding Middle Class Constant"
   ]
  },
  {
   "cell_type": "code",
   "execution_count": null,
   "id": "02b90477",
   "metadata": {},
   "outputs": [],
   "source": [
    "glm_payrate  <- glm(pay_rate ~ education_level, data = middle_income_edu, family = Gamma(link =\"identity\"))\n",
    "summary(glm_payrate)"
   ]
  },
  {
   "cell_type": "markdown",
   "id": "7eaa620a",
   "metadata": {},
   "source": [
    "### Pay Rate ~ Education | Holding Upper Class Constant"
   ]
  },
  {
   "cell_type": "code",
   "execution_count": null,
   "id": "86cd2669",
   "metadata": {},
   "outputs": [],
   "source": [
    "glm_payrate  <- glm(pay_rate ~ education_level, data = upper_income_edu, family = Gamma(link =\"identity\"))\n",
    "summary(glm_payrate)"
   ]
  },
  {
   "cell_type": "markdown",
   "id": "68e251c1",
   "metadata": {},
   "source": [
    "The idea that education influences pay rate is, once one controls for one's current economic class, largely untrue. \n",
    "\n",
    "This conclusion is premature without analyzing the particular degrees and institutions that may be more likely to render higher salaries. Nevertheless, for the broad population, education appears to have a limeted impact on income."
   ]
  },
  {
   "cell_type": "code",
   "execution_count": null,
   "id": "be1de9a9",
   "metadata": {},
   "outputs": [],
   "source": [
    "#SET WORKING DIRECTORY to user-modified data directory\n",
    "setwd(\"C:/Users/roman/OneDrive/Documents/Summer 2023/DSPN/LAPADAT_DSPN_S23_FinalProject/Modified Data\") # Redefine working directory\n",
    "\n",
    "hhpp2  <- read.csv(\"C:/Users/roman/OneDrive/Documents/Summer 2023/DSPN/LAPADAT_DSPN_S23_FinalProject/Modified Data/data_clean_2.csv\")\n",
    "head(hhpp2)\n",
    "\n",
    "person_2  <- read.csv(\"income_over_0_pppub22.csv\")\n",
    "head(person_2)"
   ]
  },
  {
   "cell_type": "code",
   "execution_count": null,
   "id": "dd969698",
   "metadata": {
    "scrolled": true
   },
   "outputs": [],
   "source": [
    "person_3  <- person_2 %>%\n",
    "    select(H_SEQ = PH_SEQ, PPPOS, A_MJOCC)\n",
    "\n",
    "head(person_3)\n",
    "dim(person_3)\n",
    "\n",
    "hhpp3  <- left_join(person_3, hhpp2, by = c(\"H_SEQ\", \"PPPOS\"))\n",
    "head(hhpp3)\n",
    "dim(hhpp3)\n",
    "\n",
    "col_names <- sapply(hhpp3, function(col) length(unique(col)) < 30)\n",
    "hhpp3[ , col_names] <- lapply(hhpp3[ , col_names] , factor)"
   ]
  },
  {
   "cell_type": "markdown",
   "id": "7ac7c89f",
   "metadata": {},
   "source": [
    "**Dubbing Variables and Variable Levels** "
   ]
  },
  {
   "cell_type": "code",
   "execution_count": null,
   "id": "4b0c0547",
   "metadata": {
    "scrolled": true
   },
   "outputs": [],
   "source": [
    "# Renaming undubbed variables\n",
    "hhpp3 <- hhpp3 %>% \n",
    "        rename(\"major_occupation\" = \"A_MJOCC\")"
   ]
  },
  {
   "cell_type": "code",
   "execution_count": null,
   "id": "cdc62706",
   "metadata": {},
   "outputs": [],
   "source": [
    "# Renaming Occupation codes to add meaning\n",
    "hhpp3$major_occupation <- recode_factor(hhpp3$major_occupation,\n",
    "                                        \"1\" = \"Management, business, financial\",\n",
    "                                        \"2\" = \"Professional and related\",\n",
    "                                        \"3\" = \"Service\",\n",
    "                                        \"4\" = \"Sales and related\",\n",
    "                                        \"5\" = \"Office, administrative support\",\n",
    "                                        \"6\" = \"Farming, fishing, forestry\",\n",
    "                                        \"7\" = \"Construction, extraction\",\n",
    "                                        \"8\" = \"Installation, maintenance, repair\",\n",
    "                                        \"9\" = \"Production\",\n",
    "                                        \"10\" = \"Transportation, material moving\"\n",
    "                                               )\n",
    "\n",
    "summary(hhpp3$major_occupation)"
   ]
  },
  {
   "cell_type": "markdown",
   "id": "a013812f",
   "metadata": {},
   "source": [
    "## Occupation Visualisations"
   ]
  },
  {
   "cell_type": "code",
   "execution_count": null,
   "id": "144fd26a",
   "metadata": {},
   "outputs": [],
   "source": [
    "gg_occupation_class  <- ggplot(data = hhpp3, aes(pay_rate, y = major_occupation)) +\n",
    "geom_violin(scale = \"area\") +\n",
    "xlim(0, 100) +\n",
    "facet_wrap(vars(income_class)) +\n",
    "labs(title = \"Pay Rate of Major Occupation Categories\", subtitle = \"Grouped by income class\")\n",
    "\n",
    "gg_occupation_class"
   ]
  },
  {
   "cell_type": "markdown",
   "id": "79f0a0aa",
   "metadata": {},
   "source": [
    "Violin plots are a bit trickier to read than box plots, since they don't offer cut-and-dry lines. However, in this case, violin plots are appropriate, because they explain the data well.\n",
    "\n",
    "The part where the \"violins\" are thickest is where the most people are concentrated.\n",
    "\n",
    "For lower-income people, it should come as no surprise that the distribution is primariy towards the lower end of the pay rate spectrum,\n",
    "\n",
    "We see some greater distribution of pay rate across middle-income people, as the violin does not immediately plunge downward into a point, but slopes gradually.\n",
    "\n",
    "For upper-income people, there is generally a far more even distribution, especially compared to lower-income people.\n",
    "\n",
    "We can determine the best-paying jobs by seeing where the fat part of the violin is. So the best-paying jobs will have a fat part higher up the pay rate spectrum than the worse-paying ones, as a rule.\n",
    "\n",
    "Management, business, financial, as well as professional and related occupations appear to dominate the higher-end of the spectrum.\n",
    "\n",
    "Transportation; production; instruction, maintenance, and repair; and construction, extraction seem to be better-paid, with the fat part going up across the list. That is to say, the list of occupations lists what appears to be the worst-paying category of jobs first, and the best-paying (construction, extraction) last.\n",
    "\n",
    "At the bottom we have service; sales; office and administrative support; and farming, fishing, and forestry. The latter shows clear class stratification. Notice how the violin plot of middle-income farmers, fishers, and foresters seems to pick up where the lower-income one led off. You can spot this trend by looking from left to right at all industries, but it is particularly clear in this case."
   ]
  },
  {
   "cell_type": "markdown",
   "id": "030e84e1",
   "metadata": {},
   "source": [
    "# Modeling Pay Rate with Income Class and Major Occupation"
   ]
  },
  {
   "cell_type": "markdown",
   "id": "a7b17ead",
   "metadata": {},
   "source": [
    "## Model 1: Just Major Occupation\n",
    "\n",
    "To understand how income varies across major occupation categories, it is useful to make a model where pay rate is solely predicted by major occupation."
   ]
  },
  {
   "cell_type": "markdown",
   "id": "87cf9908",
   "metadata": {},
   "source": [
    "As predicted, my intuition was right, because of course it was. Now I'm going to cheat a bit and reorder the factors from least-greatest estimate, which should make interpreting the model a little easier."
   ]
  },
  {
   "cell_type": "code",
   "execution_count": null,
   "id": "8f7225c8",
   "metadata": {},
   "outputs": [],
   "source": [
    "# REORDER\n",
    "hhpp3$major_occupation <- factor(hhpp3$major_occupation, levels=c('Farming, fishing, forestry', \n",
    "                                                                  'Service', \n",
    "                                                                  'Transportation, material moving', \n",
    "                                                                  'Office, administrative support', \n",
    "                                                                  'Production',\n",
    "                                                                 'Sales and related',\n",
    "                                                                 \"Construction, extraction\",\n",
    "                                                                 \"Installation, maintenance, repair\",\n",
    "                                                                 \"Professional and related\",\n",
    "                                                                 \"Management, business, financial\"))"
   ]
  },
  {
   "cell_type": "code",
   "execution_count": null,
   "id": "7f03f7b3",
   "metadata": {},
   "outputs": [],
   "source": [
    "summary(hhpp3$major_occupation)"
   ]
  },
  {
   "cell_type": "code",
   "execution_count": null,
   "id": "16ed0cdd",
   "metadata": {
    "scrolled": false
   },
   "outputs": [],
   "source": [
    "glm_major_occupation  <- glm(pay_rate ~ major_occupation, data = hhpp3, family = Gamma(\"identity\"))\n",
    "summary(glm_major_occupation)\n",
    "\n",
    "plot(allEffects(glm_major_occupation))"
   ]
  },
  {
   "cell_type": "markdown",
   "id": "2fd4fb83",
   "metadata": {},
   "source": [
    "### Model Error"
   ]
  },
  {
   "cell_type": "markdown",
   "id": "b19d0043",
   "metadata": {},
   "source": [
    "#### Train/Test Error"
   ]
  },
  {
   "cell_type": "code",
   "execution_count": null,
   "id": "b48f3ca2",
   "metadata": {},
   "outputs": [],
   "source": [
    "train = sample(x = 10168, size = 1000)"
   ]
  },
  {
   "cell_type": "code",
   "execution_count": null,
   "id": "2b1acb6d",
   "metadata": {},
   "outputs": [],
   "source": [
    "glm_major_occupation.fit  <- glm(pay_rate ~ major_occupation, data = hhpp3, subset = train, family = Gamma(link =\"log\"))\n",
    "mean((hhpp3$pay_rate-predict(glm_major_occupation.fit,hhpp3))[-train]^2)"
   ]
  },
  {
   "cell_type": "markdown",
   "id": "0e4f2b91",
   "metadata": {},
   "source": [
    "#### K-fold cross validation error"
   ]
  },
  {
   "cell_type": "code",
   "execution_count": null,
   "id": "a1a59b02",
   "metadata": {},
   "outputs": [],
   "source": [
    "cv.err  = cv.glm(hhpp3, glm_major_occupation.fit, K=10)\n",
    "cv.err$delta \n",
    "\n",
    "# cv.err  = cv.glm(hhpp_education, glm_payrate_edu_income, K=10)\n",
    "\n",
    "# cv.err$delta "
   ]
  },
  {
   "cell_type": "markdown",
   "id": "9157f719",
   "metadata": {},
   "source": [
    "## Model 2: Major occupation and income class"
   ]
  },
  {
   "cell_type": "code",
   "execution_count": null,
   "id": "626b0ccb",
   "metadata": {
    "scrolled": false
   },
   "outputs": [],
   "source": [
    "glm_major_occupation_income  <- glm(pay_rate ~ major_occupation + income_class, data = hhpp3, family = Gamma(link =\"log\"))\n",
    "summary(glm_major_occupation)"
   ]
  },
  {
   "cell_type": "markdown",
   "id": "b75d9119",
   "metadata": {},
   "source": [
    "### Model Error"
   ]
  },
  {
   "cell_type": "markdown",
   "id": "9cb0c9d1",
   "metadata": {},
   "source": [
    "#### Train-test error"
   ]
  },
  {
   "cell_type": "code",
   "execution_count": null,
   "id": "b1a1fab9",
   "metadata": {},
   "outputs": [],
   "source": [
    "train = sample(x = 10168, size = 1000)"
   ]
  },
  {
   "cell_type": "code",
   "execution_count": null,
   "id": "bf3111c6",
   "metadata": {},
   "outputs": [],
   "source": [
    "glm_major_occupation_income.fit  <- glm(pay_rate ~ major_occupation + income_class, data = hhpp3, family = Gamma(link =\"log\"))\n",
    "mean((hhpp3$pay_rate-predict(glm_major_occupation_income.fit,hhpp3))[-train]^2)"
   ]
  },
  {
   "cell_type": "markdown",
   "id": "b512bb0d",
   "metadata": {},
   "source": [
    "#### K-fold cross validation error"
   ]
  },
  {
   "cell_type": "code",
   "execution_count": null,
   "id": "638970ca",
   "metadata": {},
   "outputs": [],
   "source": [
    "cv.err  = cv.glm(hhpp3, glm_major_occupation, K=10)\n",
    "cv.err$delta "
   ]
  },
  {
   "cell_type": "code",
   "execution_count": null,
   "id": "514a4dbc",
   "metadata": {},
   "outputs": [],
   "source": [
    "exp(coef(glm_major_occupation_income))"
   ]
  },
  {
   "cell_type": "code",
   "execution_count": null,
   "id": "aa13bfc4",
   "metadata": {},
   "outputs": [],
   "source": [
    "plot(allEffects(glm_major_occupation_income))"
   ]
  },
  {
   "cell_type": "markdown",
   "id": "1dc36cf7",
   "metadata": {},
   "source": [
    "## Model 3: Major Occupation and Union Membership"
   ]
  },
  {
   "cell_type": "code",
   "execution_count": null,
   "id": "304be671",
   "metadata": {
    "scrolled": true
   },
   "outputs": [],
   "source": [
    "glm_major_occupation_union  <- glm(pay_rate ~ major_occupation:union_member, data = hhpp3, family = Gamma(link =\"log\"))\n",
    "summary(glm_major_occupation_union)"
   ]
  },
  {
   "cell_type": "markdown",
   "id": "6fb5c692",
   "metadata": {},
   "source": [
    "### Model Error"
   ]
  },
  {
   "cell_type": "markdown",
   "id": "4323e7a8",
   "metadata": {},
   "source": [
    "#### Train/Test Error"
   ]
  },
  {
   "cell_type": "code",
   "execution_count": null,
   "id": "c8229c16",
   "metadata": {},
   "outputs": [],
   "source": [
    "glm_major_occupation_union.fit  <- glm(pay_rate ~ major_occupation:union_member, data = hhpp3, subset = train, family = Gamma(link =\"log\"))\n",
    "mean((hhpp3$pay_rate-predict(glm_major_occupation_union.fit,hhpp3))[-train]^2)"
   ]
  },
  {
   "cell_type": "code",
   "execution_count": null,
   "id": "ca003609",
   "metadata": {},
   "outputs": [],
   "source": [
    "cv.err  = cv.glm(hhpp3, glm_major_occupation_union, K=10)\n",
    "cv.err$delta "
   ]
  },
  {
   "cell_type": "code",
   "execution_count": null,
   "id": "e7415193",
   "metadata": {},
   "outputs": [],
   "source": [
    "#exp(coef(glm_major_occupation_union))\n",
    "\n",
    "log_coef  <- coef(glm_major_occupation_union)\n",
    "\n",
    "exp_service_0  <- exp(log_coef[1] + log_coef[3])\n",
    "\n",
    "exp_service_1  <- exp(log_coef[1] + log_coef[13])\n",
    "\n",
    "exp_service_0\n",
    "exp_service_1\n",
    "\n",
    "summary_coefficients  <- summary(glm_major_occupation_union)$coefficients\n",
    "\n",
    "exp_service_0_se  <- exp(summary_coefficients[3,2])\n",
    "exp_service_0_se\n",
    "\n",
    "exp_service_0_se  <- exp(summary_coefficients[13,2])\n",
    "exp_service_0_se\n",
    "\n",
    "exp_service_0 - exp_service_1"
   ]
  },
  {
   "cell_type": "code",
   "execution_count": null,
   "id": "7bde5994",
   "metadata": {},
   "outputs": [],
   "source": [
    "# make table of coefficients\n",
    "\n",
    "summ_coef_mod  <- data.frame(summary_coefficients)\n",
    "\n",
    "summ_coef_mod$Estimate_exp = NA\n",
    "summ_coef_mod$Std..Err_exp = NA\n",
    "\n",
    "# for every coefficient except the intercept, add that coefficient to the intercept coefficient,\n",
    "# and then take the exponent of that.\n",
    "for (i in 1:length(summ_coef_mod$Estimate)) {\n",
    "    \n",
    "    baseline  <- summ_coef_mod$Estimate[1]\n",
    "    baseline_exp  <- exp(baseline)\n",
    "    \n",
    "    if (i == 1) {\n",
    "        summ_coef_mod$Estimate_exp[i]  <- baseline_exp\n",
    "    }\n",
    "    else {\n",
    "        summ_coef_mod$Estimate_exp[i]  <- exp(summ_coef_mod$Estimate[i] + baseline)\n",
    "    }\n",
    "}\n",
    "\n",
    "\n",
    "for (i in 1:length(summ_coef_mod$Std..Error)) {\n",
    "    summ_coef_mod$Std..Err_exp[i]  <-  exp(summ_coef_mod$Std..Error[i])\n",
    "}\n",
    "summ_coef_mod\n"
   ]
  },
  {
   "cell_type": "code",
   "execution_count": null,
   "id": "f0a7f651",
   "metadata": {},
   "outputs": [],
   "source": [
    ".06880664 * baseline_exp # accurate answer\n",
    "\n",
    "0.09421737 * baseline_exp # inaccurate answer\n",
    "\n",
    "#1/0.09421737"
   ]
  },
  {
   "cell_type": "code",
   "execution_count": null,
   "id": "2713e380",
   "metadata": {},
   "outputs": [],
   "source": [
    "plot(allEffects(glm_major_occupation_union))"
   ]
  },
  {
   "cell_type": "markdown",
   "id": "ee3e497e",
   "metadata": {},
   "source": [
    "Once we control for major occupation category, the benefits of unions are apparent.\n",
    "\n",
    "For ununionized service industry workers, the rate of pay is  $\\$17.13 +/-\\$2.64$. For unionized service industry workers, the rate of pay is $\\$26.38 +/-\\$2.93$. This is a massive estimated difference of $\\$9.25$ between unionized and non-unionized service industry workers."
   ]
  },
  {
   "cell_type": "code",
   "execution_count": null,
   "id": "97d87c90",
   "metadata": {},
   "outputs": [],
   "source": [
    "names(hhpp3)"
   ]
  },
  {
   "cell_type": "code",
   "execution_count": null,
   "id": "8c228426",
   "metadata": {},
   "outputs": [],
   "source": [
    "glm_major_occupation_union  <- glm(pay_rate ~ major_occupation:paid_hourly, data = hhpp3, family = Gamma(link =\"log\"))\n",
    "summary(glm_major_occupation_union)\n",
    "\n",
    "glm_major_occupation_union  <- glm(pay_rate ~ major_occupation:education_level, data = hhpp3, family = Gamma(link =\"log\"))\n",
    "summary(glm_major_occupation_union)"
   ]
  },
  {
   "cell_type": "code",
   "execution_count": null,
   "id": "2451f77e",
   "metadata": {},
   "outputs": [],
   "source": [
    "library(leaps)"
   ]
  },
  {
   "cell_type": "code",
   "execution_count": null,
   "id": "37aa4047",
   "metadata": {},
   "outputs": [],
   "source": [
    "#use every variable EXCEPT salary as a predictor\n",
    "regfit.full = regsubsets(pay_rate ~ ., \n",
    "                         data = select(hhpp3, c(pay_rate, income_class, education_level, major_occupation, union_member, gender_binary, paid_hourly, full_time))) \n",
    "summary(regfit.full)"
   ]
  },
  {
   "cell_type": "code",
   "execution_count": null,
   "id": "f6c2379a",
   "metadata": {},
   "outputs": [],
   "source": [
    "# Uncomment the model fit measures you want to look at. \n",
    "\n",
    "reg.summary  <- summary(regfit.full)\n",
    "\n",
    "# A vector that lists the number of variables in sequence, from 1 to 19.\n",
    "numvar = 1:length(reg.summary$rss) \n",
    "# Starting point for an indicator that marks best model choice for each metric.\n",
    "allfalse = rep(FALSE,length(reg.summary$rss))\n",
    "\n",
    "# #rss\n",
    "# rss.df <- data.frame(numvar = numvar, rss = reg.summary$rss, minrss = allfalse)\n",
    "# rss.df$minrss[which.min(reg.summary$rss)] <- TRUE\n",
    "# ggplot(rss.df,aes(x=numvar,y=rss,shape=minrss,col=minrss)) + \n",
    "#     geom_point(size=3) + theme_light() + \n",
    "#     labs(x = \"Number of Variables\", y = \"RSS\", color=\"Minimum RSS\", shape=\"Minimum RSS\")\n",
    "\n",
    "#adjr2\n",
    "adjr2.df <- data.frame(numvar = numvar, adjr2 <- reg.summary$adjr2, maxadjr2 <- allfalse)\n",
    "adjr2.df$maxadjr2[which.max(reg.summary$adjr2)] <- TRUE\n",
    "ggplot(adjr2.df,aes(x=numvar,y=adjr2,shape=maxadjr2,col=maxadjr2)) + \n",
    "    geom_point(size=3) + theme_light() + \n",
    "    labs(x = \"Number of Variables\", y = 'Adj'~R^2, color='Maximum Adj'~R^2, shape='Maximum Adj'~R^2)\n",
    "\n",
    "# #mallow's cp\n",
    "cp.df <- data.frame(numvar = numvar, cp <- reg.summary$cp, mincp <- allfalse)\n",
    "cp.df$mincp[which.min(reg.summary$cp)] <- TRUE\n",
    "ggplot(cp.df,aes(x=numvar,y=cp,shape=mincp,col=mincp)) + \n",
    "    geom_point(size=3) + theme_light() + \n",
    "    labs(x = \"Number of Variables\", y = \"Mallow's CP\", color=\"Maximum CP\", shape=\"Maximum CP\")\n",
    "\n",
    "#bic\n",
    "bic.df <- data.frame(numvar = numvar,bic <- reg.summary$bic, minbic <- allfalse)\n",
    "bic.df$minbic[which.min(reg.summary$bic)] <- TRUE\n",
    "ggplot(bic.df,aes(x=numvar,y=bic,shape=minbic,col=minbic)) + \n",
    "    geom_point(size=3) + theme_light() + \n",
    "    labs(x = \"Number of Variables\", y = \"BIC\", color=\"Minimum BIC\", shape=\"Minimum BIC\")"
   ]
  },
  {
   "cell_type": "code",
   "execution_count": null,
   "id": "7c3ce8da",
   "metadata": {},
   "outputs": [],
   "source": [
    "which.min(reg.summary$bic) \n",
    "which.max(reg.summary$adjr2)\n",
    "which.min(reg.summary$cp)"
   ]
  },
  {
   "cell_type": "markdown",
   "id": "8d0eea20",
   "metadata": {},
   "source": [
    "The model fit estimates seem to converge on model 8, the model with all variables."
   ]
  },
  {
   "cell_type": "code",
   "execution_count": null,
   "id": "56e900fe",
   "metadata": {},
   "outputs": [],
   "source": [
    "glm_full  <- glm(pay_rate ~ income_class + education_level:income_class + major_occupation + union_member + gender_binary + paid_hourly + full_time, data = hhpp3, family = Gamma(\"log\"))\n",
    "\n",
    "summary(glm_full)"
   ]
  },
  {
   "cell_type": "code",
   "execution_count": null,
   "id": "b91e07b8",
   "metadata": {},
   "outputs": [],
   "source": [
    "cv.err  = cv.glm(hhpp3, glm_full, K=10)\n",
    "cv.err$delta "
   ]
  }
 ],
 "metadata": {
  "kernelspec": {
   "display_name": "R",
   "language": "R",
   "name": "ir"
  },
  "language_info": {
   "codemirror_mode": "r",
   "file_extension": ".r",
   "mimetype": "text/x-r-source",
   "name": "R",
   "pygments_lexer": "r",
   "version": "4.3.0"
  }
 },
 "nbformat": 4,
 "nbformat_minor": 5
}
