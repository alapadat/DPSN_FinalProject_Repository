{
 "cells": [
  {
   "cell_type": "markdown",
   "id": "24d2098c",
   "metadata": {},
   "source": [
    "# Variables Considered\n",
    "\n",
    "## Description\n",
    "A list of every variable consulted during all stages of data analysis. \n",
    "\n",
    "## Purpose\n",
    "I included this list to maximize transparency and reproducibility.\n",
    "\n",
    "### Identifiers and Flags\n",
    "\n",
    "`H_SEQ` Household Identifier\n",
    "\n",
    "`PPPOS` Unique person identifier\n",
    "\n",
    "  When used together,`H_SEQ` and `PPPOS` can be combined to create an identifier that is unique to a person's household and family. These variables are kept for future model fitting and testing etc.\n",
    "\n",
    "`A_CIVLF` Civilian Labor Force \n",
    "\n",
    "  Select \"1\" to exclude all people in armed forces to reduce variance.\n",
    "\n",
    "  0 = NIU\n",
    "  1 = In universe\n",
    "\n",
    "`PRERELG` Earning eligibility flag\n",
    "\n",
    "  Defines a person as \"Earnings-Eligible.\" (whether the total household earns below a certain amount of money. This can be calculated by taking PRERELG == 1 for the whole population (out of an abundance of caution) and determining the maximum value.)\n",
    "  \n",
    "  0 = No\n",
    "  1 = Yes\n",
    "  \n",
    "### Employment\n",
    "\n",
    "`A_FTLF` Full time labor force\n",
    "\n",
    "  0 = NIU\n",
    "  1 = FTLF\n",
    "\n",
    "`PEMLR` Major Labor Force Category\n",
    "\n",
    "  * 0 = NIO\n",
    "  * 1 = Employed, at work\n",
    "  * 2 = Employed, absent\n",
    "  * 3 = Unemployed - on layoff\n",
    "  * 4 = Unemployed - looking\n",
    "  * 5 = Not in labor force - retired\n",
    "  * 6 = Not in labor force - disabled\n",
    "  * 7 = Not in labor force - other\n",
    "\n",
    "`A_EXPLF` Experienced labor force\n",
    "\n",
    "  Definition: has this person worked a job before? 0 = No, 1 = Yes\n",
    "\n",
    "  * 0 = Not in experienced labor force\n",
    "  * 1 = Employed\n",
    "  * 2 = Unemployed\n",
    "\n",
    "`A_PAYABS` Pay for time off\n",
    "\n",
    "  0 = Not in universe/children and Armed Forces\n",
    "  1 = Yes\n",
    "  2 = No\n",
    "  3 = Self-employed\n",
    "\n",
    "`PRDISC` Discouraged worker\n",
    "\n",
    "  0 = NIU\n",
    "  1 = Discouraged worker\n",
    "  2 = Conditionally interested\n",
    "  3 = Not available\n",
    "\n",
    "`A_HRS1` Hours worked last week at all jobs\n",
    "\n",
    "  -1 = Not in universe\n",
    "  00 = Children and Armed Forces\n",
    "  01-99 = Number of hr\n",
    "\n",
    "`PEHRUSLT` Hours worked last week\n",
    "\n",
    "  Note: Measure added after Hypothesis 2.\n",
    "\n",
    "  -4 = Hours vary\n",
    "  -1 = NIU - adult civilian\n",
    "  000 = NIU - children or Armed Forces or no hours\n",
    "  1-198 = # of hours\n",
    "\n",
    "`A_GRSWK` Gross Weekly pay\n",
    "\n",
    "  The amount an individual makes at one of their jobs (ASEC dictionary phrasing: \"this job\") prior to deductions.\n",
    "\n",
    "  Note: Measure added after Hypothesis 2.\n",
    "  \n",
    "  0000 = NIU/Children or armed forces\n",
    "  0001-2885 = Dollar amount\n",
    "  \n",
    "`PRUNTYPE` On the job, is X covered by a union association/contract?\n",
    "  0 = Not in universe or children and Armed Forces\n",
    "  1 = Yes\n",
    "  2 = No\n",
    "  \n",
    "'A_UNCOV' On the job, is X covered by a union association/contract?\n",
    "  0 = Not in universe or children and Armed Forces\n",
    "  1 = Yes\n",
    "  2 = No\n",
    "  \n",
    "### Poor Job Outcome\n",
    "\n",
    "`PRUNTYPE`\n",
    "\n",
    "  Reason for unemployment\n",
    "  \n",
    "  0 = NIU\n",
    "  1 = Job loser/on layoff\n",
    "  2 = Other job loser\n",
    "  3 = Temporary job ended\n",
    "  4 = Job leaver\n",
    "  5 = Re-entrant\n",
    "  6 = New-entran\n",
    "\n",
    "`PRDISC`\n",
    "  \n",
    "  Discouraged worker code\n",
    "  \n",
    "  0 = NIU\n",
    "  1 = Discouraged worker\n",
    "  2 = Conditionally interested\n",
    "  3 = Not available\n",
    "\n",
    "### Demographic characteristics\n",
    "\n",
    "`A_HGA`\n",
    "\n",
    "  Highest Level of Education Achieved\n",
    "  \n",
    "  0 = Children\n",
    "  31 = Less than 1st grade\n",
    "  32 = 1st,2nd,3rd,or 4th grade\n",
    "  33 = 5th or 6th grade\n",
    "  34 = 7th and 8th grade\n",
    "  35 = 9th grade\n",
    "  36 = 10th grade\n",
    "  37 = 11th grade\n",
    "  38 = 12th grade no diploma\n",
    "  39 = High school graduate - high school diploma or\n",
    "  equivalent\n",
    "  40 = Some college but no degree\n",
    "  41 = Associate degree in college - occupation/vocation\n",
    "  program\n",
    "  42 = Associate degree in college - academic program\n",
    "  43 = Bachelor's degree (for example: BA,AB,BS)\n",
    "  44 = Master's degree (for example:\n",
    "  MA,MS,MENG,MED,MSW, MBA)\n",
    "  45 = Professional school degree (for example:\n",
    "  MD,DDS,DVM,LLB,JD)\n",
    "  46 = Doctorate degree (for example: PHD,EDD)\n",
    "\n",
    "`PRDTRACE` Race\n",
    "\n",
    "  Kept for potential data visualization applications\n",
    "  \n",
    "  01 = White only\n",
    "  02 = Black only\n",
    "  03 = American Indian, Alaskan Native only (AI)\n",
    "  04 = Asian only\n",
    "  05 = Hawaiian/Pacific Islander only (HP)\n",
    "  06 = White-Black\n",
    "  07 = White-AI\n",
    "  08 = White-Asian\n",
    "  09 = White-HP\n",
    "  10 = Black-AI\n",
    "  11 = Black-Asian\n",
    "  12 = Black-HP\n",
    "  13 = AI-Asian\n",
    "  14 = AI-HP\n",
    "  15 = Asian-HP\n",
    "  16 = White-Black-AI\n",
    "  17 = White-Black-Asian\n",
    "  18 = White-Black-HP\n",
    "  19 = White-AI-Asian\n",
    "  20 = White-AI-HP\n",
    "  21 = White-Asian-HP\n",
    "  22 = Black-AI-Asian\n",
    "  23 = White-Black-AI-Asian\n",
    "  24 = White-AI-Asian-HP\n",
    "  25 = Other 3 race comb.\n",
    "  26 = Other 4 or 5 race comb."
   ]
  },
  {
   "cell_type": "code",
   "execution_count": 1,
   "id": "0fe0cd8a",
   "metadata": {},
   "outputs": [],
   "source": [
    "#LOAD DATA\n",
    "\n",
    "setwd(\"C:/Users/roman/OneDrive/Documents/Summer 2023/DSPN/LAPADAT_DSPN_S23_FinalProject/March 2022 CPS Data\")\n",
    "\n",
    "family  <- read.csv(\"ffpub22.csv\")\n",
    "person  <- read.csv(\"pppub22.csv\")"
   ]
  },
  {
   "cell_type": "code",
   "execution_count": 57,
   "id": "198dd509",
   "metadata": {},
   "outputs": [
    {
     "data": {
      "text/html": [
       "<table class=\"dataframe\">\n",
       "<caption>A data.frame: 73863 × 832</caption>\n",
       "<thead>\n",
       "\t<tr><th scope=col>PERIDNUM</th><th scope=col>PH_SEQ</th><th scope=col>P_SEQ</th><th scope=col>A_LINENO</th><th scope=col>PF_SEQ</th><th scope=col>PHF_SEQ</th><th scope=col>OED_TYP1</th><th scope=col>OED_TYP2</th><th scope=col>OED_TYP3</th><th scope=col>PERRP</th><th scope=col>⋯</th><th scope=col>I_DISVL1</th><th scope=col>I_DISVL2</th><th scope=col>I_SURVL1</th><th scope=col>I_SURVL2</th><th scope=col>MIG_CBST</th><th scope=col>MIG_DSCP</th><th scope=col>DEP_STAT</th><th scope=col>FILEDATE</th><th scope=col>FILESTAT</th><th scope=col>YYYYMM</th></tr>\n",
       "\t<tr><th scope=col>&lt;dbl&gt;</th><th scope=col>&lt;int&gt;</th><th scope=col>&lt;int&gt;</th><th scope=col>&lt;int&gt;</th><th scope=col>&lt;int&gt;</th><th scope=col>&lt;int&gt;</th><th scope=col>&lt;int&gt;</th><th scope=col>&lt;int&gt;</th><th scope=col>&lt;int&gt;</th><th scope=col>&lt;int&gt;</th><th scope=col>⋯</th><th scope=col>&lt;int&gt;</th><th scope=col>&lt;int&gt;</th><th scope=col>&lt;int&gt;</th><th scope=col>&lt;int&gt;</th><th scope=col>&lt;int&gt;</th><th scope=col>&lt;int&gt;</th><th scope=col>&lt;int&gt;</th><th scope=col>&lt;int&gt;</th><th scope=col>&lt;int&gt;</th><th scope=col>&lt;int&gt;</th></tr>\n",
       "</thead>\n",
       "<tbody>\n",
       "\t<tr><td>2.022093e+21</td><td> 1</td><td>1</td><td>1</td><td>1</td><td>1</td><td>0</td><td>0</td><td>0</td><td>41</td><td>⋯</td><td>0</td><td>0</td><td>0</td><td>0</td><td>0</td><td>0</td><td>0</td><td>72522</td><td>5</td><td>202203</td></tr>\n",
       "\t<tr><td>2.100059e+21</td><td> 5</td><td>1</td><td>1</td><td>1</td><td>1</td><td>0</td><td>0</td><td>0</td><td>40</td><td>⋯</td><td>0</td><td>0</td><td>0</td><td>0</td><td>0</td><td>0</td><td>0</td><td>72522</td><td>1</td><td>202203</td></tr>\n",
       "\t<tr><td>2.100059e+21</td><td> 5</td><td>2</td><td>2</td><td>1</td><td>1</td><td>0</td><td>0</td><td>0</td><td>42</td><td>⋯</td><td>0</td><td>0</td><td>0</td><td>0</td><td>0</td><td>0</td><td>0</td><td>72522</td><td>1</td><td>202203</td></tr>\n",
       "\t<tr><td>1.410320e+21</td><td> 6</td><td>1</td><td>1</td><td>1</td><td>1</td><td>0</td><td>0</td><td>0</td><td>40</td><td>⋯</td><td>0</td><td>0</td><td>0</td><td>0</td><td>0</td><td>0</td><td>0</td><td>72522</td><td>1</td><td>202203</td></tr>\n",
       "\t<tr><td>1.410320e+21</td><td> 6</td><td>2</td><td>2</td><td>1</td><td>1</td><td>0</td><td>0</td><td>0</td><td>42</td><td>⋯</td><td>0</td><td>0</td><td>0</td><td>0</td><td>0</td><td>0</td><td>0</td><td>72522</td><td>1</td><td>202203</td></tr>\n",
       "\t<tr><td>2.044902e+21</td><td> 9</td><td>1</td><td>1</td><td>1</td><td>1</td><td>0</td><td>0</td><td>0</td><td>40</td><td>⋯</td><td>0</td><td>0</td><td>0</td><td>0</td><td>0</td><td>0</td><td>0</td><td>72522</td><td>1</td><td>202203</td></tr>\n",
       "\t<tr><td>2.044902e+21</td><td> 9</td><td>2</td><td>2</td><td>1</td><td>1</td><td>0</td><td>0</td><td>0</td><td>42</td><td>⋯</td><td>0</td><td>0</td><td>0</td><td>0</td><td>0</td><td>0</td><td>0</td><td>72522</td><td>1</td><td>202203</td></tr>\n",
       "\t<tr><td>2.031092e+20</td><td>13</td><td>1</td><td>1</td><td>1</td><td>1</td><td>0</td><td>0</td><td>0</td><td>40</td><td>⋯</td><td>0</td><td>0</td><td>0</td><td>0</td><td>0</td><td>0</td><td>0</td><td>72522</td><td>1</td><td>202203</td></tr>\n",
       "\t<tr><td>2.031092e+20</td><td>13</td><td>2</td><td>2</td><td>1</td><td>1</td><td>2</td><td>2</td><td>1</td><td>42</td><td>⋯</td><td>0</td><td>0</td><td>0</td><td>0</td><td>0</td><td>0</td><td>0</td><td>72522</td><td>1</td><td>202203</td></tr>\n",
       "\t<tr><td>2.031047e+20</td><td>15</td><td>2</td><td>2</td><td>1</td><td>1</td><td>0</td><td>0</td><td>0</td><td>42</td><td>⋯</td><td>0</td><td>0</td><td>0</td><td>0</td><td>0</td><td>0</td><td>0</td><td>72522</td><td>2</td><td>202203</td></tr>\n",
       "\t<tr><td>8.936904e+21</td><td>19</td><td>1</td><td>1</td><td>1</td><td>1</td><td>0</td><td>0</td><td>0</td><td>41</td><td>⋯</td><td>0</td><td>0</td><td>0</td><td>0</td><td>0</td><td>0</td><td>0</td><td>72522</td><td>5</td><td>202203</td></tr>\n",
       "\t<tr><td>2.049902e+21</td><td>23</td><td>1</td><td>1</td><td>1</td><td>1</td><td>0</td><td>0</td><td>0</td><td>41</td><td>⋯</td><td>0</td><td>0</td><td>0</td><td>0</td><td>0</td><td>0</td><td>0</td><td>72522</td><td>5</td><td>202203</td></tr>\n",
       "\t<tr><td>2.049902e+21</td><td>23</td><td>2</td><td>2</td><td>2</td><td>2</td><td>0</td><td>0</td><td>0</td><td>44</td><td>⋯</td><td>0</td><td>0</td><td>0</td><td>0</td><td>0</td><td>0</td><td>0</td><td>72522</td><td>5</td><td>202203</td></tr>\n",
       "\t<tr><td>2.031042e+20</td><td>29</td><td>2</td><td>2</td><td>1</td><td>1</td><td>0</td><td>0</td><td>0</td><td>42</td><td>⋯</td><td>0</td><td>0</td><td>0</td><td>0</td><td>0</td><td>0</td><td>0</td><td>72522</td><td>1</td><td>202203</td></tr>\n",
       "\t<tr><td>6.100091e+21</td><td>34</td><td>1</td><td>1</td><td>1</td><td>1</td><td>0</td><td>0</td><td>0</td><td>41</td><td>⋯</td><td>0</td><td>0</td><td>0</td><td>0</td><td>0</td><td>0</td><td>0</td><td>72522</td><td>5</td><td>202203</td></tr>\n",
       "\t<tr><td>2.031126e+20</td><td>52</td><td>1</td><td>1</td><td>1</td><td>1</td><td>0</td><td>0</td><td>0</td><td>40</td><td>⋯</td><td>0</td><td>0</td><td>0</td><td>0</td><td>0</td><td>0</td><td>0</td><td>72522</td><td>1</td><td>202203</td></tr>\n",
       "\t<tr><td>2.031126e+20</td><td>52</td><td>2</td><td>2</td><td>1</td><td>1</td><td>0</td><td>0</td><td>0</td><td>42</td><td>⋯</td><td>0</td><td>0</td><td>0</td><td>0</td><td>0</td><td>0</td><td>0</td><td>72522</td><td>1</td><td>202203</td></tr>\n",
       "\t<tr><td>9.326062e+21</td><td>53</td><td>1</td><td>1</td><td>1</td><td>1</td><td>0</td><td>0</td><td>0</td><td>40</td><td>⋯</td><td>0</td><td>0</td><td>0</td><td>0</td><td>0</td><td>0</td><td>0</td><td>72522</td><td>1</td><td>202203</td></tr>\n",
       "\t<tr><td>9.326062e+21</td><td>53</td><td>2</td><td>2</td><td>1</td><td>1</td><td>0</td><td>0</td><td>0</td><td>42</td><td>⋯</td><td>0</td><td>0</td><td>0</td><td>0</td><td>0</td><td>0</td><td>0</td><td>72522</td><td>1</td><td>202203</td></tr>\n",
       "\t<tr><td>2.049902e+21</td><td>54</td><td>3</td><td>2</td><td>2</td><td>2</td><td>0</td><td>0</td><td>0</td><td>47</td><td>⋯</td><td>0</td><td>0</td><td>0</td><td>0</td><td>0</td><td>0</td><td>0</td><td>72522</td><td>5</td><td>202203</td></tr>\n",
       "\t<tr><td>2.027402e+21</td><td>55</td><td>1</td><td>1</td><td>1</td><td>1</td><td>0</td><td>0</td><td>0</td><td>41</td><td>⋯</td><td>0</td><td>0</td><td>0</td><td>0</td><td>0</td><td>0</td><td>0</td><td>72522</td><td>5</td><td>202203</td></tr>\n",
       "\t<tr><td>7.320552e+21</td><td>73</td><td>1</td><td>1</td><td>1</td><td>1</td><td>0</td><td>0</td><td>0</td><td>40</td><td>⋯</td><td>0</td><td>0</td><td>0</td><td>0</td><td>0</td><td>0</td><td>0</td><td>72522</td><td>2</td><td>202203</td></tr>\n",
       "\t<tr><td>7.320552e+21</td><td>73</td><td>2</td><td>2</td><td>1</td><td>1</td><td>0</td><td>0</td><td>0</td><td>42</td><td>⋯</td><td>0</td><td>0</td><td>0</td><td>0</td><td>0</td><td>0</td><td>0</td><td>72522</td><td>2</td><td>202203</td></tr>\n",
       "\t<tr><td>4.510360e+21</td><td>77</td><td>1</td><td>1</td><td>1</td><td>1</td><td>0</td><td>0</td><td>0</td><td>41</td><td>⋯</td><td>0</td><td>0</td><td>0</td><td>0</td><td>0</td><td>0</td><td>0</td><td>72522</td><td>5</td><td>202203</td></tr>\n",
       "\t<tr><td>4.510360e+21</td><td>77</td><td>2</td><td>2</td><td>2</td><td>2</td><td>0</td><td>0</td><td>0</td><td>44</td><td>⋯</td><td>0</td><td>0</td><td>0</td><td>0</td><td>0</td><td>0</td><td>0</td><td>72522</td><td>5</td><td>202203</td></tr>\n",
       "\t<tr><td>3.714360e+21</td><td>80</td><td>2</td><td>2</td><td>1</td><td>1</td><td>0</td><td>0</td><td>0</td><td>42</td><td>⋯</td><td>0</td><td>0</td><td>0</td><td>0</td><td>0</td><td>0</td><td>0</td><td>72522</td><td>3</td><td>202203</td></tr>\n",
       "\t<tr><td>1.651520e+21</td><td>83</td><td>1</td><td>1</td><td>1</td><td>1</td><td>0</td><td>0</td><td>0</td><td>40</td><td>⋯</td><td>0</td><td>0</td><td>0</td><td>0</td><td>0</td><td>0</td><td>0</td><td>72522</td><td>1</td><td>202203</td></tr>\n",
       "\t<tr><td>1.651520e+21</td><td>83</td><td>2</td><td>2</td><td>1</td><td>1</td><td>0</td><td>0</td><td>0</td><td>42</td><td>⋯</td><td>0</td><td>0</td><td>0</td><td>0</td><td>0</td><td>0</td><td>0</td><td>72522</td><td>1</td><td>202203</td></tr>\n",
       "\t<tr><td>4.514360e+21</td><td>84</td><td>1</td><td>1</td><td>1</td><td>1</td><td>0</td><td>0</td><td>0</td><td>41</td><td>⋯</td><td>0</td><td>0</td><td>0</td><td>0</td><td>0</td><td>0</td><td>0</td><td>72522</td><td>5</td><td>202203</td></tr>\n",
       "\t<tr><td>4.514360e+21</td><td>84</td><td>2</td><td>2</td><td>2</td><td>2</td><td>0</td><td>0</td><td>0</td><td>44</td><td>⋯</td><td>0</td><td>0</td><td>0</td><td>0</td><td>0</td><td>0</td><td>0</td><td>72522</td><td>5</td><td>202203</td></tr>\n",
       "\t<tr><td>⋮</td><td>⋮</td><td>⋮</td><td>⋮</td><td>⋮</td><td>⋮</td><td>⋮</td><td>⋮</td><td>⋮</td><td>⋮</td><td>⋱</td><td>⋮</td><td>⋮</td><td>⋮</td><td>⋮</td><td>⋮</td><td>⋮</td><td>⋮</td><td>⋮</td><td>⋮</td><td>⋮</td></tr>\n",
       "\t<tr><td>4.041164e+21</td><td>89183</td><td> 1</td><td> 1</td><td>1</td><td>1</td><td>0</td><td>0</td><td>0</td><td>41</td><td>⋯</td><td>0</td><td>0</td><td>0</td><td>0</td><td>0</td><td>0</td><td>0</td><td>72522</td><td>5</td><td>202203</td></tr>\n",
       "\t<tr><td>7.956984e+21</td><td>89185</td><td> 1</td><td> 1</td><td>1</td><td>1</td><td>0</td><td>0</td><td>0</td><td>40</td><td>⋯</td><td>0</td><td>0</td><td>0</td><td>0</td><td>0</td><td>0</td><td>0</td><td>72522</td><td>1</td><td>202203</td></tr>\n",
       "\t<tr><td>7.956984e+21</td><td>89185</td><td> 2</td><td> 2</td><td>1</td><td>1</td><td>0</td><td>0</td><td>0</td><td>42</td><td>⋯</td><td>0</td><td>0</td><td>0</td><td>0</td><td>0</td><td>0</td><td>0</td><td>72522</td><td>1</td><td>202203</td></tr>\n",
       "\t<tr><td>1.090158e+21</td><td>89186</td><td> 2</td><td> 2</td><td>1</td><td>1</td><td>0</td><td>0</td><td>0</td><td>42</td><td>⋯</td><td>0</td><td>0</td><td>0</td><td>0</td><td>0</td><td>0</td><td>0</td><td>72522</td><td>1</td><td>202203</td></tr>\n",
       "\t<tr><td>5.789404e+21</td><td>89187</td><td> 1</td><td> 1</td><td>1</td><td>1</td><td>0</td><td>0</td><td>0</td><td>40</td><td>⋯</td><td>0</td><td>0</td><td>0</td><td>0</td><td>0</td><td>0</td><td>0</td><td>72522</td><td>1</td><td>202203</td></tr>\n",
       "\t<tr><td>5.789404e+21</td><td>89187</td><td> 2</td><td> 2</td><td>1</td><td>1</td><td>0</td><td>0</td><td>0</td><td>42</td><td>⋯</td><td>0</td><td>0</td><td>0</td><td>0</td><td>0</td><td>0</td><td>0</td><td>72522</td><td>1</td><td>202203</td></tr>\n",
       "\t<tr><td>9.117540e+21</td><td>89188</td><td> 1</td><td> 1</td><td>1</td><td>1</td><td>0</td><td>0</td><td>0</td><td>40</td><td>⋯</td><td>0</td><td>0</td><td>0</td><td>0</td><td>0</td><td>0</td><td>0</td><td>72522</td><td>1</td><td>202203</td></tr>\n",
       "\t<tr><td>9.117540e+21</td><td>89188</td><td> 2</td><td> 2</td><td>1</td><td>1</td><td>0</td><td>0</td><td>0</td><td>42</td><td>⋯</td><td>0</td><td>0</td><td>0</td><td>0</td><td>0</td><td>0</td><td>0</td><td>72522</td><td>1</td><td>202203</td></tr>\n",
       "\t<tr><td>1.159507e+21</td><td>89189</td><td> 2</td><td> 2</td><td>2</td><td>2</td><td>0</td><td>0</td><td>0</td><td>44</td><td>⋯</td><td>0</td><td>0</td><td>0</td><td>0</td><td>0</td><td>0</td><td>0</td><td>72522</td><td>5</td><td>202203</td></tr>\n",
       "\t<tr><td>1.109604e+21</td><td>89190</td><td> 1</td><td> 1</td><td>1</td><td>1</td><td>0</td><td>0</td><td>0</td><td>41</td><td>⋯</td><td>0</td><td>0</td><td>0</td><td>0</td><td>0</td><td>0</td><td>0</td><td>72522</td><td>5</td><td>202203</td></tr>\n",
       "\t<tr><td>4.516131e+21</td><td>89191</td><td> 3</td><td> 5</td><td>1</td><td>2</td><td>0</td><td>0</td><td>0</td><td>49</td><td>⋯</td><td>0</td><td>0</td><td>0</td><td>0</td><td>0</td><td>0</td><td>0</td><td>72522</td><td>1</td><td>202203</td></tr>\n",
       "\t<tr><td>4.516131e+21</td><td>89191</td><td> 4</td><td> 6</td><td>1</td><td>2</td><td>0</td><td>0</td><td>0</td><td>52</td><td>⋯</td><td>0</td><td>0</td><td>0</td><td>0</td><td>0</td><td>0</td><td>0</td><td>72522</td><td>1</td><td>202203</td></tr>\n",
       "\t<tr><td>4.516131e+21</td><td>89191</td><td> 5</td><td> 3</td><td>1</td><td>3</td><td>0</td><td>0</td><td>0</td><td>52</td><td>⋯</td><td>0</td><td>0</td><td>0</td><td>0</td><td>0</td><td>0</td><td>0</td><td>72522</td><td>1</td><td>202203</td></tr>\n",
       "\t<tr><td>1.051194e+20</td><td>89192</td><td> 1</td><td> 1</td><td>1</td><td>1</td><td>0</td><td>0</td><td>0</td><td>40</td><td>⋯</td><td>0</td><td>0</td><td>0</td><td>0</td><td>0</td><td>0</td><td>0</td><td>72522</td><td>1</td><td>202203</td></tr>\n",
       "\t<tr><td>1.051194e+20</td><td>89192</td><td> 2</td><td> 2</td><td>1</td><td>1</td><td>0</td><td>0</td><td>0</td><td>42</td><td>⋯</td><td>0</td><td>0</td><td>0</td><td>0</td><td>0</td><td>0</td><td>0</td><td>72522</td><td>1</td><td>202203</td></tr>\n",
       "\t<tr><td>9.955294e+21</td><td>89193</td><td> 2</td><td> 2</td><td>1</td><td>1</td><td>0</td><td>0</td><td>0</td><td>48</td><td>⋯</td><td>0</td><td>0</td><td>0</td><td>0</td><td>0</td><td>0</td><td>0</td><td>72522</td><td>5</td><td>202203</td></tr>\n",
       "\t<tr><td>1.220360e+21</td><td>89194</td><td> 1</td><td> 1</td><td>1</td><td>1</td><td>0</td><td>0</td><td>0</td><td>40</td><td>⋯</td><td>0</td><td>0</td><td>0</td><td>0</td><td>0</td><td>0</td><td>0</td><td>72522</td><td>5</td><td>202203</td></tr>\n",
       "\t<tr><td>1.220360e+21</td><td>89194</td><td> 2</td><td> 2</td><td>1</td><td>1</td><td>0</td><td>0</td><td>0</td><td>48</td><td>⋯</td><td>0</td><td>0</td><td>0</td><td>0</td><td>0</td><td>0</td><td>0</td><td>72522</td><td>5</td><td>202203</td></tr>\n",
       "\t<tr><td>1.220360e+21</td><td>89194</td><td> 3</td><td>11</td><td>1</td><td>1</td><td>0</td><td>0</td><td>0</td><td>52</td><td>⋯</td><td>0</td><td>0</td><td>0</td><td>0</td><td>0</td><td>0</td><td>0</td><td>72522</td><td>5</td><td>202203</td></tr>\n",
       "\t<tr><td>1.220360e+21</td><td>89194</td><td> 5</td><td> 5</td><td>1</td><td>1</td><td>0</td><td>0</td><td>0</td><td>49</td><td>⋯</td><td>0</td><td>0</td><td>0</td><td>0</td><td>0</td><td>0</td><td>0</td><td>72522</td><td>5</td><td>202203</td></tr>\n",
       "\t<tr><td>1.220360e+21</td><td>89194</td><td> 6</td><td>12</td><td>1</td><td>1</td><td>0</td><td>0</td><td>0</td><td>52</td><td>⋯</td><td>0</td><td>0</td><td>0</td><td>0</td><td>0</td><td>0</td><td>0</td><td>72522</td><td>5</td><td>202203</td></tr>\n",
       "\t<tr><td>1.220360e+21</td><td>89194</td><td> 8</td><td> 4</td><td>1</td><td>2</td><td>0</td><td>0</td><td>0</td><td>48</td><td>⋯</td><td>0</td><td>0</td><td>0</td><td>0</td><td>0</td><td>0</td><td>0</td><td>72522</td><td>5</td><td>202203</td></tr>\n",
       "\t<tr><td>1.220360e+21</td><td>89194</td><td>12</td><td> 9</td><td>4</td><td>4</td><td>0</td><td>0</td><td>0</td><td>58</td><td>⋯</td><td>0</td><td>0</td><td>0</td><td>0</td><td>0</td><td>0</td><td>0</td><td>72522</td><td>4</td><td>202203</td></tr>\n",
       "\t<tr><td>3.650705e+21</td><td>89195</td><td> 1</td><td> 1</td><td>1</td><td>1</td><td>0</td><td>0</td><td>0</td><td>41</td><td>⋯</td><td>0</td><td>0</td><td>0</td><td>0</td><td>0</td><td>0</td><td>0</td><td>72522</td><td>5</td><td>202203</td></tr>\n",
       "\t<tr><td>3.650705e+21</td><td>89195</td><td> 2</td><td> 4</td><td>2</td><td>2</td><td>0</td><td>0</td><td>0</td><td>55</td><td>⋯</td><td>0</td><td>0</td><td>0</td><td>0</td><td>0</td><td>0</td><td>0</td><td>72522</td><td>5</td><td>202203</td></tr>\n",
       "\t<tr><td>3.650705e+21</td><td>89195</td><td> 3</td><td> 3</td><td>3</td><td>3</td><td>0</td><td>0</td><td>0</td><td>55</td><td>⋯</td><td>0</td><td>0</td><td>0</td><td>0</td><td>0</td><td>0</td><td>0</td><td>72522</td><td>5</td><td>202203</td></tr>\n",
       "\t<tr><td>3.650705e+21</td><td>89195</td><td> 4</td><td> 2</td><td>4</td><td>4</td><td>0</td><td>0</td><td>0</td><td>54</td><td>⋯</td><td>0</td><td>0</td><td>0</td><td>0</td><td>0</td><td>0</td><td>0</td><td>72522</td><td>5</td><td>202203</td></tr>\n",
       "\t<tr><td>1.250004e+21</td><td>89196</td><td> 2</td><td> 2</td><td>1</td><td>1</td><td>0</td><td>0</td><td>0</td><td>51</td><td>⋯</td><td>0</td><td>0</td><td>0</td><td>0</td><td>0</td><td>0</td><td>0</td><td>72522</td><td>5</td><td>202203</td></tr>\n",
       "\t<tr><td>1.102030e+21</td><td>89197</td><td> 1</td><td> 1</td><td>1</td><td>1</td><td>0</td><td>0</td><td>0</td><td>40</td><td>⋯</td><td>0</td><td>0</td><td>0</td><td>0</td><td>0</td><td>0</td><td>0</td><td>72522</td><td>1</td><td>202203</td></tr>\n",
       "\t<tr><td>1.102030e+21</td><td>89197</td><td> 2</td><td> 2</td><td>1</td><td>1</td><td>0</td><td>0</td><td>0</td><td>42</td><td>⋯</td><td>0</td><td>0</td><td>0</td><td>0</td><td>0</td><td>0</td><td>0</td><td>72522</td><td>1</td><td>202203</td></tr>\n",
       "</tbody>\n",
       "</table>\n"
      ],
      "text/latex": [
       "A data.frame: 73863 × 832\n",
       "\\begin{tabular}{lllllllllllllllllllll}\n",
       " PERIDNUM & PH\\_SEQ & P\\_SEQ & A\\_LINENO & PF\\_SEQ & PHF\\_SEQ & OED\\_TYP1 & OED\\_TYP2 & OED\\_TYP3 & PERRP & ⋯ & I\\_DISVL1 & I\\_DISVL2 & I\\_SURVL1 & I\\_SURVL2 & MIG\\_CBST & MIG\\_DSCP & DEP\\_STAT & FILEDATE & FILESTAT & YYYYMM\\\\\n",
       " <dbl> & <int> & <int> & <int> & <int> & <int> & <int> & <int> & <int> & <int> & ⋯ & <int> & <int> & <int> & <int> & <int> & <int> & <int> & <int> & <int> & <int>\\\\\n",
       "\\hline\n",
       "\t 2.022093e+21 &  1 & 1 & 1 & 1 & 1 & 0 & 0 & 0 & 41 & ⋯ & 0 & 0 & 0 & 0 & 0 & 0 & 0 & 72522 & 5 & 202203\\\\\n",
       "\t 2.100059e+21 &  5 & 1 & 1 & 1 & 1 & 0 & 0 & 0 & 40 & ⋯ & 0 & 0 & 0 & 0 & 0 & 0 & 0 & 72522 & 1 & 202203\\\\\n",
       "\t 2.100059e+21 &  5 & 2 & 2 & 1 & 1 & 0 & 0 & 0 & 42 & ⋯ & 0 & 0 & 0 & 0 & 0 & 0 & 0 & 72522 & 1 & 202203\\\\\n",
       "\t 1.410320e+21 &  6 & 1 & 1 & 1 & 1 & 0 & 0 & 0 & 40 & ⋯ & 0 & 0 & 0 & 0 & 0 & 0 & 0 & 72522 & 1 & 202203\\\\\n",
       "\t 1.410320e+21 &  6 & 2 & 2 & 1 & 1 & 0 & 0 & 0 & 42 & ⋯ & 0 & 0 & 0 & 0 & 0 & 0 & 0 & 72522 & 1 & 202203\\\\\n",
       "\t 2.044902e+21 &  9 & 1 & 1 & 1 & 1 & 0 & 0 & 0 & 40 & ⋯ & 0 & 0 & 0 & 0 & 0 & 0 & 0 & 72522 & 1 & 202203\\\\\n",
       "\t 2.044902e+21 &  9 & 2 & 2 & 1 & 1 & 0 & 0 & 0 & 42 & ⋯ & 0 & 0 & 0 & 0 & 0 & 0 & 0 & 72522 & 1 & 202203\\\\\n",
       "\t 2.031092e+20 & 13 & 1 & 1 & 1 & 1 & 0 & 0 & 0 & 40 & ⋯ & 0 & 0 & 0 & 0 & 0 & 0 & 0 & 72522 & 1 & 202203\\\\\n",
       "\t 2.031092e+20 & 13 & 2 & 2 & 1 & 1 & 2 & 2 & 1 & 42 & ⋯ & 0 & 0 & 0 & 0 & 0 & 0 & 0 & 72522 & 1 & 202203\\\\\n",
       "\t 2.031047e+20 & 15 & 2 & 2 & 1 & 1 & 0 & 0 & 0 & 42 & ⋯ & 0 & 0 & 0 & 0 & 0 & 0 & 0 & 72522 & 2 & 202203\\\\\n",
       "\t 8.936904e+21 & 19 & 1 & 1 & 1 & 1 & 0 & 0 & 0 & 41 & ⋯ & 0 & 0 & 0 & 0 & 0 & 0 & 0 & 72522 & 5 & 202203\\\\\n",
       "\t 2.049902e+21 & 23 & 1 & 1 & 1 & 1 & 0 & 0 & 0 & 41 & ⋯ & 0 & 0 & 0 & 0 & 0 & 0 & 0 & 72522 & 5 & 202203\\\\\n",
       "\t 2.049902e+21 & 23 & 2 & 2 & 2 & 2 & 0 & 0 & 0 & 44 & ⋯ & 0 & 0 & 0 & 0 & 0 & 0 & 0 & 72522 & 5 & 202203\\\\\n",
       "\t 2.031042e+20 & 29 & 2 & 2 & 1 & 1 & 0 & 0 & 0 & 42 & ⋯ & 0 & 0 & 0 & 0 & 0 & 0 & 0 & 72522 & 1 & 202203\\\\\n",
       "\t 6.100091e+21 & 34 & 1 & 1 & 1 & 1 & 0 & 0 & 0 & 41 & ⋯ & 0 & 0 & 0 & 0 & 0 & 0 & 0 & 72522 & 5 & 202203\\\\\n",
       "\t 2.031126e+20 & 52 & 1 & 1 & 1 & 1 & 0 & 0 & 0 & 40 & ⋯ & 0 & 0 & 0 & 0 & 0 & 0 & 0 & 72522 & 1 & 202203\\\\\n",
       "\t 2.031126e+20 & 52 & 2 & 2 & 1 & 1 & 0 & 0 & 0 & 42 & ⋯ & 0 & 0 & 0 & 0 & 0 & 0 & 0 & 72522 & 1 & 202203\\\\\n",
       "\t 9.326062e+21 & 53 & 1 & 1 & 1 & 1 & 0 & 0 & 0 & 40 & ⋯ & 0 & 0 & 0 & 0 & 0 & 0 & 0 & 72522 & 1 & 202203\\\\\n",
       "\t 9.326062e+21 & 53 & 2 & 2 & 1 & 1 & 0 & 0 & 0 & 42 & ⋯ & 0 & 0 & 0 & 0 & 0 & 0 & 0 & 72522 & 1 & 202203\\\\\n",
       "\t 2.049902e+21 & 54 & 3 & 2 & 2 & 2 & 0 & 0 & 0 & 47 & ⋯ & 0 & 0 & 0 & 0 & 0 & 0 & 0 & 72522 & 5 & 202203\\\\\n",
       "\t 2.027402e+21 & 55 & 1 & 1 & 1 & 1 & 0 & 0 & 0 & 41 & ⋯ & 0 & 0 & 0 & 0 & 0 & 0 & 0 & 72522 & 5 & 202203\\\\\n",
       "\t 7.320552e+21 & 73 & 1 & 1 & 1 & 1 & 0 & 0 & 0 & 40 & ⋯ & 0 & 0 & 0 & 0 & 0 & 0 & 0 & 72522 & 2 & 202203\\\\\n",
       "\t 7.320552e+21 & 73 & 2 & 2 & 1 & 1 & 0 & 0 & 0 & 42 & ⋯ & 0 & 0 & 0 & 0 & 0 & 0 & 0 & 72522 & 2 & 202203\\\\\n",
       "\t 4.510360e+21 & 77 & 1 & 1 & 1 & 1 & 0 & 0 & 0 & 41 & ⋯ & 0 & 0 & 0 & 0 & 0 & 0 & 0 & 72522 & 5 & 202203\\\\\n",
       "\t 4.510360e+21 & 77 & 2 & 2 & 2 & 2 & 0 & 0 & 0 & 44 & ⋯ & 0 & 0 & 0 & 0 & 0 & 0 & 0 & 72522 & 5 & 202203\\\\\n",
       "\t 3.714360e+21 & 80 & 2 & 2 & 1 & 1 & 0 & 0 & 0 & 42 & ⋯ & 0 & 0 & 0 & 0 & 0 & 0 & 0 & 72522 & 3 & 202203\\\\\n",
       "\t 1.651520e+21 & 83 & 1 & 1 & 1 & 1 & 0 & 0 & 0 & 40 & ⋯ & 0 & 0 & 0 & 0 & 0 & 0 & 0 & 72522 & 1 & 202203\\\\\n",
       "\t 1.651520e+21 & 83 & 2 & 2 & 1 & 1 & 0 & 0 & 0 & 42 & ⋯ & 0 & 0 & 0 & 0 & 0 & 0 & 0 & 72522 & 1 & 202203\\\\\n",
       "\t 4.514360e+21 & 84 & 1 & 1 & 1 & 1 & 0 & 0 & 0 & 41 & ⋯ & 0 & 0 & 0 & 0 & 0 & 0 & 0 & 72522 & 5 & 202203\\\\\n",
       "\t 4.514360e+21 & 84 & 2 & 2 & 2 & 2 & 0 & 0 & 0 & 44 & ⋯ & 0 & 0 & 0 & 0 & 0 & 0 & 0 & 72522 & 5 & 202203\\\\\n",
       "\t ⋮ & ⋮ & ⋮ & ⋮ & ⋮ & ⋮ & ⋮ & ⋮ & ⋮ & ⋮ & ⋱ & ⋮ & ⋮ & ⋮ & ⋮ & ⋮ & ⋮ & ⋮ & ⋮ & ⋮ & ⋮\\\\\n",
       "\t 4.041164e+21 & 89183 &  1 &  1 & 1 & 1 & 0 & 0 & 0 & 41 & ⋯ & 0 & 0 & 0 & 0 & 0 & 0 & 0 & 72522 & 5 & 202203\\\\\n",
       "\t 7.956984e+21 & 89185 &  1 &  1 & 1 & 1 & 0 & 0 & 0 & 40 & ⋯ & 0 & 0 & 0 & 0 & 0 & 0 & 0 & 72522 & 1 & 202203\\\\\n",
       "\t 7.956984e+21 & 89185 &  2 &  2 & 1 & 1 & 0 & 0 & 0 & 42 & ⋯ & 0 & 0 & 0 & 0 & 0 & 0 & 0 & 72522 & 1 & 202203\\\\\n",
       "\t 1.090158e+21 & 89186 &  2 &  2 & 1 & 1 & 0 & 0 & 0 & 42 & ⋯ & 0 & 0 & 0 & 0 & 0 & 0 & 0 & 72522 & 1 & 202203\\\\\n",
       "\t 5.789404e+21 & 89187 &  1 &  1 & 1 & 1 & 0 & 0 & 0 & 40 & ⋯ & 0 & 0 & 0 & 0 & 0 & 0 & 0 & 72522 & 1 & 202203\\\\\n",
       "\t 5.789404e+21 & 89187 &  2 &  2 & 1 & 1 & 0 & 0 & 0 & 42 & ⋯ & 0 & 0 & 0 & 0 & 0 & 0 & 0 & 72522 & 1 & 202203\\\\\n",
       "\t 9.117540e+21 & 89188 &  1 &  1 & 1 & 1 & 0 & 0 & 0 & 40 & ⋯ & 0 & 0 & 0 & 0 & 0 & 0 & 0 & 72522 & 1 & 202203\\\\\n",
       "\t 9.117540e+21 & 89188 &  2 &  2 & 1 & 1 & 0 & 0 & 0 & 42 & ⋯ & 0 & 0 & 0 & 0 & 0 & 0 & 0 & 72522 & 1 & 202203\\\\\n",
       "\t 1.159507e+21 & 89189 &  2 &  2 & 2 & 2 & 0 & 0 & 0 & 44 & ⋯ & 0 & 0 & 0 & 0 & 0 & 0 & 0 & 72522 & 5 & 202203\\\\\n",
       "\t 1.109604e+21 & 89190 &  1 &  1 & 1 & 1 & 0 & 0 & 0 & 41 & ⋯ & 0 & 0 & 0 & 0 & 0 & 0 & 0 & 72522 & 5 & 202203\\\\\n",
       "\t 4.516131e+21 & 89191 &  3 &  5 & 1 & 2 & 0 & 0 & 0 & 49 & ⋯ & 0 & 0 & 0 & 0 & 0 & 0 & 0 & 72522 & 1 & 202203\\\\\n",
       "\t 4.516131e+21 & 89191 &  4 &  6 & 1 & 2 & 0 & 0 & 0 & 52 & ⋯ & 0 & 0 & 0 & 0 & 0 & 0 & 0 & 72522 & 1 & 202203\\\\\n",
       "\t 4.516131e+21 & 89191 &  5 &  3 & 1 & 3 & 0 & 0 & 0 & 52 & ⋯ & 0 & 0 & 0 & 0 & 0 & 0 & 0 & 72522 & 1 & 202203\\\\\n",
       "\t 1.051194e+20 & 89192 &  1 &  1 & 1 & 1 & 0 & 0 & 0 & 40 & ⋯ & 0 & 0 & 0 & 0 & 0 & 0 & 0 & 72522 & 1 & 202203\\\\\n",
       "\t 1.051194e+20 & 89192 &  2 &  2 & 1 & 1 & 0 & 0 & 0 & 42 & ⋯ & 0 & 0 & 0 & 0 & 0 & 0 & 0 & 72522 & 1 & 202203\\\\\n",
       "\t 9.955294e+21 & 89193 &  2 &  2 & 1 & 1 & 0 & 0 & 0 & 48 & ⋯ & 0 & 0 & 0 & 0 & 0 & 0 & 0 & 72522 & 5 & 202203\\\\\n",
       "\t 1.220360e+21 & 89194 &  1 &  1 & 1 & 1 & 0 & 0 & 0 & 40 & ⋯ & 0 & 0 & 0 & 0 & 0 & 0 & 0 & 72522 & 5 & 202203\\\\\n",
       "\t 1.220360e+21 & 89194 &  2 &  2 & 1 & 1 & 0 & 0 & 0 & 48 & ⋯ & 0 & 0 & 0 & 0 & 0 & 0 & 0 & 72522 & 5 & 202203\\\\\n",
       "\t 1.220360e+21 & 89194 &  3 & 11 & 1 & 1 & 0 & 0 & 0 & 52 & ⋯ & 0 & 0 & 0 & 0 & 0 & 0 & 0 & 72522 & 5 & 202203\\\\\n",
       "\t 1.220360e+21 & 89194 &  5 &  5 & 1 & 1 & 0 & 0 & 0 & 49 & ⋯ & 0 & 0 & 0 & 0 & 0 & 0 & 0 & 72522 & 5 & 202203\\\\\n",
       "\t 1.220360e+21 & 89194 &  6 & 12 & 1 & 1 & 0 & 0 & 0 & 52 & ⋯ & 0 & 0 & 0 & 0 & 0 & 0 & 0 & 72522 & 5 & 202203\\\\\n",
       "\t 1.220360e+21 & 89194 &  8 &  4 & 1 & 2 & 0 & 0 & 0 & 48 & ⋯ & 0 & 0 & 0 & 0 & 0 & 0 & 0 & 72522 & 5 & 202203\\\\\n",
       "\t 1.220360e+21 & 89194 & 12 &  9 & 4 & 4 & 0 & 0 & 0 & 58 & ⋯ & 0 & 0 & 0 & 0 & 0 & 0 & 0 & 72522 & 4 & 202203\\\\\n",
       "\t 3.650705e+21 & 89195 &  1 &  1 & 1 & 1 & 0 & 0 & 0 & 41 & ⋯ & 0 & 0 & 0 & 0 & 0 & 0 & 0 & 72522 & 5 & 202203\\\\\n",
       "\t 3.650705e+21 & 89195 &  2 &  4 & 2 & 2 & 0 & 0 & 0 & 55 & ⋯ & 0 & 0 & 0 & 0 & 0 & 0 & 0 & 72522 & 5 & 202203\\\\\n",
       "\t 3.650705e+21 & 89195 &  3 &  3 & 3 & 3 & 0 & 0 & 0 & 55 & ⋯ & 0 & 0 & 0 & 0 & 0 & 0 & 0 & 72522 & 5 & 202203\\\\\n",
       "\t 3.650705e+21 & 89195 &  4 &  2 & 4 & 4 & 0 & 0 & 0 & 54 & ⋯ & 0 & 0 & 0 & 0 & 0 & 0 & 0 & 72522 & 5 & 202203\\\\\n",
       "\t 1.250004e+21 & 89196 &  2 &  2 & 1 & 1 & 0 & 0 & 0 & 51 & ⋯ & 0 & 0 & 0 & 0 & 0 & 0 & 0 & 72522 & 5 & 202203\\\\\n",
       "\t 1.102030e+21 & 89197 &  1 &  1 & 1 & 1 & 0 & 0 & 0 & 40 & ⋯ & 0 & 0 & 0 & 0 & 0 & 0 & 0 & 72522 & 1 & 202203\\\\\n",
       "\t 1.102030e+21 & 89197 &  2 &  2 & 1 & 1 & 0 & 0 & 0 & 42 & ⋯ & 0 & 0 & 0 & 0 & 0 & 0 & 0 & 72522 & 1 & 202203\\\\\n",
       "\\end{tabular}\n"
      ],
      "text/markdown": [
       "\n",
       "A data.frame: 73863 × 832\n",
       "\n",
       "| PERIDNUM &lt;dbl&gt; | PH_SEQ &lt;int&gt; | P_SEQ &lt;int&gt; | A_LINENO &lt;int&gt; | PF_SEQ &lt;int&gt; | PHF_SEQ &lt;int&gt; | OED_TYP1 &lt;int&gt; | OED_TYP2 &lt;int&gt; | OED_TYP3 &lt;int&gt; | PERRP &lt;int&gt; | ⋯ ⋯ | I_DISVL1 &lt;int&gt; | I_DISVL2 &lt;int&gt; | I_SURVL1 &lt;int&gt; | I_SURVL2 &lt;int&gt; | MIG_CBST &lt;int&gt; | MIG_DSCP &lt;int&gt; | DEP_STAT &lt;int&gt; | FILEDATE &lt;int&gt; | FILESTAT &lt;int&gt; | YYYYMM &lt;int&gt; |\n",
       "|---|---|---|---|---|---|---|---|---|---|---|---|---|---|---|---|---|---|---|---|---|\n",
       "| 2.022093e+21 |  1 | 1 | 1 | 1 | 1 | 0 | 0 | 0 | 41 | ⋯ | 0 | 0 | 0 | 0 | 0 | 0 | 0 | 72522 | 5 | 202203 |\n",
       "| 2.100059e+21 |  5 | 1 | 1 | 1 | 1 | 0 | 0 | 0 | 40 | ⋯ | 0 | 0 | 0 | 0 | 0 | 0 | 0 | 72522 | 1 | 202203 |\n",
       "| 2.100059e+21 |  5 | 2 | 2 | 1 | 1 | 0 | 0 | 0 | 42 | ⋯ | 0 | 0 | 0 | 0 | 0 | 0 | 0 | 72522 | 1 | 202203 |\n",
       "| 1.410320e+21 |  6 | 1 | 1 | 1 | 1 | 0 | 0 | 0 | 40 | ⋯ | 0 | 0 | 0 | 0 | 0 | 0 | 0 | 72522 | 1 | 202203 |\n",
       "| 1.410320e+21 |  6 | 2 | 2 | 1 | 1 | 0 | 0 | 0 | 42 | ⋯ | 0 | 0 | 0 | 0 | 0 | 0 | 0 | 72522 | 1 | 202203 |\n",
       "| 2.044902e+21 |  9 | 1 | 1 | 1 | 1 | 0 | 0 | 0 | 40 | ⋯ | 0 | 0 | 0 | 0 | 0 | 0 | 0 | 72522 | 1 | 202203 |\n",
       "| 2.044902e+21 |  9 | 2 | 2 | 1 | 1 | 0 | 0 | 0 | 42 | ⋯ | 0 | 0 | 0 | 0 | 0 | 0 | 0 | 72522 | 1 | 202203 |\n",
       "| 2.031092e+20 | 13 | 1 | 1 | 1 | 1 | 0 | 0 | 0 | 40 | ⋯ | 0 | 0 | 0 | 0 | 0 | 0 | 0 | 72522 | 1 | 202203 |\n",
       "| 2.031092e+20 | 13 | 2 | 2 | 1 | 1 | 2 | 2 | 1 | 42 | ⋯ | 0 | 0 | 0 | 0 | 0 | 0 | 0 | 72522 | 1 | 202203 |\n",
       "| 2.031047e+20 | 15 | 2 | 2 | 1 | 1 | 0 | 0 | 0 | 42 | ⋯ | 0 | 0 | 0 | 0 | 0 | 0 | 0 | 72522 | 2 | 202203 |\n",
       "| 8.936904e+21 | 19 | 1 | 1 | 1 | 1 | 0 | 0 | 0 | 41 | ⋯ | 0 | 0 | 0 | 0 | 0 | 0 | 0 | 72522 | 5 | 202203 |\n",
       "| 2.049902e+21 | 23 | 1 | 1 | 1 | 1 | 0 | 0 | 0 | 41 | ⋯ | 0 | 0 | 0 | 0 | 0 | 0 | 0 | 72522 | 5 | 202203 |\n",
       "| 2.049902e+21 | 23 | 2 | 2 | 2 | 2 | 0 | 0 | 0 | 44 | ⋯ | 0 | 0 | 0 | 0 | 0 | 0 | 0 | 72522 | 5 | 202203 |\n",
       "| 2.031042e+20 | 29 | 2 | 2 | 1 | 1 | 0 | 0 | 0 | 42 | ⋯ | 0 | 0 | 0 | 0 | 0 | 0 | 0 | 72522 | 1 | 202203 |\n",
       "| 6.100091e+21 | 34 | 1 | 1 | 1 | 1 | 0 | 0 | 0 | 41 | ⋯ | 0 | 0 | 0 | 0 | 0 | 0 | 0 | 72522 | 5 | 202203 |\n",
       "| 2.031126e+20 | 52 | 1 | 1 | 1 | 1 | 0 | 0 | 0 | 40 | ⋯ | 0 | 0 | 0 | 0 | 0 | 0 | 0 | 72522 | 1 | 202203 |\n",
       "| 2.031126e+20 | 52 | 2 | 2 | 1 | 1 | 0 | 0 | 0 | 42 | ⋯ | 0 | 0 | 0 | 0 | 0 | 0 | 0 | 72522 | 1 | 202203 |\n",
       "| 9.326062e+21 | 53 | 1 | 1 | 1 | 1 | 0 | 0 | 0 | 40 | ⋯ | 0 | 0 | 0 | 0 | 0 | 0 | 0 | 72522 | 1 | 202203 |\n",
       "| 9.326062e+21 | 53 | 2 | 2 | 1 | 1 | 0 | 0 | 0 | 42 | ⋯ | 0 | 0 | 0 | 0 | 0 | 0 | 0 | 72522 | 1 | 202203 |\n",
       "| 2.049902e+21 | 54 | 3 | 2 | 2 | 2 | 0 | 0 | 0 | 47 | ⋯ | 0 | 0 | 0 | 0 | 0 | 0 | 0 | 72522 | 5 | 202203 |\n",
       "| 2.027402e+21 | 55 | 1 | 1 | 1 | 1 | 0 | 0 | 0 | 41 | ⋯ | 0 | 0 | 0 | 0 | 0 | 0 | 0 | 72522 | 5 | 202203 |\n",
       "| 7.320552e+21 | 73 | 1 | 1 | 1 | 1 | 0 | 0 | 0 | 40 | ⋯ | 0 | 0 | 0 | 0 | 0 | 0 | 0 | 72522 | 2 | 202203 |\n",
       "| 7.320552e+21 | 73 | 2 | 2 | 1 | 1 | 0 | 0 | 0 | 42 | ⋯ | 0 | 0 | 0 | 0 | 0 | 0 | 0 | 72522 | 2 | 202203 |\n",
       "| 4.510360e+21 | 77 | 1 | 1 | 1 | 1 | 0 | 0 | 0 | 41 | ⋯ | 0 | 0 | 0 | 0 | 0 | 0 | 0 | 72522 | 5 | 202203 |\n",
       "| 4.510360e+21 | 77 | 2 | 2 | 2 | 2 | 0 | 0 | 0 | 44 | ⋯ | 0 | 0 | 0 | 0 | 0 | 0 | 0 | 72522 | 5 | 202203 |\n",
       "| 3.714360e+21 | 80 | 2 | 2 | 1 | 1 | 0 | 0 | 0 | 42 | ⋯ | 0 | 0 | 0 | 0 | 0 | 0 | 0 | 72522 | 3 | 202203 |\n",
       "| 1.651520e+21 | 83 | 1 | 1 | 1 | 1 | 0 | 0 | 0 | 40 | ⋯ | 0 | 0 | 0 | 0 | 0 | 0 | 0 | 72522 | 1 | 202203 |\n",
       "| 1.651520e+21 | 83 | 2 | 2 | 1 | 1 | 0 | 0 | 0 | 42 | ⋯ | 0 | 0 | 0 | 0 | 0 | 0 | 0 | 72522 | 1 | 202203 |\n",
       "| 4.514360e+21 | 84 | 1 | 1 | 1 | 1 | 0 | 0 | 0 | 41 | ⋯ | 0 | 0 | 0 | 0 | 0 | 0 | 0 | 72522 | 5 | 202203 |\n",
       "| 4.514360e+21 | 84 | 2 | 2 | 2 | 2 | 0 | 0 | 0 | 44 | ⋯ | 0 | 0 | 0 | 0 | 0 | 0 | 0 | 72522 | 5 | 202203 |\n",
       "| ⋮ | ⋮ | ⋮ | ⋮ | ⋮ | ⋮ | ⋮ | ⋮ | ⋮ | ⋮ | ⋱ | ⋮ | ⋮ | ⋮ | ⋮ | ⋮ | ⋮ | ⋮ | ⋮ | ⋮ | ⋮ |\n",
       "| 4.041164e+21 | 89183 |  1 |  1 | 1 | 1 | 0 | 0 | 0 | 41 | ⋯ | 0 | 0 | 0 | 0 | 0 | 0 | 0 | 72522 | 5 | 202203 |\n",
       "| 7.956984e+21 | 89185 |  1 |  1 | 1 | 1 | 0 | 0 | 0 | 40 | ⋯ | 0 | 0 | 0 | 0 | 0 | 0 | 0 | 72522 | 1 | 202203 |\n",
       "| 7.956984e+21 | 89185 |  2 |  2 | 1 | 1 | 0 | 0 | 0 | 42 | ⋯ | 0 | 0 | 0 | 0 | 0 | 0 | 0 | 72522 | 1 | 202203 |\n",
       "| 1.090158e+21 | 89186 |  2 |  2 | 1 | 1 | 0 | 0 | 0 | 42 | ⋯ | 0 | 0 | 0 | 0 | 0 | 0 | 0 | 72522 | 1 | 202203 |\n",
       "| 5.789404e+21 | 89187 |  1 |  1 | 1 | 1 | 0 | 0 | 0 | 40 | ⋯ | 0 | 0 | 0 | 0 | 0 | 0 | 0 | 72522 | 1 | 202203 |\n",
       "| 5.789404e+21 | 89187 |  2 |  2 | 1 | 1 | 0 | 0 | 0 | 42 | ⋯ | 0 | 0 | 0 | 0 | 0 | 0 | 0 | 72522 | 1 | 202203 |\n",
       "| 9.117540e+21 | 89188 |  1 |  1 | 1 | 1 | 0 | 0 | 0 | 40 | ⋯ | 0 | 0 | 0 | 0 | 0 | 0 | 0 | 72522 | 1 | 202203 |\n",
       "| 9.117540e+21 | 89188 |  2 |  2 | 1 | 1 | 0 | 0 | 0 | 42 | ⋯ | 0 | 0 | 0 | 0 | 0 | 0 | 0 | 72522 | 1 | 202203 |\n",
       "| 1.159507e+21 | 89189 |  2 |  2 | 2 | 2 | 0 | 0 | 0 | 44 | ⋯ | 0 | 0 | 0 | 0 | 0 | 0 | 0 | 72522 | 5 | 202203 |\n",
       "| 1.109604e+21 | 89190 |  1 |  1 | 1 | 1 | 0 | 0 | 0 | 41 | ⋯ | 0 | 0 | 0 | 0 | 0 | 0 | 0 | 72522 | 5 | 202203 |\n",
       "| 4.516131e+21 | 89191 |  3 |  5 | 1 | 2 | 0 | 0 | 0 | 49 | ⋯ | 0 | 0 | 0 | 0 | 0 | 0 | 0 | 72522 | 1 | 202203 |\n",
       "| 4.516131e+21 | 89191 |  4 |  6 | 1 | 2 | 0 | 0 | 0 | 52 | ⋯ | 0 | 0 | 0 | 0 | 0 | 0 | 0 | 72522 | 1 | 202203 |\n",
       "| 4.516131e+21 | 89191 |  5 |  3 | 1 | 3 | 0 | 0 | 0 | 52 | ⋯ | 0 | 0 | 0 | 0 | 0 | 0 | 0 | 72522 | 1 | 202203 |\n",
       "| 1.051194e+20 | 89192 |  1 |  1 | 1 | 1 | 0 | 0 | 0 | 40 | ⋯ | 0 | 0 | 0 | 0 | 0 | 0 | 0 | 72522 | 1 | 202203 |\n",
       "| 1.051194e+20 | 89192 |  2 |  2 | 1 | 1 | 0 | 0 | 0 | 42 | ⋯ | 0 | 0 | 0 | 0 | 0 | 0 | 0 | 72522 | 1 | 202203 |\n",
       "| 9.955294e+21 | 89193 |  2 |  2 | 1 | 1 | 0 | 0 | 0 | 48 | ⋯ | 0 | 0 | 0 | 0 | 0 | 0 | 0 | 72522 | 5 | 202203 |\n",
       "| 1.220360e+21 | 89194 |  1 |  1 | 1 | 1 | 0 | 0 | 0 | 40 | ⋯ | 0 | 0 | 0 | 0 | 0 | 0 | 0 | 72522 | 5 | 202203 |\n",
       "| 1.220360e+21 | 89194 |  2 |  2 | 1 | 1 | 0 | 0 | 0 | 48 | ⋯ | 0 | 0 | 0 | 0 | 0 | 0 | 0 | 72522 | 5 | 202203 |\n",
       "| 1.220360e+21 | 89194 |  3 | 11 | 1 | 1 | 0 | 0 | 0 | 52 | ⋯ | 0 | 0 | 0 | 0 | 0 | 0 | 0 | 72522 | 5 | 202203 |\n",
       "| 1.220360e+21 | 89194 |  5 |  5 | 1 | 1 | 0 | 0 | 0 | 49 | ⋯ | 0 | 0 | 0 | 0 | 0 | 0 | 0 | 72522 | 5 | 202203 |\n",
       "| 1.220360e+21 | 89194 |  6 | 12 | 1 | 1 | 0 | 0 | 0 | 52 | ⋯ | 0 | 0 | 0 | 0 | 0 | 0 | 0 | 72522 | 5 | 202203 |\n",
       "| 1.220360e+21 | 89194 |  8 |  4 | 1 | 2 | 0 | 0 | 0 | 48 | ⋯ | 0 | 0 | 0 | 0 | 0 | 0 | 0 | 72522 | 5 | 202203 |\n",
       "| 1.220360e+21 | 89194 | 12 |  9 | 4 | 4 | 0 | 0 | 0 | 58 | ⋯ | 0 | 0 | 0 | 0 | 0 | 0 | 0 | 72522 | 4 | 202203 |\n",
       "| 3.650705e+21 | 89195 |  1 |  1 | 1 | 1 | 0 | 0 | 0 | 41 | ⋯ | 0 | 0 | 0 | 0 | 0 | 0 | 0 | 72522 | 5 | 202203 |\n",
       "| 3.650705e+21 | 89195 |  2 |  4 | 2 | 2 | 0 | 0 | 0 | 55 | ⋯ | 0 | 0 | 0 | 0 | 0 | 0 | 0 | 72522 | 5 | 202203 |\n",
       "| 3.650705e+21 | 89195 |  3 |  3 | 3 | 3 | 0 | 0 | 0 | 55 | ⋯ | 0 | 0 | 0 | 0 | 0 | 0 | 0 | 72522 | 5 | 202203 |\n",
       "| 3.650705e+21 | 89195 |  4 |  2 | 4 | 4 | 0 | 0 | 0 | 54 | ⋯ | 0 | 0 | 0 | 0 | 0 | 0 | 0 | 72522 | 5 | 202203 |\n",
       "| 1.250004e+21 | 89196 |  2 |  2 | 1 | 1 | 0 | 0 | 0 | 51 | ⋯ | 0 | 0 | 0 | 0 | 0 | 0 | 0 | 72522 | 5 | 202203 |\n",
       "| 1.102030e+21 | 89197 |  1 |  1 | 1 | 1 | 0 | 0 | 0 | 40 | ⋯ | 0 | 0 | 0 | 0 | 0 | 0 | 0 | 72522 | 1 | 202203 |\n",
       "| 1.102030e+21 | 89197 |  2 |  2 | 1 | 1 | 0 | 0 | 0 | 42 | ⋯ | 0 | 0 | 0 | 0 | 0 | 0 | 0 | 72522 | 1 | 202203 |\n",
       "\n"
      ],
      "text/plain": [
       "      PERIDNUM     PH_SEQ P_SEQ A_LINENO PF_SEQ PHF_SEQ OED_TYP1 OED_TYP2\n",
       "1     2.022093e+21  1     1     1        1      1       0        0       \n",
       "2     2.100059e+21  5     1     1        1      1       0        0       \n",
       "3     2.100059e+21  5     2     2        1      1       0        0       \n",
       "4     1.410320e+21  6     1     1        1      1       0        0       \n",
       "5     1.410320e+21  6     2     2        1      1       0        0       \n",
       "6     2.044902e+21  9     1     1        1      1       0        0       \n",
       "7     2.044902e+21  9     2     2        1      1       0        0       \n",
       "8     2.031092e+20 13     1     1        1      1       0        0       \n",
       "9     2.031092e+20 13     2     2        1      1       2        2       \n",
       "10    2.031047e+20 15     2     2        1      1       0        0       \n",
       "11    8.936904e+21 19     1     1        1      1       0        0       \n",
       "12    2.049902e+21 23     1     1        1      1       0        0       \n",
       "13    2.049902e+21 23     2     2        2      2       0        0       \n",
       "14    2.031042e+20 29     2     2        1      1       0        0       \n",
       "15    6.100091e+21 34     1     1        1      1       0        0       \n",
       "16    2.031126e+20 52     1     1        1      1       0        0       \n",
       "17    2.031126e+20 52     2     2        1      1       0        0       \n",
       "18    9.326062e+21 53     1     1        1      1       0        0       \n",
       "19    9.326062e+21 53     2     2        1      1       0        0       \n",
       "20    2.049902e+21 54     3     2        2      2       0        0       \n",
       "21    2.027402e+21 55     1     1        1      1       0        0       \n",
       "22    7.320552e+21 73     1     1        1      1       0        0       \n",
       "23    7.320552e+21 73     2     2        1      1       0        0       \n",
       "24    4.510360e+21 77     1     1        1      1       0        0       \n",
       "25    4.510360e+21 77     2     2        2      2       0        0       \n",
       "26    3.714360e+21 80     2     2        1      1       0        0       \n",
       "27    1.651520e+21 83     1     1        1      1       0        0       \n",
       "28    1.651520e+21 83     2     2        1      1       0        0       \n",
       "29    4.514360e+21 84     1     1        1      1       0        0       \n",
       "30    4.514360e+21 84     2     2        2      2       0        0       \n",
       "⋮     ⋮            ⋮      ⋮     ⋮        ⋮      ⋮       ⋮        ⋮       \n",
       "73834 4.041164e+21 89183   1     1       1      1       0        0       \n",
       "73835 7.956984e+21 89185   1     1       1      1       0        0       \n",
       "73836 7.956984e+21 89185   2     2       1      1       0        0       \n",
       "73837 1.090158e+21 89186   2     2       1      1       0        0       \n",
       "73838 5.789404e+21 89187   1     1       1      1       0        0       \n",
       "73839 5.789404e+21 89187   2     2       1      1       0        0       \n",
       "73840 9.117540e+21 89188   1     1       1      1       0        0       \n",
       "73841 9.117540e+21 89188   2     2       1      1       0        0       \n",
       "73842 1.159507e+21 89189   2     2       2      2       0        0       \n",
       "73843 1.109604e+21 89190   1     1       1      1       0        0       \n",
       "73844 4.516131e+21 89191   3     5       1      2       0        0       \n",
       "73845 4.516131e+21 89191   4     6       1      2       0        0       \n",
       "73846 4.516131e+21 89191   5     3       1      3       0        0       \n",
       "73847 1.051194e+20 89192   1     1       1      1       0        0       \n",
       "73848 1.051194e+20 89192   2     2       1      1       0        0       \n",
       "73849 9.955294e+21 89193   2     2       1      1       0        0       \n",
       "73850 1.220360e+21 89194   1     1       1      1       0        0       \n",
       "73851 1.220360e+21 89194   2     2       1      1       0        0       \n",
       "73852 1.220360e+21 89194   3    11       1      1       0        0       \n",
       "73853 1.220360e+21 89194   5     5       1      1       0        0       \n",
       "73854 1.220360e+21 89194   6    12       1      1       0        0       \n",
       "73855 1.220360e+21 89194   8     4       1      2       0        0       \n",
       "73856 1.220360e+21 89194  12     9       4      4       0        0       \n",
       "73857 3.650705e+21 89195   1     1       1      1       0        0       \n",
       "73858 3.650705e+21 89195   2     4       2      2       0        0       \n",
       "73859 3.650705e+21 89195   3     3       3      3       0        0       \n",
       "73860 3.650705e+21 89195   4     2       4      4       0        0       \n",
       "73861 1.250004e+21 89196   2     2       1      1       0        0       \n",
       "73862 1.102030e+21 89197   1     1       1      1       0        0       \n",
       "73863 1.102030e+21 89197   2     2       1      1       0        0       \n",
       "      OED_TYP3 PERRP ⋯ I_DISVL1 I_DISVL2 I_SURVL1 I_SURVL2 MIG_CBST MIG_DSCP\n",
       "1     0        41    ⋯ 0        0        0        0        0        0       \n",
       "2     0        40    ⋯ 0        0        0        0        0        0       \n",
       "3     0        42    ⋯ 0        0        0        0        0        0       \n",
       "4     0        40    ⋯ 0        0        0        0        0        0       \n",
       "5     0        42    ⋯ 0        0        0        0        0        0       \n",
       "6     0        40    ⋯ 0        0        0        0        0        0       \n",
       "7     0        42    ⋯ 0        0        0        0        0        0       \n",
       "8     0        40    ⋯ 0        0        0        0        0        0       \n",
       "9     1        42    ⋯ 0        0        0        0        0        0       \n",
       "10    0        42    ⋯ 0        0        0        0        0        0       \n",
       "11    0        41    ⋯ 0        0        0        0        0        0       \n",
       "12    0        41    ⋯ 0        0        0        0        0        0       \n",
       "13    0        44    ⋯ 0        0        0        0        0        0       \n",
       "14    0        42    ⋯ 0        0        0        0        0        0       \n",
       "15    0        41    ⋯ 0        0        0        0        0        0       \n",
       "16    0        40    ⋯ 0        0        0        0        0        0       \n",
       "17    0        42    ⋯ 0        0        0        0        0        0       \n",
       "18    0        40    ⋯ 0        0        0        0        0        0       \n",
       "19    0        42    ⋯ 0        0        0        0        0        0       \n",
       "20    0        47    ⋯ 0        0        0        0        0        0       \n",
       "21    0        41    ⋯ 0        0        0        0        0        0       \n",
       "22    0        40    ⋯ 0        0        0        0        0        0       \n",
       "23    0        42    ⋯ 0        0        0        0        0        0       \n",
       "24    0        41    ⋯ 0        0        0        0        0        0       \n",
       "25    0        44    ⋯ 0        0        0        0        0        0       \n",
       "26    0        42    ⋯ 0        0        0        0        0        0       \n",
       "27    0        40    ⋯ 0        0        0        0        0        0       \n",
       "28    0        42    ⋯ 0        0        0        0        0        0       \n",
       "29    0        41    ⋯ 0        0        0        0        0        0       \n",
       "30    0        44    ⋯ 0        0        0        0        0        0       \n",
       "⋮     ⋮        ⋮     ⋱ ⋮        ⋮        ⋮        ⋮        ⋮        ⋮       \n",
       "73834 0        41    ⋯ 0        0        0        0        0        0       \n",
       "73835 0        40    ⋯ 0        0        0        0        0        0       \n",
       "73836 0        42    ⋯ 0        0        0        0        0        0       \n",
       "73837 0        42    ⋯ 0        0        0        0        0        0       \n",
       "73838 0        40    ⋯ 0        0        0        0        0        0       \n",
       "73839 0        42    ⋯ 0        0        0        0        0        0       \n",
       "73840 0        40    ⋯ 0        0        0        0        0        0       \n",
       "73841 0        42    ⋯ 0        0        0        0        0        0       \n",
       "73842 0        44    ⋯ 0        0        0        0        0        0       \n",
       "73843 0        41    ⋯ 0        0        0        0        0        0       \n",
       "73844 0        49    ⋯ 0        0        0        0        0        0       \n",
       "73845 0        52    ⋯ 0        0        0        0        0        0       \n",
       "73846 0        52    ⋯ 0        0        0        0        0        0       \n",
       "73847 0        40    ⋯ 0        0        0        0        0        0       \n",
       "73848 0        42    ⋯ 0        0        0        0        0        0       \n",
       "73849 0        48    ⋯ 0        0        0        0        0        0       \n",
       "73850 0        40    ⋯ 0        0        0        0        0        0       \n",
       "73851 0        48    ⋯ 0        0        0        0        0        0       \n",
       "73852 0        52    ⋯ 0        0        0        0        0        0       \n",
       "73853 0        49    ⋯ 0        0        0        0        0        0       \n",
       "73854 0        52    ⋯ 0        0        0        0        0        0       \n",
       "73855 0        48    ⋯ 0        0        0        0        0        0       \n",
       "73856 0        58    ⋯ 0        0        0        0        0        0       \n",
       "73857 0        41    ⋯ 0        0        0        0        0        0       \n",
       "73858 0        55    ⋯ 0        0        0        0        0        0       \n",
       "73859 0        55    ⋯ 0        0        0        0        0        0       \n",
       "73860 0        54    ⋯ 0        0        0        0        0        0       \n",
       "73861 0        51    ⋯ 0        0        0        0        0        0       \n",
       "73862 0        40    ⋯ 0        0        0        0        0        0       \n",
       "73863 0        42    ⋯ 0        0        0        0        0        0       \n",
       "      DEP_STAT FILEDATE FILESTAT YYYYMM\n",
       "1     0        72522    5        202203\n",
       "2     0        72522    1        202203\n",
       "3     0        72522    1        202203\n",
       "4     0        72522    1        202203\n",
       "5     0        72522    1        202203\n",
       "6     0        72522    1        202203\n",
       "7     0        72522    1        202203\n",
       "8     0        72522    1        202203\n",
       "9     0        72522    1        202203\n",
       "10    0        72522    2        202203\n",
       "11    0        72522    5        202203\n",
       "12    0        72522    5        202203\n",
       "13    0        72522    5        202203\n",
       "14    0        72522    1        202203\n",
       "15    0        72522    5        202203\n",
       "16    0        72522    1        202203\n",
       "17    0        72522    1        202203\n",
       "18    0        72522    1        202203\n",
       "19    0        72522    1        202203\n",
       "20    0        72522    5        202203\n",
       "21    0        72522    5        202203\n",
       "22    0        72522    2        202203\n",
       "23    0        72522    2        202203\n",
       "24    0        72522    5        202203\n",
       "25    0        72522    5        202203\n",
       "26    0        72522    3        202203\n",
       "27    0        72522    1        202203\n",
       "28    0        72522    1        202203\n",
       "29    0        72522    5        202203\n",
       "30    0        72522    5        202203\n",
       "⋮     ⋮        ⋮        ⋮        ⋮     \n",
       "73834 0        72522    5        202203\n",
       "73835 0        72522    1        202203\n",
       "73836 0        72522    1        202203\n",
       "73837 0        72522    1        202203\n",
       "73838 0        72522    1        202203\n",
       "73839 0        72522    1        202203\n",
       "73840 0        72522    1        202203\n",
       "73841 0        72522    1        202203\n",
       "73842 0        72522    5        202203\n",
       "73843 0        72522    5        202203\n",
       "73844 0        72522    1        202203\n",
       "73845 0        72522    1        202203\n",
       "73846 0        72522    1        202203\n",
       "73847 0        72522    1        202203\n",
       "73848 0        72522    1        202203\n",
       "73849 0        72522    5        202203\n",
       "73850 0        72522    5        202203\n",
       "73851 0        72522    5        202203\n",
       "73852 0        72522    5        202203\n",
       "73853 0        72522    5        202203\n",
       "73854 0        72522    5        202203\n",
       "73855 0        72522    5        202203\n",
       "73856 0        72522    4        202203\n",
       "73857 0        72522    5        202203\n",
       "73858 0        72522    5        202203\n",
       "73859 0        72522    5        202203\n",
       "73860 0        72522    5        202203\n",
       "73861 0        72522    5        202203\n",
       "73862 0        72522    1        202203\n",
       "73863 0        72522    1        202203"
      ]
     },
     "metadata": {},
     "output_type": "display_data"
    }
   ],
   "source": [
    "#MAKE A NEW \"PERSON\" DATASET THAT EXCLUDES CHILDREN, ARMED FORCES\n",
    "\n",
    "person_no_children_or_armed_forces  <- person %>%\n",
    "    filter(A_CIVLF != 0)\n",
    "\n",
    "\n",
    "\n",
    "person_no_children_or_armed_forces"
   ]
  },
  {
   "cell_type": "code",
   "execution_count": 3,
   "id": "5e633b76",
   "metadata": {},
   "outputs": [
    {
     "name": "stderr",
     "output_type": "stream",
     "text": [
      "── \u001b[1mAttaching core tidyverse packages\u001b[22m ──────────────────────────────────────────────────────────────── tidyverse 2.0.0 ──\n",
      "\u001b[32m✔\u001b[39m \u001b[34mdplyr    \u001b[39m 1.1.2     \u001b[32m✔\u001b[39m \u001b[34mreadr    \u001b[39m 2.1.4\n",
      "\u001b[32m✔\u001b[39m \u001b[34mforcats  \u001b[39m 1.0.0     \u001b[32m✔\u001b[39m \u001b[34mstringr  \u001b[39m 1.5.0\n",
      "\u001b[32m✔\u001b[39m \u001b[34mggplot2  \u001b[39m 3.4.2     \u001b[32m✔\u001b[39m \u001b[34mtibble   \u001b[39m 3.2.1\n",
      "\u001b[32m✔\u001b[39m \u001b[34mlubridate\u001b[39m 1.9.2     \u001b[32m✔\u001b[39m \u001b[34mtidyr    \u001b[39m 1.3.0\n",
      "\u001b[32m✔\u001b[39m \u001b[34mpurrr    \u001b[39m 1.0.1     \n",
      "── \u001b[1mConflicts\u001b[22m ────────────────────────────────────────────────────────────────────────────────── tidyverse_conflicts() ──\n",
      "\u001b[31m✖\u001b[39m \u001b[34mdplyr\u001b[39m::\u001b[32mfilter()\u001b[39m masks \u001b[34mstats\u001b[39m::filter()\n",
      "\u001b[31m✖\u001b[39m \u001b[34mdplyr\u001b[39m::\u001b[32mlag()\u001b[39m    masks \u001b[34mstats\u001b[39m::lag()\n",
      "\u001b[36mℹ\u001b[39m Use the conflicted package (\u001b[3m\u001b[34m<http://conflicted.r-lib.org/>\u001b[39m\u001b[23m) to force all conflicts to become errors\n"
     ]
    }
   ],
   "source": [
    "#LOAD LIBRARIES\n",
    "\n",
    "#install.packages(\"tidyverse\")\n",
    "library(tidyverse)"
   ]
  },
  {
   "cell_type": "code",
   "execution_count": 2,
   "id": "9651edf6",
   "metadata": {},
   "outputs": [
    {
     "data": {
      "text/html": [
       "<table class=\"dataframe\">\n",
       "<caption>A data.frame: 6 × 832</caption>\n",
       "<thead>\n",
       "\t<tr><th></th><th scope=col>PERIDNUM</th><th scope=col>PH_SEQ</th><th scope=col>P_SEQ</th><th scope=col>A_LINENO</th><th scope=col>PF_SEQ</th><th scope=col>PHF_SEQ</th><th scope=col>OED_TYP1</th><th scope=col>OED_TYP2</th><th scope=col>OED_TYP3</th><th scope=col>PERRP</th><th scope=col>⋯</th><th scope=col>I_DISVL1</th><th scope=col>I_DISVL2</th><th scope=col>I_SURVL1</th><th scope=col>I_SURVL2</th><th scope=col>MIG_CBST</th><th scope=col>MIG_DSCP</th><th scope=col>DEP_STAT</th><th scope=col>FILEDATE</th><th scope=col>FILESTAT</th><th scope=col>YYYYMM</th></tr>\n",
       "\t<tr><th></th><th scope=col>&lt;dbl&gt;</th><th scope=col>&lt;int&gt;</th><th scope=col>&lt;int&gt;</th><th scope=col>&lt;int&gt;</th><th scope=col>&lt;int&gt;</th><th scope=col>&lt;int&gt;</th><th scope=col>&lt;int&gt;</th><th scope=col>&lt;int&gt;</th><th scope=col>&lt;int&gt;</th><th scope=col>&lt;int&gt;</th><th scope=col>⋯</th><th scope=col>&lt;int&gt;</th><th scope=col>&lt;int&gt;</th><th scope=col>&lt;int&gt;</th><th scope=col>&lt;int&gt;</th><th scope=col>&lt;int&gt;</th><th scope=col>&lt;int&gt;</th><th scope=col>&lt;int&gt;</th><th scope=col>&lt;int&gt;</th><th scope=col>&lt;int&gt;</th><th scope=col>&lt;int&gt;</th></tr>\n",
       "</thead>\n",
       "<tbody>\n",
       "\t<tr><th scope=row>1</th><td>2.022093e+21</td><td>1</td><td>1</td><td>1</td><td>1</td><td>1</td><td>0</td><td>0</td><td>0</td><td>41</td><td>⋯</td><td>0</td><td>0</td><td>0</td><td>0</td><td>0</td><td>0</td><td>0</td><td>72522</td><td>5</td><td>202203</td></tr>\n",
       "\t<tr><th scope=row>2</th><td>2.100059e+21</td><td>5</td><td>1</td><td>1</td><td>1</td><td>1</td><td>0</td><td>0</td><td>0</td><td>40</td><td>⋯</td><td>0</td><td>0</td><td>0</td><td>0</td><td>0</td><td>0</td><td>0</td><td>72522</td><td>1</td><td>202203</td></tr>\n",
       "\t<tr><th scope=row>3</th><td>2.100059e+21</td><td>5</td><td>2</td><td>2</td><td>1</td><td>1</td><td>0</td><td>0</td><td>0</td><td>42</td><td>⋯</td><td>0</td><td>0</td><td>0</td><td>0</td><td>0</td><td>0</td><td>0</td><td>72522</td><td>1</td><td>202203</td></tr>\n",
       "\t<tr><th scope=row>4</th><td>1.410320e+21</td><td>6</td><td>1</td><td>1</td><td>1</td><td>1</td><td>0</td><td>0</td><td>0</td><td>40</td><td>⋯</td><td>0</td><td>0</td><td>0</td><td>0</td><td>0</td><td>0</td><td>0</td><td>72522</td><td>1</td><td>202203</td></tr>\n",
       "\t<tr><th scope=row>5</th><td>1.410320e+21</td><td>6</td><td>2</td><td>2</td><td>1</td><td>1</td><td>0</td><td>0</td><td>0</td><td>42</td><td>⋯</td><td>0</td><td>0</td><td>0</td><td>0</td><td>0</td><td>0</td><td>0</td><td>72522</td><td>1</td><td>202203</td></tr>\n",
       "\t<tr><th scope=row>6</th><td>2.044902e+21</td><td>9</td><td>1</td><td>1</td><td>1</td><td>1</td><td>0</td><td>0</td><td>0</td><td>40</td><td>⋯</td><td>0</td><td>0</td><td>0</td><td>0</td><td>0</td><td>0</td><td>0</td><td>72522</td><td>1</td><td>202203</td></tr>\n",
       "</tbody>\n",
       "</table>\n"
      ],
      "text/latex": [
       "A data.frame: 6 × 832\n",
       "\\begin{tabular}{r|lllllllllllllllllllll}\n",
       "  & PERIDNUM & PH\\_SEQ & P\\_SEQ & A\\_LINENO & PF\\_SEQ & PHF\\_SEQ & OED\\_TYP1 & OED\\_TYP2 & OED\\_TYP3 & PERRP & ⋯ & I\\_DISVL1 & I\\_DISVL2 & I\\_SURVL1 & I\\_SURVL2 & MIG\\_CBST & MIG\\_DSCP & DEP\\_STAT & FILEDATE & FILESTAT & YYYYMM\\\\\n",
       "  & <dbl> & <int> & <int> & <int> & <int> & <int> & <int> & <int> & <int> & <int> & ⋯ & <int> & <int> & <int> & <int> & <int> & <int> & <int> & <int> & <int> & <int>\\\\\n",
       "\\hline\n",
       "\t1 & 2.022093e+21 & 1 & 1 & 1 & 1 & 1 & 0 & 0 & 0 & 41 & ⋯ & 0 & 0 & 0 & 0 & 0 & 0 & 0 & 72522 & 5 & 202203\\\\\n",
       "\t2 & 2.100059e+21 & 5 & 1 & 1 & 1 & 1 & 0 & 0 & 0 & 40 & ⋯ & 0 & 0 & 0 & 0 & 0 & 0 & 0 & 72522 & 1 & 202203\\\\\n",
       "\t3 & 2.100059e+21 & 5 & 2 & 2 & 1 & 1 & 0 & 0 & 0 & 42 & ⋯ & 0 & 0 & 0 & 0 & 0 & 0 & 0 & 72522 & 1 & 202203\\\\\n",
       "\t4 & 1.410320e+21 & 6 & 1 & 1 & 1 & 1 & 0 & 0 & 0 & 40 & ⋯ & 0 & 0 & 0 & 0 & 0 & 0 & 0 & 72522 & 1 & 202203\\\\\n",
       "\t5 & 1.410320e+21 & 6 & 2 & 2 & 1 & 1 & 0 & 0 & 0 & 42 & ⋯ & 0 & 0 & 0 & 0 & 0 & 0 & 0 & 72522 & 1 & 202203\\\\\n",
       "\t6 & 2.044902e+21 & 9 & 1 & 1 & 1 & 1 & 0 & 0 & 0 & 40 & ⋯ & 0 & 0 & 0 & 0 & 0 & 0 & 0 & 72522 & 1 & 202203\\\\\n",
       "\\end{tabular}\n"
      ],
      "text/markdown": [
       "\n",
       "A data.frame: 6 × 832\n",
       "\n",
       "| <!--/--> | PERIDNUM &lt;dbl&gt; | PH_SEQ &lt;int&gt; | P_SEQ &lt;int&gt; | A_LINENO &lt;int&gt; | PF_SEQ &lt;int&gt; | PHF_SEQ &lt;int&gt; | OED_TYP1 &lt;int&gt; | OED_TYP2 &lt;int&gt; | OED_TYP3 &lt;int&gt; | PERRP &lt;int&gt; | ⋯ ⋯ | I_DISVL1 &lt;int&gt; | I_DISVL2 &lt;int&gt; | I_SURVL1 &lt;int&gt; | I_SURVL2 &lt;int&gt; | MIG_CBST &lt;int&gt; | MIG_DSCP &lt;int&gt; | DEP_STAT &lt;int&gt; | FILEDATE &lt;int&gt; | FILESTAT &lt;int&gt; | YYYYMM &lt;int&gt; |\n",
       "|---|---|---|---|---|---|---|---|---|---|---|---|---|---|---|---|---|---|---|---|---|---|\n",
       "| 1 | 2.022093e+21 | 1 | 1 | 1 | 1 | 1 | 0 | 0 | 0 | 41 | ⋯ | 0 | 0 | 0 | 0 | 0 | 0 | 0 | 72522 | 5 | 202203 |\n",
       "| 2 | 2.100059e+21 | 5 | 1 | 1 | 1 | 1 | 0 | 0 | 0 | 40 | ⋯ | 0 | 0 | 0 | 0 | 0 | 0 | 0 | 72522 | 1 | 202203 |\n",
       "| 3 | 2.100059e+21 | 5 | 2 | 2 | 1 | 1 | 0 | 0 | 0 | 42 | ⋯ | 0 | 0 | 0 | 0 | 0 | 0 | 0 | 72522 | 1 | 202203 |\n",
       "| 4 | 1.410320e+21 | 6 | 1 | 1 | 1 | 1 | 0 | 0 | 0 | 40 | ⋯ | 0 | 0 | 0 | 0 | 0 | 0 | 0 | 72522 | 1 | 202203 |\n",
       "| 5 | 1.410320e+21 | 6 | 2 | 2 | 1 | 1 | 0 | 0 | 0 | 42 | ⋯ | 0 | 0 | 0 | 0 | 0 | 0 | 0 | 72522 | 1 | 202203 |\n",
       "| 6 | 2.044902e+21 | 9 | 1 | 1 | 1 | 1 | 0 | 0 | 0 | 40 | ⋯ | 0 | 0 | 0 | 0 | 0 | 0 | 0 | 72522 | 1 | 202203 |\n",
       "\n"
      ],
      "text/plain": [
       "  PERIDNUM     PH_SEQ P_SEQ A_LINENO PF_SEQ PHF_SEQ OED_TYP1 OED_TYP2 OED_TYP3\n",
       "1 2.022093e+21 1      1     1        1      1       0        0        0       \n",
       "2 2.100059e+21 5      1     1        1      1       0        0        0       \n",
       "3 2.100059e+21 5      2     2        1      1       0        0        0       \n",
       "4 1.410320e+21 6      1     1        1      1       0        0        0       \n",
       "5 1.410320e+21 6      2     2        1      1       0        0        0       \n",
       "6 2.044902e+21 9      1     1        1      1       0        0        0       \n",
       "  PERRP ⋯ I_DISVL1 I_DISVL2 I_SURVL1 I_SURVL2 MIG_CBST MIG_DSCP DEP_STAT\n",
       "1 41    ⋯ 0        0        0        0        0        0        0       \n",
       "2 40    ⋯ 0        0        0        0        0        0        0       \n",
       "3 42    ⋯ 0        0        0        0        0        0        0       \n",
       "4 40    ⋯ 0        0        0        0        0        0        0       \n",
       "5 42    ⋯ 0        0        0        0        0        0        0       \n",
       "6 40    ⋯ 0        0        0        0        0        0        0       \n",
       "  FILEDATE FILESTAT YYYYMM\n",
       "1 72522    5        202203\n",
       "2 72522    1        202203\n",
       "3 72522    1        202203\n",
       "4 72522    1        202203\n",
       "5 72522    1        202203\n",
       "6 72522    1        202203"
      ]
     },
     "metadata": {},
     "output_type": "display_data"
    }
   ],
   "source": [
    "#DISPLAY INITIAL TABLES\n",
    "#head(family)\n",
    "head(person_no_children_or_armed_forces)"
   ]
  },
  {
   "cell_type": "code",
   "execution_count": 61,
   "id": "019afbab",
   "metadata": {},
   "outputs": [
    {
     "data": {
      "image/png": "[encoded data removed]",
      "text/plain": [
       "plot without title"
      ]
     },
     "metadata": {
      "image/png": {
       "height": 420,
       "width": 420
      }
     },
     "output_type": "display_data"
    },
    {
     "data": {
      "image/png": "[encoded data removed]",
      "text/plain": [
       "plot without title"
      ]
     },
     "metadata": {
      "image/png": {
       "height": 420,
       "width": 420
      }
     },
     "output_type": "display_data"
    }
   ],
   "source": [
    "#PEHRUSLT\n",
    "#A_GRSWK\n",
    "\n",
    "gg  <- ggplot(data = person_no_children_or_armed_forces, aes(A_GRSWK, PEHRUSLT))\n",
    "gg + geom_point()\n",
    "\n",
    "gg  <- ggplot(data = person_no_children_or_armed_forces, aes(y = A_GRSWK, x = PEHRUSLT))\n",
    "gg + \n",
    "    geom_point() + \n",
    "    labs(x = \"Hours Worked per Week\", y = \"Gross Pay/Week\")\n",
    "\n",
    "# Leftoff Note: Circle back to the data visualisation lecture to get a better idea of what to do.\n",
    "# Leftoff Note 2: Run tests to determine data skew (what distribution does the data have? Is it normal? Is it right-skewed? Is it something else?)\n",
    "\n",
    "# Easy prediction 1: part-timers differ systematically from full-time employees in regards to [what?]."
   ]
  },
  {
   "cell_type": "markdown",
   "id": "feb4192a",
   "metadata": {},
   "source": [
    "**Data Distribution Visualisation**\n",
    "\n",
    "Gross Weekly Income"
   ]
  },
  {
   "cell_type": "code",
   "execution_count": 59,
   "id": "24a09c81",
   "metadata": {
    "scrolled": false
   },
   "outputs": [
    {
     "data": {
      "image/png": "[encoded data removed]",
      "text/plain": [
       "plot without title"
      ]
     },
     "metadata": {
      "image/png": {
       "height": 420,
       "width": 420
      }
     },
     "output_type": "display_data"
    },
    {
     "data": {
      "image/png": "[encoded data removed]",
      "text/plain": [
       "plot without title"
      ]
     },
     "metadata": {
      "image/png": {
       "height": 420,
       "width": 420
      }
     },
     "output_type": "display_data"
    }
   ],
   "source": [
    "gg.distribution  <- ggplot (data = person_no_children_or_armed_forces, aes(A_GRSWK)) + labs(x = \"Gross Weekly Income\") \n",
    "gg.distribution + geom_histogram(bins = 20, fill = \"darkolivegreen4\")\n",
    "gg.distribution + geom_density(fill = \"darkolivegreen3\")"
   ]
  },
  {
   "cell_type": "markdown",
   "id": "0d082bff",
   "metadata": {},
   "source": [
    "**Data Distribution Visualisation**\n",
    "\n",
    "Hours worked weekly"
   ]
  },
  {
   "cell_type": "code",
   "execution_count": 63,
   "id": "3e32d09e",
   "metadata": {},
   "outputs": [
    {
     "data": {
      "image/png": "[encoded data removed]",
      "text/plain": [
       "plot without title"
      ]
     },
     "metadata": {
      "image/png": {
       "height": 420,
       "width": 420
      }
     },
     "output_type": "display_data"
    }
   ],
   "source": [
    "gg.distribution  <- ggplot (data = person_no_children_or_armed_forces, aes(PEHRUSLT)) + labs(x = \"Total Labor Hours per Week\") \n",
    "gg.distribution + geom_histogram(bins = 10, fill = \"burlywood\")"
   ]
  },
  {
   "cell_type": "code",
   "execution_count": 65,
   "id": "0a27d1d0",
   "metadata": {},
   "outputs": [
    {
     "data": {
      "text/html": [
       "<table class=\"dataframe\">\n",
       "<caption>A data.frame: 6 × 3</caption>\n",
       "<thead>\n",
       "\t<tr><th></th><th scope=col>PEHRUSLT</th><th scope=col>A_GRSWK</th><th scope=col>A_FTLF</th></tr>\n",
       "\t<tr><th></th><th scope=col>&lt;int&gt;</th><th scope=col>&lt;int&gt;</th><th scope=col>&lt;int&gt;</th></tr>\n",
       "</thead>\n",
       "<tbody>\n",
       "\t<tr><th scope=row>1</th><td>40</td><td> 923</td><td>1</td></tr>\n",
       "\t<tr><th scope=row>2</th><td>55</td><td>1538</td><td>1</td></tr>\n",
       "\t<tr><th scope=row>3</th><td>50</td><td>2885</td><td>1</td></tr>\n",
       "\t<tr><th scope=row>4</th><td>50</td><td>1000</td><td>1</td></tr>\n",
       "\t<tr><th scope=row>5</th><td>20</td><td> 330</td><td>0</td></tr>\n",
       "\t<tr><th scope=row>6</th><td>50</td><td> 606</td><td>1</td></tr>\n",
       "</tbody>\n",
       "</table>\n"
      ],
      "text/latex": [
       "A data.frame: 6 × 3\n",
       "\\begin{tabular}{r|lll}\n",
       "  & PEHRUSLT & A\\_GRSWK & A\\_FTLF\\\\\n",
       "  & <int> & <int> & <int>\\\\\n",
       "\\hline\n",
       "\t1 & 40 &  923 & 1\\\\\n",
       "\t2 & 55 & 1538 & 1\\\\\n",
       "\t3 & 50 & 2885 & 1\\\\\n",
       "\t4 & 50 & 1000 & 1\\\\\n",
       "\t5 & 20 &  330 & 0\\\\\n",
       "\t6 & 50 &  606 & 1\\\\\n",
       "\\end{tabular}\n"
      ],
      "text/markdown": [
       "\n",
       "A data.frame: 6 × 3\n",
       "\n",
       "| <!--/--> | PEHRUSLT &lt;int&gt; | A_GRSWK &lt;int&gt; | A_FTLF &lt;int&gt; |\n",
       "|---|---|---|---|\n",
       "| 1 | 40 |  923 | 1 |\n",
       "| 2 | 55 | 1538 | 1 |\n",
       "| 3 | 50 | 2885 | 1 |\n",
       "| 4 | 50 | 1000 | 1 |\n",
       "| 5 | 20 |  330 | 0 |\n",
       "| 6 | 50 |  606 | 1 |\n",
       "\n"
      ],
      "text/plain": [
       "  PEHRUSLT A_GRSWK A_FTLF\n",
       "1 40        923    1     \n",
       "2 55       1538    1     \n",
       "3 50       2885    1     \n",
       "4 50       1000    1     \n",
       "5 20        330    0     \n",
       "6 50        606    1     "
      ]
     },
     "metadata": {},
     "output_type": "display_data"
    },
    {
     "data": {
      "text/plain": [
       "\n",
       "Call:\n",
       "glm(formula = PEHRUSLT ~ A_GRSWK, family = Gamma(\"inverse\"), \n",
       "    data = person_f1)\n",
       "\n",
       "Coefficients:\n",
       "              Estimate Std. Error t value Pr(>|t|)    \n",
       "(Intercept)  3.002e-02  1.210e-04  248.00   <2e-16 ***\n",
       "A_GRSWK     -3.701e-06  7.724e-08  -47.92   <2e-16 ***\n",
       "---\n",
       "Signif. codes:  0 '***' 0.001 '**' 0.01 '*' 0.05 '.' 0.1 ' ' 1\n",
       "\n",
       "(Dispersion parameter for Gamma family taken to be 0.06555576)\n",
       "\n",
       "    Null deviance: 1061.35  on 10167  degrees of freedom\n",
       "Residual deviance:  921.69  on 10166  degrees of freedom\n",
       "AIC: 78176\n",
       "\n",
       "Number of Fisher Scoring iterations: 4\n"
      ]
     },
     "metadata": {},
     "output_type": "display_data"
    }
   ],
   "source": [
    "#Pre-DA mini-Hypothesis: I predict that part time workers differ systematically from full-time workers.\n",
    "#I suspect this difference is primarily due to part-time workers working fewer hours.\n",
    "\n",
    "\n",
    "person_f1  <- person_no_children_or_armed_forces %>%\n",
    "    select(PEHRUSLT, A_GRSWK, A_FTLF) %>%\n",
    "    filter(PEHRUSLT > 0,\n",
    "          A_GRSWK > 0) #Filter (remove) zeroes + negative values from DF\n",
    "    \n",
    "#person_f1  <- person_f1 %>% filter(A_FTLF == A_FTLF[which(person_f1$A_FTLF>0)])\n",
    "\n",
    "\n",
    "#person_f1$PEHRUSLT[which(person_f1$PEHRUSLT>0)]\n",
    "#person_f1$A_FTLF#[which(person_f1$A_FTLF>0)]\n",
    "\n",
    "head(person_f1)\n",
    "#person_f1\n",
    "\n",
    "glm_hrs_ftlf  <- glm(PEHRUSLT ~ A_GRSWK, data = person_f1, family = Gamma(\"inverse\"))\n",
    "summary(glm_hrs_ftlf) "
   ]
  },
  {
   "cell_type": "code",
   "execution_count": 66,
   "id": "37dd7931",
   "metadata": {},
   "outputs": [
    {
     "data": {
      "text/html": [
       "<table class=\"dataframe\">\n",
       "<caption>A data.frame: 6 × 5</caption>\n",
       "<thead>\n",
       "\t<tr><th></th><th scope=col>PEHRUSLT</th><th scope=col>A_GRSWK</th><th scope=col>A_FTLF</th><th scope=col>full_time</th><th scope=col>part_time</th></tr>\n",
       "\t<tr><th></th><th scope=col>&lt;int&gt;</th><th scope=col>&lt;int&gt;</th><th scope=col>&lt;int&gt;</th><th scope=col>&lt;lgl&gt;</th><th scope=col>&lt;lgl&gt;</th></tr>\n",
       "</thead>\n",
       "<tbody>\n",
       "\t<tr><th scope=row>1</th><td>40</td><td> 923</td><td>1</td><td> TRUE</td><td>FALSE</td></tr>\n",
       "\t<tr><th scope=row>2</th><td>55</td><td>1538</td><td>1</td><td> TRUE</td><td>FALSE</td></tr>\n",
       "\t<tr><th scope=row>3</th><td>50</td><td>2885</td><td>1</td><td> TRUE</td><td>FALSE</td></tr>\n",
       "\t<tr><th scope=row>4</th><td>50</td><td>1000</td><td>1</td><td> TRUE</td><td>FALSE</td></tr>\n",
       "\t<tr><th scope=row>5</th><td>20</td><td> 330</td><td>0</td><td>FALSE</td><td> TRUE</td></tr>\n",
       "\t<tr><th scope=row>6</th><td>50</td><td> 606</td><td>1</td><td> TRUE</td><td>FALSE</td></tr>\n",
       "</tbody>\n",
       "</table>\n"
      ],
      "text/latex": [
       "A data.frame: 6 × 5\n",
       "\\begin{tabular}{r|lllll}\n",
       "  & PEHRUSLT & A\\_GRSWK & A\\_FTLF & full\\_time & part\\_time\\\\\n",
       "  & <int> & <int> & <int> & <lgl> & <lgl>\\\\\n",
       "\\hline\n",
       "\t1 & 40 &  923 & 1 &  TRUE & FALSE\\\\\n",
       "\t2 & 55 & 1538 & 1 &  TRUE & FALSE\\\\\n",
       "\t3 & 50 & 2885 & 1 &  TRUE & FALSE\\\\\n",
       "\t4 & 50 & 1000 & 1 &  TRUE & FALSE\\\\\n",
       "\t5 & 20 &  330 & 0 & FALSE &  TRUE\\\\\n",
       "\t6 & 50 &  606 & 1 &  TRUE & FALSE\\\\\n",
       "\\end{tabular}\n"
      ],
      "text/markdown": [
       "\n",
       "A data.frame: 6 × 5\n",
       "\n",
       "| <!--/--> | PEHRUSLT &lt;int&gt; | A_GRSWK &lt;int&gt; | A_FTLF &lt;int&gt; | full_time &lt;lgl&gt; | part_time &lt;lgl&gt; |\n",
       "|---|---|---|---|---|---|\n",
       "| 1 | 40 |  923 | 1 |  TRUE | FALSE |\n",
       "| 2 | 55 | 1538 | 1 |  TRUE | FALSE |\n",
       "| 3 | 50 | 2885 | 1 |  TRUE | FALSE |\n",
       "| 4 | 50 | 1000 | 1 |  TRUE | FALSE |\n",
       "| 5 | 20 |  330 | 0 | FALSE |  TRUE |\n",
       "| 6 | 50 |  606 | 1 |  TRUE | FALSE |\n",
       "\n"
      ],
      "text/plain": [
       "  PEHRUSLT A_GRSWK A_FTLF full_time part_time\n",
       "1 40        923    1       TRUE     FALSE    \n",
       "2 55       1538    1       TRUE     FALSE    \n",
       "3 50       2885    1       TRUE     FALSE    \n",
       "4 50       1000    1       TRUE     FALSE    \n",
       "5 20        330    0      FALSE      TRUE    \n",
       "6 50        606    1       TRUE     FALSE    "
      ]
     },
     "metadata": {},
     "output_type": "display_data"
    }
   ],
   "source": [
    "#Make 2 vectors: hours worked by FTLF = 0, and hours worked by FTLF = 1\n",
    "\n",
    "person_f2  <-  person_f1 %>%\n",
    "    mutate(full_time = A_FTLF == 1) %>%\n",
    "    mutate(part_time = A_FTLF == 0)\n",
    "head(person_f2)\n",
    "\n",
    "#person_f2$full_time\n",
    "\n",
    "person_full_time  <- person_f1 %>%\n",
    "    filter(A_FTLF != 0)\n",
    "\n",
    "person_full_time  <- person_full_time[sample(nrow(person_full_time), 1000), ]\n",
    "\n",
    "\n",
    "person_part_time  <- person_f1 %>%\n",
    "    filter(A_FTLF != 1)\n",
    "\n",
    "person_part_time  <- person_part_time[sample(nrow(person_part_time), 1000), ]\n",
    "\n",
    "#Use statesticle tests to compare them"
   ]
  },
  {
   "cell_type": "code",
   "execution_count": 67,
   "id": "c201d7b6",
   "metadata": {},
   "outputs": [
    {
     "data": {
      "text/html": [
       "<style>\n",
       ".list-inline {list-style: none; margin:0; padding: 0}\n",
       ".list-inline>li {display: inline-block}\n",
       ".list-inline>li:not(:last-child)::after {content: \"\\00b7\"; padding: 0 .5ex}\n",
       "</style>\n",
       "<ol class=list-inline><li>1000</li><li>3</li></ol>\n"
      ],
      "text/latex": [
       "\\begin{enumerate*}\n",
       "\\item 1000\n",
       "\\item 3\n",
       "\\end{enumerate*}\n"
      ],
      "text/markdown": [
       "1. 1000\n",
       "2. 3\n",
       "\n",
       "\n"
      ],
      "text/plain": [
       "[1] 1000    3"
      ]
     },
     "metadata": {},
     "output_type": "display_data"
    },
    {
     "data": {
      "text/html": [
       "<style>\n",
       ".list-inline {list-style: none; margin:0; padding: 0}\n",
       ".list-inline>li {display: inline-block}\n",
       ".list-inline>li:not(:last-child)::after {content: \"\\00b7\"; padding: 0 .5ex}\n",
       "</style>\n",
       "<ol class=list-inline><li>1000</li><li>3</li></ol>\n"
      ],
      "text/latex": [
       "\\begin{enumerate*}\n",
       "\\item 1000\n",
       "\\item 3\n",
       "\\end{enumerate*}\n"
      ],
      "text/markdown": [
       "1. 1000\n",
       "2. 3\n",
       "\n",
       "\n"
      ],
      "text/plain": [
       "[1] 1000    3"
      ]
     },
     "metadata": {},
     "output_type": "display_data"
    }
   ],
   "source": [
    "#Checking dims\n",
    "\n",
    "person_full_time %>%\n",
    "dim()\n",
    "\n",
    "person_part_time %>%\n",
    "dim()"
   ]
  },
  {
   "cell_type": "code",
   "execution_count": 68,
   "id": "7088d800",
   "metadata": {},
   "outputs": [
    {
     "data": {
      "image/png": "[encoded data removed]",
      "text/plain": [
       "plot without title"
      ]
     },
     "metadata": {
      "image/png": {
       "height": 420,
       "width": 420
      }
     },
     "output_type": "display_data"
    },
    {
     "data": {
      "image/png": "[encoded data removed]",
      "text/plain": [
       "plot without title"
      ]
     },
     "metadata": {
      "image/png": {
       "height": 420,
       "width": 420
      }
     },
     "output_type": "display_data"
    }
   ],
   "source": [
    "#Plotting train sets\n",
    "\n",
    "gg_ft  <- ggplot(data = person_full_time, aes(A_GRSWK)) +\n",
    "    geom_density() +\n",
    "    labs(x = \"Gross Weekly Pay\", title = \"Weekly Pay of Full Time Employees\")\n",
    "\n",
    "gg_ft\n",
    "\n",
    "\n",
    "gg_pt  <- ggplot(data = person_part_time, aes(A_GRSWK)) +\n",
    "    geom_density() +\n",
    "    labs(x = \"Gross Weekly Pay\", title = \"Weekly Pay of Part Time Employees\")\n",
    "\n",
    "gg_pt"
   ]
  },
  {
   "cell_type": "code",
   "execution_count": 69,
   "id": "061bfda5",
   "metadata": {},
   "outputs": [
    {
     "data": {
      "text/plain": [
       "\n",
       "\tWilcoxon rank sum test with continuity correction\n",
       "\n",
       "data:  full_time_gross_income and part_time_gross_income\n",
       "W = 901746, p-value < 2.2e-16\n",
       "alternative hypothesis: true location shift is greater than 0\n"
      ]
     },
     "metadata": {},
     "output_type": "display_data"
    }
   ],
   "source": [
    "full_time_gross_income = person_full_time$A_GRSWK\n",
    "part_time_gross_income = person_part_time$A_GRSWK\n",
    "\n",
    "#wilcox.test(full_time_gross_income, part_time_gross_income, alternative = \"two.sided\")\n",
    "wilcox.test(full_time_gross_income, part_time_gross_income, alternative = \"greater\") #x, full time gross income, is > y, part time gross income"
   ]
  },
  {
   "cell_type": "code",
   "execution_count": 47,
   "id": "4276c1b2",
   "metadata": {},
   "outputs": [
    {
     "data": {
      "text/plain": [
       "            Length Class  Mode     \n",
       "statistic   1      -none- numeric  \n",
       "parameter   0      -none- NULL     \n",
       "p.value     1      -none- numeric  \n",
       "null.value  1      -none- numeric  \n",
       "alternative 1      -none- character\n",
       "method      1      -none- character\n",
       "data.name   1      -none- character"
      ]
     },
     "metadata": {},
     "output_type": "display_data"
    }
   ],
   "source": []
  },
  {
   "cell_type": "code",
   "execution_count": null,
   "id": "c63710e8",
   "metadata": {},
   "outputs": [],
   "source": []
  }
 ],
 "metadata": {
  "kernelspec": {
   "display_name": "R",
   "language": "R",
   "name": "ir"
  },
  "language_info": {
   "codemirror_mode": "r",
   "file_extension": ".r",
   "mimetype": "text/x-r-source",
   "name": "R",
   "pygments_lexer": "r",
   "version": "4.3.0"
  }
 },
 "nbformat": 4,
 "nbformat_minor": 5
}
