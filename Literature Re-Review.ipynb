{
 "cells": [
  {
   "cell_type": "markdown",
   "id": "a3fcae25",
   "metadata": {},
   "source": [
    "# Literature Re-Review\n",
    "\n",
    "* A New Model of Social Class? Findings from the BBC’s Great British Class Survey Experiment\n",
    "https://journals.sagepub.com/doi/full/10.1177/0038038513481128\n",
    "\n",
    "    * British Sociocultural Association\n",
    "    * 4/2/2013\n",
    "\n",
    "* COVID-19 Pandemic Pinches Finances of America’s Lower- and Middle-Income Families\n",
    "https://www.pewresearch.org/social-trends/wp-content/uploads/sites/3/2022/04/PSDT_04.19.22_covid.finances_report.pdf\n",
    "\n",
    "    * Pew Research Center\n",
    "    * 4/20/2022"
   ]
  },
  {
   "cell_type": "code",
   "execution_count": null,
   "id": "9c234cb3",
   "metadata": {},
   "outputs": [],
   "source": []
  }
 ],
 "metadata": {
  "kernelspec": {
   "display_name": "R",
   "language": "R",
   "name": "ir"
  },
  "language_info": {
   "codemirror_mode": "r",
   "file_extension": ".r",
   "mimetype": "text/x-r-source",
   "name": "R",
   "pygments_lexer": "r",
   "version": "4.3.0"
  }
 },
 "nbformat": 4,
 "nbformat_minor": 5
}
